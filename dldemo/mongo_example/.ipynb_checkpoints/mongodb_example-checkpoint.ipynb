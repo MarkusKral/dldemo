{
 "cells": [
  {
   "cell_type": "markdown",
   "metadata": {},
   "source": [
    "Import of the pymongo distribution"
   ]
  },
  {
   "cell_type": "code",
   "execution_count": 1,
   "metadata": {},
   "outputs": [],
   "source": [
    "import pymongo"
   ]
  },
  {
   "cell_type": "markdown",
   "metadata": {},
   "source": [
    "Making a Connection with MongoClient"
   ]
  },
  {
   "cell_type": "code",
   "execution_count": 2,
   "metadata": {},
   "outputs": [],
   "source": [
    "client = pymongo.MongoClient('localhost', 27017, username = \"core\", password = \"654321\")"
   ]
  },
  {
   "cell_type": "markdown",
   "metadata": {},
   "source": [
    "List of all existing databases"
   ]
  },
  {
   "cell_type": "code",
   "execution_count": 3,
   "metadata": {},
   "outputs": [
    {
     "data": {
      "text/plain": [
       "['admin',\n",
       " 'brandinvestor',\n",
       " 'brandinvestor4',\n",
       " 'brandinvestor_test',\n",
       " 'config',\n",
       " 'core3dev',\n",
       " 'core4dev',\n",
       " 'database',\n",
       " 'deichmann4',\n",
       " 'dldemo',\n",
       " 'local',\n",
       " 'placetel',\n",
       " 'salesadvisor',\n",
       " 'test']"
      ]
     },
     "execution_count": 3,
     "metadata": {},
     "output_type": "execute_result"
    }
   ],
   "source": [
    "client.list_database_names()"
   ]
  },
  {
   "cell_type": "markdown",
   "metadata": {},
   "source": [
    "Instantiating a database object"
   ]
  },
  {
   "cell_type": "code",
   "execution_count": 4,
   "metadata": {},
   "outputs": [],
   "source": [
    "db = client['db_test']"
   ]
  },
  {
   "cell_type": "markdown",
   "metadata": {},
   "source": [
    "Instantianting a collection object"
   ]
  },
  {
   "cell_type": "code",
   "execution_count": 5,
   "metadata": {},
   "outputs": [],
   "source": [
    "coll = db['coll_test']"
   ]
  },
  {
   "cell_type": "markdown",
   "metadata": {},
   "source": [
    "Creation of a python dictionary"
   ]
  },
  {
   "cell_type": "code",
   "execution_count": 6,
   "metadata": {},
   "outputs": [],
   "source": [
    "dic = {\n",
    "       'first_name': 'Peter', \n",
    "       'last_name': 'Pan', \n",
    "       'age': 26,\n",
    "       'gender' : 'm',\n",
    "       'ages_of_children' : [10, 12], \n",
    "       'grades' : {'skiing' : 1, 'biking' : 5}, \n",
    "      }\n",
    "    "
   ]
  },
  {
   "cell_type": "markdown",
   "metadata": {},
   "source": [
    "Insertion of the data into mongo collection - Creation of a document within mongodb"
   ]
  },
  {
   "cell_type": "code",
   "execution_count": 7,
   "metadata": {},
   "outputs": [
    {
     "data": {
      "text/plain": [
       "<pymongo.results.InsertOneResult at 0x7f47486a7c00>"
      ]
     },
     "execution_count": 7,
     "metadata": {},
     "output_type": "execute_result"
    }
   ],
   "source": [
    "coll.insert_one(dic)"
   ]
  },
  {
   "cell_type": "markdown",
   "metadata": {},
   "source": [
    "Count the documents within the collection"
   ]
  },
  {
   "cell_type": "code",
   "execution_count": 12,
   "metadata": {},
   "outputs": [
    {
     "data": {
      "text/plain": [
       "2"
      ]
     },
     "execution_count": 12,
     "metadata": {},
     "output_type": "execute_result"
    }
   ],
   "source": [
    "coll.count_documents({})"
   ]
  },
  {
   "cell_type": "markdown",
   "metadata": {},
   "source": [
    "Find the document within the mongo collection"
   ]
  },
  {
   "cell_type": "code",
   "execution_count": 13,
   "metadata": {},
   "outputs": [],
   "source": [
    "dic_new = coll.find_one({})"
   ]
  },
  {
   "cell_type": "code",
   "execution_count": 14,
   "metadata": {},
   "outputs": [
    {
     "data": {
      "text/plain": [
       "{'_id': ObjectId('5dd7d3ef8649564aa01036c1'),\n",
       " 'age': 26,\n",
       " 'ages_of_children': [10, 12],\n",
       " 'first_name': 'Peter',\n",
       " 'gender': 'm',\n",
       " 'grades': {'biking': 5, 'skiing': 1},\n",
       " 'last_name': 'Pan'}"
      ]
     },
     "execution_count": 14,
     "metadata": {},
     "output_type": "execute_result"
    }
   ],
   "source": [
    "dic_new"
   ]
  },
  {
   "cell_type": "markdown",
   "metadata": {},
   "source": [
    "Deletion of all documents within the collection"
   ]
  },
  {
   "cell_type": "code",
   "execution_count": 15,
   "metadata": {},
   "outputs": [
    {
     "data": {
      "text/plain": [
       "<pymongo.results.DeleteResult at 0x7f46180b1e08>"
      ]
     },
     "execution_count": 15,
     "metadata": {},
     "output_type": "execute_result"
    }
   ],
   "source": [
    "coll.delete_many({})"
   ]
  },
  {
   "cell_type": "markdown",
   "metadata": {},
   "source": [
    "Make sure the collection is empty"
   ]
  },
  {
   "cell_type": "code",
   "execution_count": 16,
   "metadata": {},
   "outputs": [
    {
     "data": {
      "text/plain": [
       "0"
      ]
     },
     "execution_count": 16,
     "metadata": {},
     "output_type": "execute_result"
    }
   ],
   "source": [
    "coll.count_documents({})"
   ]
  },
  {
   "cell_type": "code",
   "execution_count": 18,
   "metadata": {},
   "outputs": [],
   "source": [
    "coll.find_one({})"
   ]
  },
  {
   "cell_type": "markdown",
   "metadata": {},
   "source": [
    "Verschachtelte Strukturen"
   ]
  },
  {
   "cell_type": "code",
   "execution_count": 19,
   "metadata": {},
   "outputs": [],
   "source": [
    "dic1 = {\n",
    "       'first_name': 'Max', \n",
    "       'last_name': 'Mustermann', \n",
    "       'age': 26,\n",
    "       'gender' : 'm',\n",
    "       'ages_of_children' : [10, 12], \n",
    "       'grades' : {'skiing' : 1, 'biking' : 5}, \n",
    "      }"
   ]
  },
  {
   "cell_type": "code",
   "execution_count": 20,
   "metadata": {},
   "outputs": [],
   "source": [
    "dic2 = {\n",
    "       'first_name': 'Peter', \n",
    "       'last_name': 'Pan', \n",
    "       'age': 26,\n",
    "       'gender' : 'm',\n",
    "       'ages_of_children' : [10, 12], \n",
    "       'grades' : {'skiing' : 1, 'biking' : 5},\n",
    "       'dic1' : dic1,\n",
    "       'list' : [1, 'Ich bin ein String', 0.234, dic1]\n",
    "      }"
   ]
  },
  {
   "cell_type": "code",
   "execution_count": 22,
   "metadata": {},
   "outputs": [
    {
     "ename": "DuplicateKeyError",
     "evalue": "E11000 duplicate key error collection: driverlicense.test index: _id_ dup key: { : ObjectId('5dd7d5668649564aa01036c3') }",
     "output_type": "error",
     "traceback": [
      "\u001b[0;31m---------------------------------------------------------------------------\u001b[0m",
      "\u001b[0;31mDuplicateKeyError\u001b[0m                         Traceback (most recent call last)",
      "\u001b[0;32m<ipython-input-22-dabd02f2281f>\u001b[0m in \u001b[0;36m<module>\u001b[0;34m\u001b[0m\n\u001b[0;32m----> 1\u001b[0;31m \u001b[0mcoll\u001b[0m\u001b[0;34m.\u001b[0m\u001b[0minsert_one\u001b[0m\u001b[0;34m(\u001b[0m\u001b[0mdic2\u001b[0m\u001b[0;34m)\u001b[0m\u001b[0;34m\u001b[0m\u001b[0m\n\u001b[0m",
      "\u001b[0;32m~/Development/BI/core4.dev/commercial4/.venv/lib/python3.5/site-packages/pymongo/collection.py\u001b[0m in \u001b[0;36minsert_one\u001b[0;34m(self, document, bypass_document_validation, session)\u001b[0m\n\u001b[1;32m    696\u001b[0m                          \u001b[0mwrite_concern\u001b[0m\u001b[0;34m=\u001b[0m\u001b[0mwrite_concern\u001b[0m\u001b[0;34m,\u001b[0m\u001b[0;34m\u001b[0m\u001b[0m\n\u001b[1;32m    697\u001b[0m                          \u001b[0mbypass_doc_val\u001b[0m\u001b[0;34m=\u001b[0m\u001b[0mbypass_document_validation\u001b[0m\u001b[0;34m,\u001b[0m\u001b[0;34m\u001b[0m\u001b[0m\n\u001b[0;32m--> 698\u001b[0;31m                          session=session),\n\u001b[0m\u001b[1;32m    699\u001b[0m             write_concern.acknowledged)\n\u001b[1;32m    700\u001b[0m \u001b[0;34m\u001b[0m\u001b[0m\n",
      "\u001b[0;32m~/Development/BI/core4.dev/commercial4/.venv/lib/python3.5/site-packages/pymongo/collection.py\u001b[0m in \u001b[0;36m_insert\u001b[0;34m(self, docs, ordered, check_keys, manipulate, write_concern, op_id, bypass_doc_val, session)\u001b[0m\n\u001b[1;32m    610\u001b[0m             return self._insert_one(\n\u001b[1;32m    611\u001b[0m                 \u001b[0mdocs\u001b[0m\u001b[0;34m,\u001b[0m \u001b[0mordered\u001b[0m\u001b[0;34m,\u001b[0m \u001b[0mcheck_keys\u001b[0m\u001b[0;34m,\u001b[0m \u001b[0mmanipulate\u001b[0m\u001b[0;34m,\u001b[0m \u001b[0mwrite_concern\u001b[0m\u001b[0;34m,\u001b[0m \u001b[0mop_id\u001b[0m\u001b[0;34m,\u001b[0m\u001b[0;34m\u001b[0m\u001b[0m\n\u001b[0;32m--> 612\u001b[0;31m                 bypass_doc_val, session)\n\u001b[0m\u001b[1;32m    613\u001b[0m \u001b[0;34m\u001b[0m\u001b[0m\n\u001b[1;32m    614\u001b[0m         \u001b[0mids\u001b[0m \u001b[0;34m=\u001b[0m \u001b[0;34m[\u001b[0m\u001b[0;34m]\u001b[0m\u001b[0;34m\u001b[0m\u001b[0m\n",
      "\u001b[0;32m~/Development/BI/core4.dev/commercial4/.venv/lib/python3.5/site-packages/pymongo/collection.py\u001b[0m in \u001b[0;36m_insert_one\u001b[0;34m(self, doc, ordered, check_keys, manipulate, write_concern, op_id, bypass_doc_val, session)\u001b[0m\n\u001b[1;32m    598\u001b[0m \u001b[0;34m\u001b[0m\u001b[0m\n\u001b[1;32m    599\u001b[0m         self.__database.client._retryable_write(\n\u001b[0;32m--> 600\u001b[0;31m             acknowledged, _insert_command, session)\n\u001b[0m\u001b[1;32m    601\u001b[0m \u001b[0;34m\u001b[0m\u001b[0m\n\u001b[1;32m    602\u001b[0m         \u001b[0;32mif\u001b[0m \u001b[0;32mnot\u001b[0m \u001b[0misinstance\u001b[0m\u001b[0;34m(\u001b[0m\u001b[0mdoc\u001b[0m\u001b[0;34m,\u001b[0m \u001b[0mRawBSONDocument\u001b[0m\u001b[0;34m)\u001b[0m\u001b[0;34m:\u001b[0m\u001b[0;34m\u001b[0m\u001b[0m\n",
      "\u001b[0;32m~/Development/BI/core4.dev/commercial4/.venv/lib/python3.5/site-packages/pymongo/mongo_client.py\u001b[0m in \u001b[0;36m_retryable_write\u001b[0;34m(self, retryable, func, session)\u001b[0m\n\u001b[1;32m   1490\u001b[0m         \u001b[0;34m\"\"\"Internal retryable write helper.\"\"\"\u001b[0m\u001b[0;34m\u001b[0m\u001b[0m\n\u001b[1;32m   1491\u001b[0m         \u001b[0;32mwith\u001b[0m \u001b[0mself\u001b[0m\u001b[0;34m.\u001b[0m\u001b[0m_tmp_session\u001b[0m\u001b[0;34m(\u001b[0m\u001b[0msession\u001b[0m\u001b[0;34m)\u001b[0m \u001b[0;32mas\u001b[0m \u001b[0ms\u001b[0m\u001b[0;34m:\u001b[0m\u001b[0;34m\u001b[0m\u001b[0m\n\u001b[0;32m-> 1492\u001b[0;31m             \u001b[0;32mreturn\u001b[0m \u001b[0mself\u001b[0m\u001b[0;34m.\u001b[0m\u001b[0m_retry_with_session\u001b[0m\u001b[0;34m(\u001b[0m\u001b[0mretryable\u001b[0m\u001b[0;34m,\u001b[0m \u001b[0mfunc\u001b[0m\u001b[0;34m,\u001b[0m \u001b[0ms\u001b[0m\u001b[0;34m,\u001b[0m \u001b[0;32mNone\u001b[0m\u001b[0;34m)\u001b[0m\u001b[0;34m\u001b[0m\u001b[0m\n\u001b[0m\u001b[1;32m   1493\u001b[0m \u001b[0;34m\u001b[0m\u001b[0m\n\u001b[1;32m   1494\u001b[0m     \u001b[0;32mdef\u001b[0m \u001b[0m_reset_server\u001b[0m\u001b[0;34m(\u001b[0m\u001b[0mself\u001b[0m\u001b[0;34m,\u001b[0m \u001b[0maddress\u001b[0m\u001b[0;34m)\u001b[0m\u001b[0;34m:\u001b[0m\u001b[0;34m\u001b[0m\u001b[0m\n",
      "\u001b[0;32m~/Development/BI/core4.dev/commercial4/.venv/lib/python3.5/site-packages/pymongo/mongo_client.py\u001b[0m in \u001b[0;36m_retry_with_session\u001b[0;34m(self, retryable, func, session, bulk)\u001b[0m\n\u001b[1;32m   1383\u001b[0m                             \u001b[0;32mraise\u001b[0m \u001b[0mlast_error\u001b[0m\u001b[0;34m\u001b[0m\u001b[0m\n\u001b[1;32m   1384\u001b[0m                         \u001b[0mretryable\u001b[0m \u001b[0;34m=\u001b[0m \u001b[0;32mFalse\u001b[0m\u001b[0;34m\u001b[0m\u001b[0m\n\u001b[0;32m-> 1385\u001b[0;31m                     \u001b[0;32mreturn\u001b[0m \u001b[0mfunc\u001b[0m\u001b[0;34m(\u001b[0m\u001b[0msession\u001b[0m\u001b[0;34m,\u001b[0m \u001b[0msock_info\u001b[0m\u001b[0;34m,\u001b[0m \u001b[0mretryable\u001b[0m\u001b[0;34m)\u001b[0m\u001b[0;34m\u001b[0m\u001b[0m\n\u001b[0m\u001b[1;32m   1386\u001b[0m             \u001b[0;32mexcept\u001b[0m \u001b[0mServerSelectionTimeoutError\u001b[0m\u001b[0;34m:\u001b[0m\u001b[0;34m\u001b[0m\u001b[0m\n\u001b[1;32m   1387\u001b[0m                 \u001b[0;32mif\u001b[0m \u001b[0mis_retrying\u001b[0m\u001b[0;34m(\u001b[0m\u001b[0;34m)\u001b[0m\u001b[0;34m:\u001b[0m\u001b[0;34m\u001b[0m\u001b[0m\n",
      "\u001b[0;32m~/Development/BI/core4.dev/commercial4/.venv/lib/python3.5/site-packages/pymongo/collection.py\u001b[0m in \u001b[0;36m_insert_command\u001b[0;34m(session, sock_info, retryable_write)\u001b[0m\n\u001b[1;32m    595\u001b[0m                 retryable_write=retryable_write)\n\u001b[1;32m    596\u001b[0m \u001b[0;34m\u001b[0m\u001b[0m\n\u001b[0;32m--> 597\u001b[0;31m             \u001b[0m_check_write_command_response\u001b[0m\u001b[0;34m(\u001b[0m\u001b[0mresult\u001b[0m\u001b[0;34m)\u001b[0m\u001b[0;34m\u001b[0m\u001b[0m\n\u001b[0m\u001b[1;32m    598\u001b[0m \u001b[0;34m\u001b[0m\u001b[0m\n\u001b[1;32m    599\u001b[0m         self.__database.client._retryable_write(\n",
      "\u001b[0;32m~/Development/BI/core4.dev/commercial4/.venv/lib/python3.5/site-packages/pymongo/helpers.py\u001b[0m in \u001b[0;36m_check_write_command_response\u001b[0;34m(result)\u001b[0m\n\u001b[1;32m    219\u001b[0m     \u001b[0mwrite_errors\u001b[0m \u001b[0;34m=\u001b[0m \u001b[0mresult\u001b[0m\u001b[0;34m.\u001b[0m\u001b[0mget\u001b[0m\u001b[0;34m(\u001b[0m\u001b[0;34m\"writeErrors\"\u001b[0m\u001b[0;34m)\u001b[0m\u001b[0;34m\u001b[0m\u001b[0m\n\u001b[1;32m    220\u001b[0m     \u001b[0;32mif\u001b[0m \u001b[0mwrite_errors\u001b[0m\u001b[0;34m:\u001b[0m\u001b[0;34m\u001b[0m\u001b[0m\n\u001b[0;32m--> 221\u001b[0;31m         \u001b[0m_raise_last_write_error\u001b[0m\u001b[0;34m(\u001b[0m\u001b[0mwrite_errors\u001b[0m\u001b[0;34m)\u001b[0m\u001b[0;34m\u001b[0m\u001b[0m\n\u001b[0m\u001b[1;32m    222\u001b[0m \u001b[0;34m\u001b[0m\u001b[0m\n\u001b[1;32m    223\u001b[0m     \u001b[0merror\u001b[0m \u001b[0;34m=\u001b[0m \u001b[0mresult\u001b[0m\u001b[0;34m.\u001b[0m\u001b[0mget\u001b[0m\u001b[0;34m(\u001b[0m\u001b[0;34m\"writeConcernError\"\u001b[0m\u001b[0;34m)\u001b[0m\u001b[0;34m\u001b[0m\u001b[0m\n",
      "\u001b[0;32m~/Development/BI/core4.dev/commercial4/.venv/lib/python3.5/site-packages/pymongo/helpers.py\u001b[0m in \u001b[0;36m_raise_last_write_error\u001b[0;34m(write_errors)\u001b[0m\n\u001b[1;32m    200\u001b[0m     \u001b[0merror\u001b[0m \u001b[0;34m=\u001b[0m \u001b[0mwrite_errors\u001b[0m\u001b[0;34m[\u001b[0m\u001b[0;34m-\u001b[0m\u001b[0;36m1\u001b[0m\u001b[0;34m]\u001b[0m\u001b[0;34m\u001b[0m\u001b[0m\n\u001b[1;32m    201\u001b[0m     \u001b[0;32mif\u001b[0m \u001b[0merror\u001b[0m\u001b[0;34m.\u001b[0m\u001b[0mget\u001b[0m\u001b[0;34m(\u001b[0m\u001b[0;34m\"code\"\u001b[0m\u001b[0;34m)\u001b[0m \u001b[0;34m==\u001b[0m \u001b[0;36m11000\u001b[0m\u001b[0;34m:\u001b[0m\u001b[0;34m\u001b[0m\u001b[0m\n\u001b[0;32m--> 202\u001b[0;31m         \u001b[0;32mraise\u001b[0m \u001b[0mDuplicateKeyError\u001b[0m\u001b[0;34m(\u001b[0m\u001b[0merror\u001b[0m\u001b[0;34m.\u001b[0m\u001b[0mget\u001b[0m\u001b[0;34m(\u001b[0m\u001b[0;34m\"errmsg\"\u001b[0m\u001b[0;34m)\u001b[0m\u001b[0;34m,\u001b[0m \u001b[0;36m11000\u001b[0m\u001b[0;34m,\u001b[0m \u001b[0merror\u001b[0m\u001b[0;34m)\u001b[0m\u001b[0;34m\u001b[0m\u001b[0m\n\u001b[0m\u001b[1;32m    203\u001b[0m     \u001b[0;32mraise\u001b[0m \u001b[0mWriteError\u001b[0m\u001b[0;34m(\u001b[0m\u001b[0merror\u001b[0m\u001b[0;34m.\u001b[0m\u001b[0mget\u001b[0m\u001b[0;34m(\u001b[0m\u001b[0;34m\"errmsg\"\u001b[0m\u001b[0;34m)\u001b[0m\u001b[0;34m,\u001b[0m \u001b[0merror\u001b[0m\u001b[0;34m.\u001b[0m\u001b[0mget\u001b[0m\u001b[0;34m(\u001b[0m\u001b[0;34m\"code\"\u001b[0m\u001b[0;34m)\u001b[0m\u001b[0;34m,\u001b[0m \u001b[0merror\u001b[0m\u001b[0;34m)\u001b[0m\u001b[0;34m\u001b[0m\u001b[0m\n\u001b[1;32m    204\u001b[0m \u001b[0;34m\u001b[0m\u001b[0m\n",
      "\u001b[0;31mDuplicateKeyError\u001b[0m: E11000 duplicate key error collection: driverlicense.test index: _id_ dup key: { : ObjectId('5dd7d5668649564aa01036c3') }"
     ]
    }
   ],
   "source": [
    "coll.insert_one(dic2)"
   ]
  },
  {
   "cell_type": "code",
   "execution_count": 24,
   "metadata": {},
   "outputs": [
    {
     "data": {
      "text/plain": [
       "<pymongo.results.DeleteResult at 0x7f46180ba848>"
      ]
     },
     "execution_count": 24,
     "metadata": {},
     "output_type": "execute_result"
    }
   ],
   "source": [
    "coll.delete_many({})"
   ]
  },
  {
   "cell_type": "markdown",
   "metadata": {},
   "source": [
    "Creation of a list of dictionaries in python"
   ]
  },
  {
   "cell_type": "code",
   "execution_count": 25,
   "metadata": {},
   "outputs": [],
   "source": [
    "list_of_dics = [\n",
    "                 {\n",
    "                   'first_name': 'Peter', \n",
    "                   'last_name': 'Pan', \n",
    "                   'age': 26,\n",
    "                   'gender' : 'm',\n",
    "                   'ages_of_children' : [10, 12], \n",
    "                   'grades' : {'skiing' : 1, 'biking' : 5}, \n",
    "                  },\n",
    "                  {\n",
    "                   'first_name': 'Marie', \n",
    "                   'last_name': 'Curie', \n",
    "                   'age': 25,\n",
    "                   'gender' : 'f',\n",
    "                   'ages_of_children' : [13], \n",
    "                   'grades' : {'skiing' : 5, 'biking' : 2}, \n",
    "                  },\n",
    "                  {\n",
    "                   'first_name': 'Julius', \n",
    "                   'last_name': 'Cäsar', \n",
    "                   'age': 29,\n",
    "                   'gender' : 'm',\n",
    "                   'ages_of_children' : [7,7,7], \n",
    "                   'grades' : {'skiing' : 3, 'biking' : 4}, \n",
    "                  },\n",
    "                  { \n",
    "                   'first_name': 'Hans', \n",
    "                   'last_name': 'Dampf', \n",
    "                   'age': 29,\n",
    "                   'gender' : 'm',\n",
    "                   'ages_of_children' : [0], \n",
    "                   'grades' : {'skiing' : 6, 'biking' : 6}, \n",
    "                  }\n",
    "                ]\n",
    "    "
   ]
  },
  {
   "cell_type": "code",
   "execution_count": 28,
   "metadata": {},
   "outputs": [
    {
     "data": {
      "text/plain": [
       "[{'_id': ObjectId('5dd7d5f88649564aa01036c4'),\n",
       "  'age': 26,\n",
       "  'ages_of_children': [10, 12],\n",
       "  'first_name': 'Peter',\n",
       "  'gender': 'm',\n",
       "  'grades': {'biking': 5, 'skiing': 1},\n",
       "  'last_name': 'Pan'},\n",
       " {'_id': ObjectId('5dd7d5f88649564aa01036c5'),\n",
       "  'age': 25,\n",
       "  'ages_of_children': [13],\n",
       "  'first_name': 'Marie',\n",
       "  'gender': 'f',\n",
       "  'grades': {'biking': 2, 'skiing': 5},\n",
       "  'last_name': 'Curie'},\n",
       " {'_id': ObjectId('5dd7d5f88649564aa01036c6'),\n",
       "  'age': 29,\n",
       "  'ages_of_children': [7, 7, 7],\n",
       "  'first_name': 'Julius',\n",
       "  'gender': 'm',\n",
       "  'grades': {'biking': 4, 'skiing': 3},\n",
       "  'last_name': 'Cäsar'},\n",
       " {'_id': ObjectId('5dd7d5f88649564aa01036c7'),\n",
       "  'age': 29,\n",
       "  'ages_of_children': [0],\n",
       "  'first_name': 'Hans',\n",
       "  'gender': 'm',\n",
       "  'grades': {'biking': 6, 'skiing': 6},\n",
       "  'last_name': 'Dampf'}]"
      ]
     },
     "execution_count": 28,
     "metadata": {},
     "output_type": "execute_result"
    }
   ],
   "source": [
    "list_of_dics"
   ]
  },
  {
   "cell_type": "markdown",
   "metadata": {},
   "source": [
    "Insert severeal documents at once in the mongodb collection"
   ]
  },
  {
   "cell_type": "code",
   "execution_count": 29,
   "metadata": {},
   "outputs": [
    {
     "ename": "BulkWriteError",
     "evalue": "batch op errors occurred",
     "output_type": "error",
     "traceback": [
      "\u001b[0;31m---------------------------------------------------------------------------\u001b[0m",
      "\u001b[0;31mBulkWriteError\u001b[0m                            Traceback (most recent call last)",
      "\u001b[0;32m<ipython-input-29-d0769b5d0b52>\u001b[0m in \u001b[0;36m<module>\u001b[0;34m\u001b[0m\n\u001b[0;32m----> 1\u001b[0;31m \u001b[0mcoll\u001b[0m\u001b[0;34m.\u001b[0m\u001b[0minsert_many\u001b[0m\u001b[0;34m(\u001b[0m\u001b[0mlist_of_dics\u001b[0m\u001b[0;34m)\u001b[0m\u001b[0;34m\u001b[0m\u001b[0m\n\u001b[0m",
      "\u001b[0;32m~/Development/BI/core4.dev/commercial4/.venv/lib/python3.5/site-packages/pymongo/collection.py\u001b[0m in \u001b[0;36minsert_many\u001b[0;34m(self, documents, ordered, bypass_document_validation, session)\u001b[0m\n\u001b[1;32m    756\u001b[0m         \u001b[0mblk\u001b[0m \u001b[0;34m=\u001b[0m \u001b[0m_Bulk\u001b[0m\u001b[0;34m(\u001b[0m\u001b[0mself\u001b[0m\u001b[0;34m,\u001b[0m \u001b[0mordered\u001b[0m\u001b[0;34m,\u001b[0m \u001b[0mbypass_document_validation\u001b[0m\u001b[0;34m)\u001b[0m\u001b[0;34m\u001b[0m\u001b[0m\n\u001b[1;32m    757\u001b[0m         \u001b[0mblk\u001b[0m\u001b[0;34m.\u001b[0m\u001b[0mops\u001b[0m \u001b[0;34m=\u001b[0m \u001b[0;34m[\u001b[0m\u001b[0mdoc\u001b[0m \u001b[0;32mfor\u001b[0m \u001b[0mdoc\u001b[0m \u001b[0;32min\u001b[0m \u001b[0mgen\u001b[0m\u001b[0;34m(\u001b[0m\u001b[0;34m)\u001b[0m\u001b[0;34m]\u001b[0m\u001b[0;34m\u001b[0m\u001b[0m\n\u001b[0;32m--> 758\u001b[0;31m         \u001b[0mblk\u001b[0m\u001b[0;34m.\u001b[0m\u001b[0mexecute\u001b[0m\u001b[0;34m(\u001b[0m\u001b[0mwrite_concern\u001b[0m\u001b[0;34m,\u001b[0m \u001b[0msession\u001b[0m\u001b[0;34m=\u001b[0m\u001b[0msession\u001b[0m\u001b[0;34m)\u001b[0m\u001b[0;34m\u001b[0m\u001b[0m\n\u001b[0m\u001b[1;32m    759\u001b[0m         \u001b[0;32mreturn\u001b[0m \u001b[0mInsertManyResult\u001b[0m\u001b[0;34m(\u001b[0m\u001b[0minserted_ids\u001b[0m\u001b[0;34m,\u001b[0m \u001b[0mwrite_concern\u001b[0m\u001b[0;34m.\u001b[0m\u001b[0macknowledged\u001b[0m\u001b[0;34m)\u001b[0m\u001b[0;34m\u001b[0m\u001b[0m\n\u001b[1;32m    760\u001b[0m \u001b[0;34m\u001b[0m\u001b[0m\n",
      "\u001b[0;32m~/Development/BI/core4.dev/commercial4/.venv/lib/python3.5/site-packages/pymongo/bulk.py\u001b[0m in \u001b[0;36mexecute\u001b[0;34m(self, write_concern, session)\u001b[0m\n\u001b[1;32m    509\u001b[0m                 \u001b[0mself\u001b[0m\u001b[0;34m.\u001b[0m\u001b[0mexecute_no_results\u001b[0m\u001b[0;34m(\u001b[0m\u001b[0msock_info\u001b[0m\u001b[0;34m,\u001b[0m \u001b[0mgenerator\u001b[0m\u001b[0;34m)\u001b[0m\u001b[0;34m\u001b[0m\u001b[0m\n\u001b[1;32m    510\u001b[0m         \u001b[0;32melse\u001b[0m\u001b[0;34m:\u001b[0m\u001b[0;34m\u001b[0m\u001b[0m\n\u001b[0;32m--> 511\u001b[0;31m             \u001b[0;32mreturn\u001b[0m \u001b[0mself\u001b[0m\u001b[0;34m.\u001b[0m\u001b[0mexecute_command\u001b[0m\u001b[0;34m(\u001b[0m\u001b[0mgenerator\u001b[0m\u001b[0;34m,\u001b[0m \u001b[0mwrite_concern\u001b[0m\u001b[0;34m,\u001b[0m \u001b[0msession\u001b[0m\u001b[0;34m)\u001b[0m\u001b[0;34m\u001b[0m\u001b[0m\n\u001b[0m\u001b[1;32m    512\u001b[0m \u001b[0;34m\u001b[0m\u001b[0m\n\u001b[1;32m    513\u001b[0m \u001b[0;34m\u001b[0m\u001b[0m\n",
      "\u001b[0;32m~/Development/BI/core4.dev/commercial4/.venv/lib/python3.5/site-packages/pymongo/bulk.py\u001b[0m in \u001b[0;36mexecute_command\u001b[0;34m(self, generator, write_concern, session)\u001b[0m\n\u001b[1;32m    347\u001b[0m \u001b[0;34m\u001b[0m\u001b[0m\n\u001b[1;32m    348\u001b[0m         \u001b[0;32mif\u001b[0m \u001b[0mfull_result\u001b[0m\u001b[0;34m[\u001b[0m\u001b[0;34m\"writeErrors\"\u001b[0m\u001b[0;34m]\u001b[0m \u001b[0;32mor\u001b[0m \u001b[0mfull_result\u001b[0m\u001b[0;34m[\u001b[0m\u001b[0;34m\"writeConcernErrors\"\u001b[0m\u001b[0;34m]\u001b[0m\u001b[0;34m:\u001b[0m\u001b[0;34m\u001b[0m\u001b[0m\n\u001b[0;32m--> 349\u001b[0;31m             \u001b[0m_raise_bulk_write_error\u001b[0m\u001b[0;34m(\u001b[0m\u001b[0mfull_result\u001b[0m\u001b[0;34m)\u001b[0m\u001b[0;34m\u001b[0m\u001b[0m\n\u001b[0m\u001b[1;32m    350\u001b[0m         \u001b[0;32mreturn\u001b[0m \u001b[0mfull_result\u001b[0m\u001b[0;34m\u001b[0m\u001b[0m\n\u001b[1;32m    351\u001b[0m \u001b[0;34m\u001b[0m\u001b[0m\n",
      "\u001b[0;32m~/Development/BI/core4.dev/commercial4/.venv/lib/python3.5/site-packages/pymongo/bulk.py\u001b[0m in \u001b[0;36m_raise_bulk_write_error\u001b[0;34m(full_result)\u001b[0m\n\u001b[1;32m    138\u001b[0m         full_result[\"writeErrors\"].sort(\n\u001b[1;32m    139\u001b[0m             key=lambda error: error[\"index\"])\n\u001b[0;32m--> 140\u001b[0;31m     \u001b[0;32mraise\u001b[0m \u001b[0mBulkWriteError\u001b[0m\u001b[0;34m(\u001b[0m\u001b[0mfull_result\u001b[0m\u001b[0;34m)\u001b[0m\u001b[0;34m\u001b[0m\u001b[0m\n\u001b[0m\u001b[1;32m    141\u001b[0m \u001b[0;34m\u001b[0m\u001b[0m\n\u001b[1;32m    142\u001b[0m \u001b[0;34m\u001b[0m\u001b[0m\n",
      "\u001b[0;31mBulkWriteError\u001b[0m: batch op errors occurred"
     ]
    }
   ],
   "source": [
    "coll.insert_many(list_of_dics)"
   ]
  },
  {
   "cell_type": "markdown",
   "metadata": {},
   "source": [
    "Count the documents within the collection"
   ]
  },
  {
   "cell_type": "code",
   "execution_count": 30,
   "metadata": {},
   "outputs": [
    {
     "data": {
      "text/plain": [
       "4"
      ]
     },
     "execution_count": 30,
     "metadata": {},
     "output_type": "execute_result"
    }
   ],
   "source": [
    "coll.count_documents({})\n"
   ]
  },
  {
   "cell_type": "markdown",
   "metadata": {},
   "source": [
    "Create a mongo curser to find all documents within the collection"
   ]
  },
  {
   "cell_type": "code",
   "execution_count": 31,
   "metadata": {},
   "outputs": [],
   "source": [
    "cursor = coll.find({})"
   ]
  },
  {
   "cell_type": "code",
   "execution_count": 32,
   "metadata": {},
   "outputs": [],
   "source": [
    "import pprint"
   ]
  },
  {
   "cell_type": "code",
   "execution_count": 33,
   "metadata": {},
   "outputs": [
    {
     "name": "stdout",
     "output_type": "stream",
     "text": [
      "{'_id': ObjectId('5dd7d5f88649564aa01036c4'),\n",
      " 'age': 26,\n",
      " 'ages_of_children': [10, 12],\n",
      " 'first_name': 'Peter',\n",
      " 'gender': 'm',\n",
      " 'grades': {'biking': 5, 'skiing': 1},\n",
      " 'last_name': 'Pan'}\n",
      "{'_id': ObjectId('5dd7d5f88649564aa01036c5'),\n",
      " 'age': 25,\n",
      " 'ages_of_children': [13],\n",
      " 'first_name': 'Marie',\n",
      " 'gender': 'f',\n",
      " 'grades': {'biking': 2, 'skiing': 5},\n",
      " 'last_name': 'Curie'}\n",
      "{'_id': ObjectId('5dd7d5f88649564aa01036c6'),\n",
      " 'age': 29,\n",
      " 'ages_of_children': [7, 7, 7],\n",
      " 'first_name': 'Julius',\n",
      " 'gender': 'm',\n",
      " 'grades': {'biking': 4, 'skiing': 3},\n",
      " 'last_name': 'Cäsar'}\n",
      "{'_id': ObjectId('5dd7d5f88649564aa01036c7'),\n",
      " 'age': 29,\n",
      " 'ages_of_children': [0],\n",
      " 'first_name': 'Hans',\n",
      " 'gender': 'm',\n",
      " 'grades': {'biking': 6, 'skiing': 6},\n",
      " 'last_name': 'Dampf'}\n"
     ]
    }
   ],
   "source": [
    "for dic in cursor:\n",
    "    pprint.pprint(dic)"
   ]
  },
  {
   "cell_type": "markdown",
   "metadata": {},
   "source": [
    "Insert all documents into a python list"
   ]
  },
  {
   "cell_type": "code",
   "execution_count": 34,
   "metadata": {},
   "outputs": [],
   "source": [
    "list_of_documents_new = list(coll.find({}))"
   ]
  },
  {
   "cell_type": "code",
   "execution_count": 35,
   "metadata": {},
   "outputs": [
    {
     "data": {
      "text/plain": [
       "[{'_id': ObjectId('5dd7d5f88649564aa01036c4'),\n",
       "  'age': 26,\n",
       "  'ages_of_children': [10, 12],\n",
       "  'first_name': 'Peter',\n",
       "  'gender': 'm',\n",
       "  'grades': {'biking': 5, 'skiing': 1},\n",
       "  'last_name': 'Pan'},\n",
       " {'_id': ObjectId('5dd7d5f88649564aa01036c5'),\n",
       "  'age': 25,\n",
       "  'ages_of_children': [13],\n",
       "  'first_name': 'Marie',\n",
       "  'gender': 'f',\n",
       "  'grades': {'biking': 2, 'skiing': 5},\n",
       "  'last_name': 'Curie'},\n",
       " {'_id': ObjectId('5dd7d5f88649564aa01036c6'),\n",
       "  'age': 29,\n",
       "  'ages_of_children': [7, 7, 7],\n",
       "  'first_name': 'Julius',\n",
       "  'gender': 'm',\n",
       "  'grades': {'biking': 4, 'skiing': 3},\n",
       "  'last_name': 'Cäsar'},\n",
       " {'_id': ObjectId('5dd7d5f88649564aa01036c7'),\n",
       "  'age': 29,\n",
       "  'ages_of_children': [0],\n",
       "  'first_name': 'Hans',\n",
       "  'gender': 'm',\n",
       "  'grades': {'biking': 6, 'skiing': 6},\n",
       "  'last_name': 'Dampf'}]"
      ]
     },
     "execution_count": 35,
     "metadata": {},
     "output_type": "execute_result"
    }
   ],
   "source": [
    "list_of_documents_new"
   ]
  },
  {
   "cell_type": "markdown",
   "metadata": {},
   "source": [
    "Convert this list into a pandas DataFrame"
   ]
  },
  {
   "cell_type": "code",
   "execution_count": 36,
   "metadata": {},
   "outputs": [],
   "source": [
    "import pandas as pd"
   ]
  },
  {
   "cell_type": "code",
   "execution_count": 37,
   "metadata": {},
   "outputs": [],
   "source": [
    "df = pd.DataFrame(list_of_documents_new)"
   ]
  },
  {
   "cell_type": "code",
   "execution_count": 38,
   "metadata": {},
   "outputs": [
    {
     "data": {
      "text/html": [
       "<div>\n",
       "<style scoped>\n",
       "    .dataframe tbody tr th:only-of-type {\n",
       "        vertical-align: middle;\n",
       "    }\n",
       "\n",
       "    .dataframe tbody tr th {\n",
       "        vertical-align: top;\n",
       "    }\n",
       "\n",
       "    .dataframe thead th {\n",
       "        text-align: right;\n",
       "    }\n",
       "</style>\n",
       "<table border=\"1\" class=\"dataframe\">\n",
       "  <thead>\n",
       "    <tr style=\"text-align: right;\">\n",
       "      <th></th>\n",
       "      <th>_id</th>\n",
       "      <th>age</th>\n",
       "      <th>ages_of_children</th>\n",
       "      <th>first_name</th>\n",
       "      <th>gender</th>\n",
       "      <th>grades</th>\n",
       "      <th>last_name</th>\n",
       "    </tr>\n",
       "  </thead>\n",
       "  <tbody>\n",
       "    <tr>\n",
       "      <td>0</td>\n",
       "      <td>5dd7d5f88649564aa01036c4</td>\n",
       "      <td>26</td>\n",
       "      <td>[10, 12]</td>\n",
       "      <td>Peter</td>\n",
       "      <td>m</td>\n",
       "      <td>{'skiing': 1, 'biking': 5}</td>\n",
       "      <td>Pan</td>\n",
       "    </tr>\n",
       "    <tr>\n",
       "      <td>1</td>\n",
       "      <td>5dd7d5f88649564aa01036c5</td>\n",
       "      <td>25</td>\n",
       "      <td>[13]</td>\n",
       "      <td>Marie</td>\n",
       "      <td>f</td>\n",
       "      <td>{'skiing': 5, 'biking': 2}</td>\n",
       "      <td>Curie</td>\n",
       "    </tr>\n",
       "    <tr>\n",
       "      <td>2</td>\n",
       "      <td>5dd7d5f88649564aa01036c6</td>\n",
       "      <td>29</td>\n",
       "      <td>[7, 7, 7]</td>\n",
       "      <td>Julius</td>\n",
       "      <td>m</td>\n",
       "      <td>{'skiing': 3, 'biking': 4}</td>\n",
       "      <td>Cäsar</td>\n",
       "    </tr>\n",
       "    <tr>\n",
       "      <td>3</td>\n",
       "      <td>5dd7d5f88649564aa01036c7</td>\n",
       "      <td>29</td>\n",
       "      <td>[0]</td>\n",
       "      <td>Hans</td>\n",
       "      <td>m</td>\n",
       "      <td>{'skiing': 6, 'biking': 6}</td>\n",
       "      <td>Dampf</td>\n",
       "    </tr>\n",
       "  </tbody>\n",
       "</table>\n",
       "</div>"
      ],
      "text/plain": [
       "                        _id  age ages_of_children first_name gender  \\\n",
       "0  5dd7d5f88649564aa01036c4   26         [10, 12]      Peter      m   \n",
       "1  5dd7d5f88649564aa01036c5   25             [13]      Marie      f   \n",
       "2  5dd7d5f88649564aa01036c6   29        [7, 7, 7]     Julius      m   \n",
       "3  5dd7d5f88649564aa01036c7   29              [0]       Hans      m   \n",
       "\n",
       "                       grades last_name  \n",
       "0  {'skiing': 1, 'biking': 5}       Pan  \n",
       "1  {'skiing': 5, 'biking': 2}     Curie  \n",
       "2  {'skiing': 3, 'biking': 4}     Cäsar  \n",
       "3  {'skiing': 6, 'biking': 6}     Dampf  "
      ]
     },
     "execution_count": 38,
     "metadata": {},
     "output_type": "execute_result"
    }
   ],
   "source": [
    "df"
   ]
  },
  {
   "cell_type": "markdown",
   "metadata": {},
   "source": [
    "Query specific documents within the collection by using a filter"
   ]
  },
  {
   "cell_type": "code",
   "execution_count": 39,
   "metadata": {},
   "outputs": [],
   "source": [
    "# filter\n",
    "query = {'last_name' : 'Curie'}\n",
    "cursor = coll.find(query)"
   ]
  },
  {
   "cell_type": "code",
   "execution_count": 40,
   "metadata": {},
   "outputs": [
    {
     "data": {
      "text/plain": [
       "{'_id': ObjectId('5dd7d5f88649564aa01036c5'),\n",
       " 'age': 25,\n",
       " 'ages_of_children': [13],\n",
       " 'first_name': 'Marie',\n",
       " 'gender': 'f',\n",
       " 'grades': {'biking': 2, 'skiing': 5},\n",
       " 'last_name': 'Curie'}"
      ]
     },
     "execution_count": 40,
     "metadata": {},
     "output_type": "execute_result"
    }
   ],
   "source": [
    "cursor.next()"
   ]
  },
  {
   "cell_type": "code",
   "execution_count": 41,
   "metadata": {},
   "outputs": [
    {
     "data": {
      "text/plain": [
       "[{'_id': ObjectId('5dd7d5f88649564aa01036c4'),\n",
       "  'age': 26,\n",
       "  'ages_of_children': [10, 12],\n",
       "  'first_name': 'Peter',\n",
       "  'gender': 'm',\n",
       "  'grades': {'biking': 5, 'skiing': 1},\n",
       "  'last_name': 'Pan'},\n",
       " {'_id': ObjectId('5dd7d5f88649564aa01036c6'),\n",
       "  'age': 29,\n",
       "  'ages_of_children': [7, 7, 7],\n",
       "  'first_name': 'Julius',\n",
       "  'gender': 'm',\n",
       "  'grades': {'biking': 4, 'skiing': 3},\n",
       "  'last_name': 'Cäsar'},\n",
       " {'_id': ObjectId('5dd7d5f88649564aa01036c7'),\n",
       "  'age': 29,\n",
       "  'ages_of_children': [0],\n",
       "  'first_name': 'Hans',\n",
       "  'gender': 'm',\n",
       "  'grades': {'biking': 6, 'skiing': 6},\n",
       "  'last_name': 'Dampf'}]"
      ]
     },
     "execution_count": 41,
     "metadata": {},
     "output_type": "execute_result"
    }
   ],
   "source": [
    "list(coll.find({'gender' : 'm'}))"
   ]
  },
  {
   "cell_type": "code",
   "execution_count": 42,
   "metadata": {},
   "outputs": [
    {
     "data": {
      "text/plain": [
       "[{'_id': ObjectId('5dd7d5f88649564aa01036c4'),\n",
       "  'age': 26,\n",
       "  'ages_of_children': [10, 12],\n",
       "  'first_name': 'Peter',\n",
       "  'gender': 'm',\n",
       "  'grades': {'biking': 5, 'skiing': 1},\n",
       "  'last_name': 'Pan'},\n",
       " {'_id': ObjectId('5dd7d5f88649564aa01036c5'),\n",
       "  'age': 25,\n",
       "  'ages_of_children': [13],\n",
       "  'first_name': 'Marie',\n",
       "  'gender': 'f',\n",
       "  'grades': {'biking': 2, 'skiing': 5},\n",
       "  'last_name': 'Curie'}]"
      ]
     },
     "execution_count": 42,
     "metadata": {},
     "output_type": "execute_result"
    }
   ],
   "source": [
    "list(coll.find({'age' : {\"$lt\" : 27}}))"
   ]
  },
  {
   "cell_type": "code",
   "execution_count": 43,
   "metadata": {},
   "outputs": [
    {
     "data": {
      "text/plain": [
       "[{'_id': ObjectId('5dd7d5f88649564aa01036c4'),\n",
       "  'age': 26,\n",
       "  'ages_of_children': [10, 12],\n",
       "  'first_name': 'Peter',\n",
       "  'gender': 'm',\n",
       "  'grades': {'biking': 5, 'skiing': 1},\n",
       "  'last_name': 'Pan'},\n",
       " {'_id': ObjectId('5dd7d5f88649564aa01036c5'),\n",
       "  'age': 25,\n",
       "  'ages_of_children': [13],\n",
       "  'first_name': 'Marie',\n",
       "  'gender': 'f',\n",
       "  'grades': {'biking': 2, 'skiing': 5},\n",
       "  'last_name': 'Curie'},\n",
       " {'_id': ObjectId('5dd7d5f88649564aa01036c6'),\n",
       "  'age': 29,\n",
       "  'ages_of_children': [7, 7, 7],\n",
       "  'first_name': 'Julius',\n",
       "  'gender': 'm',\n",
       "  'grades': {'biking': 4, 'skiing': 3},\n",
       "  'last_name': 'Cäsar'}]"
      ]
     },
     "execution_count": 43,
     "metadata": {},
     "output_type": "execute_result"
    }
   ],
   "source": [
    "list(coll.find({'grades.skiing' : {\"$lt\" : 6}}))"
   ]
  },
  {
   "cell_type": "code",
   "execution_count": 44,
   "metadata": {},
   "outputs": [
    {
     "data": {
      "text/plain": [
       "[{'_id': ObjectId('5dd7d5f88649564aa01036c4'),\n",
       "  'age': 26,\n",
       "  'ages_of_children': [10, 12],\n",
       "  'first_name': 'Peter',\n",
       "  'gender': 'm',\n",
       "  'grades': {'biking': 5, 'skiing': 1},\n",
       "  'last_name': 'Pan'},\n",
       " {'_id': ObjectId('5dd7d5f88649564aa01036c6'),\n",
       "  'age': 29,\n",
       "  'ages_of_children': [7, 7, 7],\n",
       "  'first_name': 'Julius',\n",
       "  'gender': 'm',\n",
       "  'grades': {'biking': 4, 'skiing': 3},\n",
       "  'last_name': 'Cäsar'}]"
      ]
     },
     "execution_count": 44,
     "metadata": {},
     "output_type": "execute_result"
    }
   ],
   "source": [
    "list(coll.find({'grades.skiing' : {\"$lt\" : 6}, 'age' : {\"$gt\" : 25} }))"
   ]
  },
  {
   "cell_type": "markdown",
   "metadata": {},
   "source": [
    "Updating documents"
   ]
  },
  {
   "cell_type": "code",
   "execution_count": 45,
   "metadata": {},
   "outputs": [
    {
     "data": {
      "text/plain": [
       "<pymongo.results.UpdateResult at 0x7f45df1db148>"
      ]
     },
     "execution_count": 45,
     "metadata": {},
     "output_type": "execute_result"
    }
   ],
   "source": [
    "coll.update_many({}, {'$set' : {'hair_color' : 'blond'}})"
   ]
  },
  {
   "cell_type": "code",
   "execution_count": 46,
   "metadata": {
    "scrolled": true
   },
   "outputs": [
    {
     "data": {
      "text/plain": [
       "[{'_id': ObjectId('5dd7d5f88649564aa01036c4'),\n",
       "  'age': 26,\n",
       "  'ages_of_children': [10, 12],\n",
       "  'first_name': 'Peter',\n",
       "  'gender': 'm',\n",
       "  'grades': {'biking': 5, 'skiing': 1},\n",
       "  'hair_color': 'blond',\n",
       "  'last_name': 'Pan'},\n",
       " {'_id': ObjectId('5dd7d5f88649564aa01036c5'),\n",
       "  'age': 25,\n",
       "  'ages_of_children': [13],\n",
       "  'first_name': 'Marie',\n",
       "  'gender': 'f',\n",
       "  'grades': {'biking': 2, 'skiing': 5},\n",
       "  'hair_color': 'blond',\n",
       "  'last_name': 'Curie'},\n",
       " {'_id': ObjectId('5dd7d5f88649564aa01036c6'),\n",
       "  'age': 29,\n",
       "  'ages_of_children': [7, 7, 7],\n",
       "  'first_name': 'Julius',\n",
       "  'gender': 'm',\n",
       "  'grades': {'biking': 4, 'skiing': 3},\n",
       "  'hair_color': 'blond',\n",
       "  'last_name': 'Cäsar'},\n",
       " {'_id': ObjectId('5dd7d5f88649564aa01036c7'),\n",
       "  'age': 29,\n",
       "  'ages_of_children': [0],\n",
       "  'first_name': 'Hans',\n",
       "  'gender': 'm',\n",
       "  'grades': {'biking': 6, 'skiing': 6},\n",
       "  'hair_color': 'blond',\n",
       "  'last_name': 'Dampf'}]"
      ]
     },
     "execution_count": 46,
     "metadata": {},
     "output_type": "execute_result"
    }
   ],
   "source": [
    "list(coll.find({}))"
   ]
  },
  {
   "cell_type": "code",
   "execution_count": 47,
   "metadata": {},
   "outputs": [
    {
     "data": {
      "text/plain": [
       "<pymongo.results.UpdateResult at 0x7f45df1dbf08>"
      ]
     },
     "execution_count": 47,
     "metadata": {},
     "output_type": "execute_result"
    }
   ],
   "source": [
    "coll.update_many({}, {'$inc' : {'age' : 100}})"
   ]
  },
  {
   "cell_type": "code",
   "execution_count": 48,
   "metadata": {},
   "outputs": [
    {
     "data": {
      "text/plain": [
       "[{'_id': ObjectId('5dd7d5f88649564aa01036c4'),\n",
       "  'age': 126,\n",
       "  'ages_of_children': [10, 12],\n",
       "  'first_name': 'Peter',\n",
       "  'gender': 'm',\n",
       "  'grades': {'biking': 5, 'skiing': 1},\n",
       "  'hair_color': 'blond',\n",
       "  'last_name': 'Pan'},\n",
       " {'_id': ObjectId('5dd7d5f88649564aa01036c5'),\n",
       "  'age': 125,\n",
       "  'ages_of_children': [13],\n",
       "  'first_name': 'Marie',\n",
       "  'gender': 'f',\n",
       "  'grades': {'biking': 2, 'skiing': 5},\n",
       "  'hair_color': 'blond',\n",
       "  'last_name': 'Curie'},\n",
       " {'_id': ObjectId('5dd7d5f88649564aa01036c6'),\n",
       "  'age': 129,\n",
       "  'ages_of_children': [7, 7, 7],\n",
       "  'first_name': 'Julius',\n",
       "  'gender': 'm',\n",
       "  'grades': {'biking': 4, 'skiing': 3},\n",
       "  'hair_color': 'blond',\n",
       "  'last_name': 'Cäsar'},\n",
       " {'_id': ObjectId('5dd7d5f88649564aa01036c7'),\n",
       "  'age': 129,\n",
       "  'ages_of_children': [0],\n",
       "  'first_name': 'Hans',\n",
       "  'gender': 'm',\n",
       "  'grades': {'biking': 6, 'skiing': 6},\n",
       "  'hair_color': 'blond',\n",
       "  'last_name': 'Dampf'}]"
      ]
     },
     "execution_count": 48,
     "metadata": {},
     "output_type": "execute_result"
    }
   ],
   "source": [
    "list(coll.find({}))"
   ]
  },
  {
   "cell_type": "code",
   "execution_count": 49,
   "metadata": {},
   "outputs": [
    {
     "data": {
      "text/plain": [
       "datetime.datetime(2019, 11, 22, 13, 41, 52, 422323)"
      ]
     },
     "execution_count": 49,
     "metadata": {},
     "output_type": "execute_result"
    }
   ],
   "source": [
    "import datetime as dt\n",
    "from dateutil.relativedelta import relativedelta\n",
    "now = dt.datetime.now()\n",
    "now"
   ]
  },
  {
   "cell_type": "code",
   "execution_count": 50,
   "metadata": {},
   "outputs": [],
   "source": [
    "for doc in coll.find({}):\n",
    "    coll.update_one({'_id' : doc['_id']}, {'$set' : {'birthday' : now - relativedelta(years = doc['age'])}})   "
   ]
  },
  {
   "cell_type": "code",
   "execution_count": 51,
   "metadata": {},
   "outputs": [
    {
     "data": {
      "text/html": [
       "<div>\n",
       "<style scoped>\n",
       "    .dataframe tbody tr th:only-of-type {\n",
       "        vertical-align: middle;\n",
       "    }\n",
       "\n",
       "    .dataframe tbody tr th {\n",
       "        vertical-align: top;\n",
       "    }\n",
       "\n",
       "    .dataframe thead th {\n",
       "        text-align: right;\n",
       "    }\n",
       "</style>\n",
       "<table border=\"1\" class=\"dataframe\">\n",
       "  <thead>\n",
       "    <tr style=\"text-align: right;\">\n",
       "      <th></th>\n",
       "      <th>_id</th>\n",
       "      <th>age</th>\n",
       "      <th>ages_of_children</th>\n",
       "      <th>birthday</th>\n",
       "      <th>first_name</th>\n",
       "      <th>gender</th>\n",
       "      <th>grades</th>\n",
       "      <th>hair_color</th>\n",
       "      <th>last_name</th>\n",
       "    </tr>\n",
       "  </thead>\n",
       "  <tbody>\n",
       "    <tr>\n",
       "      <td>0</td>\n",
       "      <td>5dd7d5f88649564aa01036c4</td>\n",
       "      <td>126</td>\n",
       "      <td>[10, 12]</td>\n",
       "      <td>1893-11-22 13:41:52.422</td>\n",
       "      <td>Peter</td>\n",
       "      <td>m</td>\n",
       "      <td>{'skiing': 1, 'biking': 5}</td>\n",
       "      <td>blond</td>\n",
       "      <td>Pan</td>\n",
       "    </tr>\n",
       "    <tr>\n",
       "      <td>1</td>\n",
       "      <td>5dd7d5f88649564aa01036c5</td>\n",
       "      <td>125</td>\n",
       "      <td>[13]</td>\n",
       "      <td>1894-11-22 13:41:52.422</td>\n",
       "      <td>Marie</td>\n",
       "      <td>f</td>\n",
       "      <td>{'skiing': 5, 'biking': 2}</td>\n",
       "      <td>blond</td>\n",
       "      <td>Curie</td>\n",
       "    </tr>\n",
       "    <tr>\n",
       "      <td>2</td>\n",
       "      <td>5dd7d5f88649564aa01036c6</td>\n",
       "      <td>129</td>\n",
       "      <td>[7, 7, 7]</td>\n",
       "      <td>1890-11-22 13:41:52.422</td>\n",
       "      <td>Julius</td>\n",
       "      <td>m</td>\n",
       "      <td>{'skiing': 3, 'biking': 4}</td>\n",
       "      <td>blond</td>\n",
       "      <td>Cäsar</td>\n",
       "    </tr>\n",
       "    <tr>\n",
       "      <td>3</td>\n",
       "      <td>5dd7d5f88649564aa01036c7</td>\n",
       "      <td>129</td>\n",
       "      <td>[0]</td>\n",
       "      <td>1890-11-22 13:41:52.422</td>\n",
       "      <td>Hans</td>\n",
       "      <td>m</td>\n",
       "      <td>{'skiing': 6, 'biking': 6}</td>\n",
       "      <td>blond</td>\n",
       "      <td>Dampf</td>\n",
       "    </tr>\n",
       "  </tbody>\n",
       "</table>\n",
       "</div>"
      ],
      "text/plain": [
       "                        _id  age ages_of_children                birthday  \\\n",
       "0  5dd7d5f88649564aa01036c4  126         [10, 12] 1893-11-22 13:41:52.422   \n",
       "1  5dd7d5f88649564aa01036c5  125             [13] 1894-11-22 13:41:52.422   \n",
       "2  5dd7d5f88649564aa01036c6  129        [7, 7, 7] 1890-11-22 13:41:52.422   \n",
       "3  5dd7d5f88649564aa01036c7  129              [0] 1890-11-22 13:41:52.422   \n",
       "\n",
       "  first_name gender                      grades hair_color last_name  \n",
       "0      Peter      m  {'skiing': 1, 'biking': 5}      blond       Pan  \n",
       "1      Marie      f  {'skiing': 5, 'biking': 2}      blond     Curie  \n",
       "2     Julius      m  {'skiing': 3, 'biking': 4}      blond     Cäsar  \n",
       "3       Hans      m  {'skiing': 6, 'biking': 6}      blond     Dampf  "
      ]
     },
     "execution_count": 51,
     "metadata": {},
     "output_type": "execute_result"
    }
   ],
   "source": [
    "pd.DataFrame(list(coll.find({})))"
   ]
  },
  {
   "cell_type": "markdown",
   "metadata": {},
   "source": [
    "Removing documents"
   ]
  },
  {
   "cell_type": "code",
   "execution_count": 52,
   "metadata": {},
   "outputs": [
    {
     "data": {
      "text/plain": [
       "<pymongo.results.DeleteResult at 0x7f45df1e1d48>"
      ]
     },
     "execution_count": 52,
     "metadata": {},
     "output_type": "execute_result"
    }
   ],
   "source": [
    "coll.delete_many({'age' : 129})"
   ]
  },
  {
   "cell_type": "code",
   "execution_count": 53,
   "metadata": {},
   "outputs": [
    {
     "data": {
      "text/plain": [
       "[{'_id': ObjectId('5dd7d5f88649564aa01036c4'),\n",
       "  'age': 126,\n",
       "  'ages_of_children': [10, 12],\n",
       "  'birthday': datetime.datetime(1893, 11, 22, 13, 41, 52, 422000),\n",
       "  'first_name': 'Peter',\n",
       "  'gender': 'm',\n",
       "  'grades': {'biking': 5, 'skiing': 1},\n",
       "  'hair_color': 'blond',\n",
       "  'last_name': 'Pan'},\n",
       " {'_id': ObjectId('5dd7d5f88649564aa01036c5'),\n",
       "  'age': 125,\n",
       "  'ages_of_children': [13],\n",
       "  'birthday': datetime.datetime(1894, 11, 22, 13, 41, 52, 422000),\n",
       "  'first_name': 'Marie',\n",
       "  'gender': 'f',\n",
       "  'grades': {'biking': 2, 'skiing': 5},\n",
       "  'hair_color': 'blond',\n",
       "  'last_name': 'Curie'}]"
      ]
     },
     "execution_count": 53,
     "metadata": {},
     "output_type": "execute_result"
    }
   ],
   "source": [
    "list(coll.find({}))"
   ]
  },
  {
   "cell_type": "code",
   "execution_count": 54,
   "metadata": {},
   "outputs": [
    {
     "data": {
      "text/plain": [
       "<pymongo.results.UpdateResult at 0x7f45df1df388>"
      ]
     },
     "execution_count": 54,
     "metadata": {},
     "output_type": "execute_result"
    }
   ],
   "source": [
    "coll.update_many({'first_name' : 'Marie'},{\"$push\" : {'ages_of_children' : 2}})"
   ]
  },
  {
   "cell_type": "code",
   "execution_count": 55,
   "metadata": {},
   "outputs": [
    {
     "data": {
      "text/plain": [
       "[{'_id': ObjectId('5dd7d5f88649564aa01036c5'),\n",
       "  'age': 125,\n",
       "  'ages_of_children': [13, 2],\n",
       "  'birthday': datetime.datetime(1894, 11, 22, 13, 41, 52, 422000),\n",
       "  'first_name': 'Marie',\n",
       "  'gender': 'f',\n",
       "  'grades': {'biking': 2, 'skiing': 5},\n",
       "  'hair_color': 'blond',\n",
       "  'last_name': 'Curie'}]"
      ]
     },
     "execution_count": 55,
     "metadata": {},
     "output_type": "execute_result"
    }
   ],
   "source": [
    "list(coll.find({'first_name' : 'Marie'}))"
   ]
  },
  {
   "cell_type": "code",
   "execution_count": 56,
   "metadata": {},
   "outputs": [
    {
     "data": {
      "text/plain": [
       "<pymongo.results.UpdateResult at 0x7f45df1e5548>"
      ]
     },
     "execution_count": 56,
     "metadata": {},
     "output_type": "execute_result"
    }
   ],
   "source": [
    "coll.update_many({'first_name' : 'Marie'},{\"$push\" : {'ages_of_children' : { \"$each\": [ 11, 14 ] } }})"
   ]
  },
  {
   "cell_type": "code",
   "execution_count": 57,
   "metadata": {},
   "outputs": [
    {
     "data": {
      "text/plain": [
       "{'_id': ObjectId('5dd7d5f88649564aa01036c5'),\n",
       " 'age': 125,\n",
       " 'ages_of_children': [13, 2, 11, 14],\n",
       " 'birthday': datetime.datetime(1894, 11, 22, 13, 41, 52, 422000),\n",
       " 'first_name': 'Marie',\n",
       " 'gender': 'f',\n",
       " 'grades': {'biking': 2, 'skiing': 5},\n",
       " 'hair_color': 'blond',\n",
       " 'last_name': 'Curie'}"
      ]
     },
     "execution_count": 57,
     "metadata": {},
     "output_type": "execute_result"
    }
   ],
   "source": [
    "coll.find_one({'first_name' : 'Marie'})"
   ]
  },
  {
   "cell_type": "code",
   "execution_count": 58,
   "metadata": {},
   "outputs": [
    {
     "data": {
      "text/plain": [
       "<pymongo.results.UpdateResult at 0x7f45df1dbfc8>"
      ]
     },
     "execution_count": 58,
     "metadata": {},
     "output_type": "execute_result"
    }
   ],
   "source": [
    "coll.update_one({'first_name' : 'Marie'},{\"$push\" : {'ages_of_children' : 14}})"
   ]
  },
  {
   "cell_type": "code",
   "execution_count": 59,
   "metadata": {},
   "outputs": [
    {
     "data": {
      "text/plain": [
       "{'_id': ObjectId('5dd7d5f88649564aa01036c5'),\n",
       " 'age': 125,\n",
       " 'ages_of_children': [13, 2, 11, 14, 14],\n",
       " 'birthday': datetime.datetime(1894, 11, 22, 13, 41, 52, 422000),\n",
       " 'first_name': 'Marie',\n",
       " 'gender': 'f',\n",
       " 'grades': {'biking': 2, 'skiing': 5},\n",
       " 'hair_color': 'blond',\n",
       " 'last_name': 'Curie'}"
      ]
     },
     "execution_count": 59,
     "metadata": {},
     "output_type": "execute_result"
    }
   ],
   "source": [
    "coll.find_one({'first_name' : 'Marie'})"
   ]
  },
  {
   "cell_type": "code",
   "execution_count": 60,
   "metadata": {},
   "outputs": [
    {
     "data": {
      "text/plain": [
       "<pymongo.results.UpdateResult at 0x7f46180cb7c8>"
      ]
     },
     "execution_count": 60,
     "metadata": {},
     "output_type": "execute_result"
    }
   ],
   "source": [
    "coll.update_one({'first_name' : 'Marie'},{\"$pull\" : {'ages_of_children' : 14}})"
   ]
  },
  {
   "cell_type": "code",
   "execution_count": 61,
   "metadata": {},
   "outputs": [
    {
     "data": {
      "text/plain": [
       "{'_id': ObjectId('5dd7d5f88649564aa01036c5'),\n",
       " 'age': 125,\n",
       " 'ages_of_children': [13, 2, 11],\n",
       " 'birthday': datetime.datetime(1894, 11, 22, 13, 41, 52, 422000),\n",
       " 'first_name': 'Marie',\n",
       " 'gender': 'f',\n",
       " 'grades': {'biking': 2, 'skiing': 5},\n",
       " 'hair_color': 'blond',\n",
       " 'last_name': 'Curie'}"
      ]
     },
     "execution_count": 61,
     "metadata": {},
     "output_type": "execute_result"
    }
   ],
   "source": [
    "coll.find_one({'first_name' : 'Marie'})"
   ]
  },
  {
   "cell_type": "code",
   "execution_count": 62,
   "metadata": {},
   "outputs": [
    {
     "data": {
      "text/plain": [
       "<pymongo.results.UpdateResult at 0x7f45df440708>"
      ]
     },
     "execution_count": 62,
     "metadata": {},
     "output_type": "execute_result"
    }
   ],
   "source": [
    "coll.update_one({'first_name' : 'Marie'},{\"$addToSet\" : {'ages_of_children' : 14}})"
   ]
  },
  {
   "cell_type": "code",
   "execution_count": 63,
   "metadata": {},
   "outputs": [
    {
     "data": {
      "text/plain": [
       "{'_id': ObjectId('5dd7d5f88649564aa01036c5'),\n",
       " 'age': 125,\n",
       " 'ages_of_children': [13, 2, 11, 14],\n",
       " 'birthday': datetime.datetime(1894, 11, 22, 13, 41, 52, 422000),\n",
       " 'first_name': 'Marie',\n",
       " 'gender': 'f',\n",
       " 'grades': {'biking': 2, 'skiing': 5},\n",
       " 'hair_color': 'blond',\n",
       " 'last_name': 'Curie'}"
      ]
     },
     "execution_count": 63,
     "metadata": {},
     "output_type": "execute_result"
    }
   ],
   "source": [
    "coll.find_one({'first_name' : 'Marie'})"
   ]
  },
  {
   "cell_type": "code",
   "execution_count": 64,
   "metadata": {},
   "outputs": [
    {
     "data": {
      "text/plain": [
       "<pymongo.results.UpdateResult at 0x7f45df1e95c8>"
      ]
     },
     "execution_count": 64,
     "metadata": {},
     "output_type": "execute_result"
    }
   ],
   "source": [
    "coll.update_one({'first_name' : 'Marie'},{\"$addToSet\" : {'ages_of_children' : 14}})"
   ]
  },
  {
   "cell_type": "code",
   "execution_count": 65,
   "metadata": {},
   "outputs": [
    {
     "data": {
      "text/plain": [
       "{'_id': ObjectId('5dd7d5f88649564aa01036c5'),\n",
       " 'age': 125,\n",
       " 'ages_of_children': [13, 2, 11, 14],\n",
       " 'birthday': datetime.datetime(1894, 11, 22, 13, 41, 52, 422000),\n",
       " 'first_name': 'Marie',\n",
       " 'gender': 'f',\n",
       " 'grades': {'biking': 2, 'skiing': 5},\n",
       " 'hair_color': 'blond',\n",
       " 'last_name': 'Curie'}"
      ]
     },
     "execution_count": 65,
     "metadata": {},
     "output_type": "execute_result"
    }
   ],
   "source": [
    "coll.find_one({'first_name' : 'Marie'})"
   ]
  },
  {
   "cell_type": "markdown",
   "metadata": {},
   "source": [
    "Saving a file within a mongodb document"
   ]
  },
  {
   "cell_type": "code",
   "execution_count": 67,
   "metadata": {},
   "outputs": [],
   "source": [
    "filepath = '/media/sf_VB_Shared/Projekte/Driverlicense/example.xlsx'\n",
    "binary = open(filepath, \"rb\").read()\n",
    "dic = {\n",
    "       'filename':\"example.xlsx\",\n",
    "       'contents' : binary\n",
    "       }"
   ]
  },
  {
   "cell_type": "code",
   "execution_count": 68,
   "metadata": {},
   "outputs": [
    {
     "data": {
      "text/plain": [
       "<pymongo.results.InsertOneResult at 0x7f45df1e1588>"
      ]
     },
     "execution_count": 68,
     "metadata": {},
     "output_type": "execute_result"
    }
   ],
   "source": [
    "coll.delete_many({'filename':\"example.xlsx\"})\n",
    "coll.insert_one(dic)"
   ]
  },
  {
   "cell_type": "code",
   "execution_count": 69,
   "metadata": {},
   "outputs": [],
   "source": [
    "dic_new = coll.find_one({'filename':\"example.xlsx\"})"
   ]
  },
  {
   "cell_type": "code",
   "execution_count": 70,
   "metadata": {},
   "outputs": [
    {
     "data": {
      "text/plain": [
       "{'_id': ObjectId('5dd7d8da8649564aa01036c8'),\n",
       " 'contents': b'PK\\x03\\x04\\x14\\x00\\x06\\x00\\x08\\x00\\x00\\x00!\\x00b\\xee\\x9dh^\\x01\\x00\\x00\\x90\\x04\\x00\\x00\\x13\\x00\\x08\\x02[Content_Types].xml \\xa2\\x04\\x02(\\xa0\\x00\\x02\\x00\\x00\\x00\\x00\\x00\\x00\\x00\\x00\\x00\\x00\\x00\\x00\\x00\\x00\\x00\\x00\\x00\\x00\\x00\\x00\\x00\\x00\\x00\\x00\\x00\\x00\\x00\\x00\\x00\\x00\\x00\\x00\\x00\\x00\\x00\\x00\\x00\\x00\\x00\\x00\\x00\\x00\\x00\\x00\\x00\\x00\\x00\\x00\\x00\\x00\\x00\\x00\\x00\\x00\\x00\\x00\\x00\\x00\\x00\\x00\\x00\\x00\\x00\\x00\\x00\\x00\\x00\\x00\\x00\\x00\\x00\\x00\\x00\\x00\\x00\\x00\\x00\\x00\\x00\\x00\\x00\\x00\\x00\\x00\\x00\\x00\\x00\\x00\\x00\\x00\\x00\\x00\\x00\\x00\\x00\\x00\\x00\\x00\\x00\\x00\\x00\\x00\\x00\\x00\\x00\\x00\\x00\\x00\\x00\\x00\\x00\\x00\\x00\\x00\\x00\\x00\\x00\\x00\\x00\\x00\\x00\\x00\\x00\\x00\\x00\\x00\\x00\\x00\\x00\\x00\\x00\\x00\\x00\\x00\\x00\\x00\\x00\\x00\\x00\\x00\\x00\\x00\\x00\\x00\\x00\\x00\\x00\\x00\\x00\\x00\\x00\\x00\\x00\\x00\\x00\\x00\\x00\\x00\\x00\\x00\\x00\\x00\\x00\\x00\\x00\\x00\\x00\\x00\\x00\\x00\\x00\\x00\\x00\\x00\\x00\\x00\\x00\\x00\\x00\\x00\\x00\\x00\\x00\\x00\\x00\\x00\\x00\\x00\\x00\\x00\\x00\\x00\\x00\\x00\\x00\\x00\\x00\\x00\\x00\\x00\\x00\\x00\\x00\\x00\\x00\\x00\\x00\\x00\\x00\\x00\\x00\\x00\\x00\\x00\\x00\\x00\\x00\\x00\\x00\\x00\\x00\\x00\\x00\\x00\\x00\\x00\\x00\\x00\\x00\\x00\\x00\\x00\\x00\\x00\\x00\\x00\\x00\\x00\\x00\\x00\\x00\\x00\\x00\\x00\\x00\\x00\\x00\\x00\\x00\\x00\\x00\\x00\\x00\\x00\\x00\\x00\\x00\\x00\\x00\\x00\\x00\\x00\\x00\\x00\\x00\\x00\\x00\\x00\\x00\\x00\\x00\\x00\\x00\\x00\\x00\\x00\\x00\\x00\\x00\\x00\\x00\\x00\\x00\\x00\\x00\\x00\\x00\\x00\\x00\\x00\\x00\\x00\\x00\\x00\\x00\\x00\\x00\\x00\\x00\\x00\\x00\\x00\\x00\\x00\\x00\\x00\\x00\\x00\\x00\\x00\\x00\\x00\\x00\\x00\\x00\\x00\\x00\\x00\\x00\\x00\\x00\\x00\\x00\\x00\\x00\\x00\\x00\\x00\\x00\\x00\\x00\\x00\\x00\\x00\\x00\\x00\\x00\\x00\\x00\\x00\\x00\\x00\\x00\\x00\\x00\\x00\\x00\\x00\\x00\\x00\\x00\\x00\\x00\\x00\\x00\\x00\\x00\\x00\\x00\\x00\\x00\\x00\\x00\\x00\\x00\\x00\\x00\\x00\\x00\\x00\\x00\\x00\\x00\\x00\\x00\\x00\\x00\\x00\\x00\\x00\\x00\\x00\\x00\\x00\\x00\\x00\\x00\\x00\\x00\\x00\\x00\\x00\\x00\\x00\\x00\\x00\\x00\\x00\\x00\\x00\\x00\\x00\\x00\\x00\\x00\\x00\\x00\\x00\\x00\\x00\\x00\\x00\\x00\\x00\\x00\\x00\\x00\\x00\\x00\\x00\\x00\\x00\\x00\\x00\\x00\\x00\\x00\\x00\\x00\\x00\\x00\\x00\\x00\\x00\\x00\\x00\\x00\\x00\\x00\\x00\\x00\\x00\\x00\\x00\\x00\\x00\\x00\\x00\\x00\\x00\\x00\\x00\\x00\\x00\\x00\\x00\\x00\\x00\\x00\\x00\\x00\\x00\\x00\\x00\\x00\\x00\\x00\\x00\\x00\\x00\\x00\\x00\\x00\\x00\\x00\\x00\\x00\\x00\\x00\\x00\\x00\\x00\\x00\\x00\\x00\\x00\\x00\\x00\\x00\\x00\\x00\\x00\\x00\\x00\\x00\\x00\\x00\\x00\\x00\\x00\\x00\\x00\\x00\\x00\\x00\\x00\\x00\\x00\\x00\\x00\\x00\\x00\\xac\\x94\\xcbN\\xc30\\x10E\\xf7H\\xfcC\\xe4-J\\xdc\\xb2@\\x085\\xed\\x82\\xc7\\x12*Q>\\xc0\\xc4\\x93\\xc6\\xaac[\\x9eii\\xff\\x9e\\x89\\xfb\\x10B\\xa1\\x15j7\\xb1\\x12\\xcf\\xdc{2\\xf1\\xcdh\\xb2nm\\xb6\\x82\\x88\\xc6\\xbbR\\x0c\\x8b\\x81\\xc8\\xc0U^\\x1b7/\\xc5\\xc7\\xec%\\xbf\\x17\\x19\\x92rZY\\xef\\xa0\\x14\\x1b@1\\x19__\\x8df\\x9b\\x00\\x98q\\xb7\\xc3R4D\\xe1AJ\\xac\\x1ah\\x15\\x16>\\x80\\xe3\\x9d\\xda\\xc7V\\x11\\xdf\\xc6\\xb9\\x0c\\xaaZ\\xa89\\xc8\\xdb\\xc1\\xe0NV\\xde\\x118\\xca\\xa9\\xd3\\x10\\xe3\\xd1\\x13\\xd4ji){^\\xf3\\xe3-I\\x04\\x8b\"{\\xdc\\x16v^\\xa5P!XS)bR\\xb9r\\xfa\\x97K\\xbes(\\xb83\\xd5`c\\x02\\xde0\\x86\\x90\\xbd\\x0e\\xdd\\xce\\xdf\\x06\\xbb\\xbe7\\x1eM4\\x1a\\xb2\\xa9\\x8a\\xf4\\xaaZ\\xc6\\x90k+\\xbf|\\\\|z\\xbf(\\x8e\\x8b\\xf4P\\xfa\\xba6\\x15h_-[\\x9e@\\x81!\\x82\\xd2\\xd8\\x00Pk\\x8b\\xb4\\x16\\xad2n\\xcf}\\xc4?\\x15\\xa3L\\xcb\\xf0\\xc2 \\xdd\\xfb%\\xe1\\x13\\x1c\\xc4\\xdf\\x1bd\\xba\\x9e\\x8f\\x90dN\\x18\"m,\\xe0\\xa5\\xc7\\x9eDO97*\\x82~\\xa7\\xc8\\xc9\\xb88\\xc0O\\xedc\\x1c|n\\xa6\\xd1\\x07\\xe4\\x04E\\xf8\\xff\\x14\\xf6\\x11\\xe9\\xba\\xf3\\xc0B\\x10\\xc9\\xc0!$}\\x87\\xed\\xe0\\xc8\\xe9;{\\xec\\xd0\\xe5[\\x83\\xee\\xf1\\x96\\xe9\\x7f2\\xfe\\x06\\x00\\x00\\xff\\xff\\x03\\x00PK\\x03\\x04\\x14\\x00\\x06\\x00\\x08\\x00\\x00\\x00!\\x00\\xb5U0#\\xf4\\x00\\x00\\x00L\\x02\\x00\\x00\\x0b\\x00\\x08\\x02_rels/.rels \\xa2\\x04\\x02(\\xa0\\x00\\x02\\x00\\x00\\x00\\x00\\x00\\x00\\x00\\x00\\x00\\x00\\x00\\x00\\x00\\x00\\x00\\x00\\x00\\x00\\x00\\x00\\x00\\x00\\x00\\x00\\x00\\x00\\x00\\x00\\x00\\x00\\x00\\x00\\x00\\x00\\x00\\x00\\x00\\x00\\x00\\x00\\x00\\x00\\x00\\x00\\x00\\x00\\x00\\x00\\x00\\x00\\x00\\x00\\x00\\x00\\x00\\x00\\x00\\x00\\x00\\x00\\x00\\x00\\x00\\x00\\x00\\x00\\x00\\x00\\x00\\x00\\x00\\x00\\x00\\x00\\x00\\x00\\x00\\x00\\x00\\x00\\x00\\x00\\x00\\x00\\x00\\x00\\x00\\x00\\x00\\x00\\x00\\x00\\x00\\x00\\x00\\x00\\x00\\x00\\x00\\x00\\x00\\x00\\x00\\x00\\x00\\x00\\x00\\x00\\x00\\x00\\x00\\x00\\x00\\x00\\x00\\x00\\x00\\x00\\x00\\x00\\x00\\x00\\x00\\x00\\x00\\x00\\x00\\x00\\x00\\x00\\x00\\x00\\x00\\x00\\x00\\x00\\x00\\x00\\x00\\x00\\x00\\x00\\x00\\x00\\x00\\x00\\x00\\x00\\x00\\x00\\x00\\x00\\x00\\x00\\x00\\x00\\x00\\x00\\x00\\x00\\x00\\x00\\x00\\x00\\x00\\x00\\x00\\x00\\x00\\x00\\x00\\x00\\x00\\x00\\x00\\x00\\x00\\x00\\x00\\x00\\x00\\x00\\x00\\x00\\x00\\x00\\x00\\x00\\x00\\x00\\x00\\x00\\x00\\x00\\x00\\x00\\x00\\x00\\x00\\x00\\x00\\x00\\x00\\x00\\x00\\x00\\x00\\x00\\x00\\x00\\x00\\x00\\x00\\x00\\x00\\x00\\x00\\x00\\x00\\x00\\x00\\x00\\x00\\x00\\x00\\x00\\x00\\x00\\x00\\x00\\x00\\x00\\x00\\x00\\x00\\x00\\x00\\x00\\x00\\x00\\x00\\x00\\x00\\x00\\x00\\x00\\x00\\x00\\x00\\x00\\x00\\x00\\x00\\x00\\x00\\x00\\x00\\x00\\x00\\x00\\x00\\x00\\x00\\x00\\x00\\x00\\x00\\x00\\x00\\x00\\x00\\x00\\x00\\x00\\x00\\x00\\x00\\x00\\x00\\x00\\x00\\x00\\x00\\x00\\x00\\x00\\x00\\x00\\x00\\x00\\x00\\x00\\x00\\x00\\x00\\x00\\x00\\x00\\x00\\x00\\x00\\x00\\x00\\x00\\x00\\x00\\x00\\x00\\x00\\x00\\x00\\x00\\x00\\x00\\x00\\x00\\x00\\x00\\x00\\x00\\x00\\x00\\x00\\x00\\x00\\x00\\x00\\x00\\x00\\x00\\x00\\x00\\x00\\x00\\x00\\x00\\x00\\x00\\x00\\x00\\x00\\x00\\x00\\x00\\x00\\x00\\x00\\x00\\x00\\x00\\x00\\x00\\x00\\x00\\x00\\x00\\x00\\x00\\x00\\x00\\x00\\x00\\x00\\x00\\x00\\x00\\x00\\x00\\x00\\x00\\x00\\x00\\x00\\x00\\x00\\x00\\x00\\x00\\x00\\x00\\x00\\x00\\x00\\x00\\x00\\x00\\x00\\x00\\x00\\x00\\x00\\x00\\x00\\x00\\x00\\x00\\x00\\x00\\x00\\x00\\x00\\x00\\x00\\x00\\x00\\x00\\x00\\x00\\x00\\x00\\x00\\x00\\x00\\x00\\x00\\x00\\x00\\x00\\x00\\x00\\x00\\x00\\x00\\x00\\x00\\x00\\x00\\x00\\x00\\x00\\x00\\x00\\x00\\x00\\x00\\x00\\x00\\x00\\x00\\x00\\x00\\x00\\x00\\x00\\x00\\x00\\x00\\x00\\x00\\x00\\x00\\x00\\x00\\x00\\x00\\x00\\x00\\x00\\x00\\x00\\x00\\x00\\x00\\x00\\x00\\x00\\x00\\x00\\x00\\x00\\x00\\x00\\x00\\x00\\x00\\x00\\x00\\x00\\x00\\x00\\x00\\x00\\x00\\x00\\x00\\x00\\x00\\x00\\x00\\x00\\x00\\x00\\x00\\x00\\x00\\x00\\x00\\x00\\x00\\x00\\x00\\x00\\x00\\x00\\x00\\x00\\x00\\x00\\x00\\x00\\x00\\x00\\xac\\x92MO\\xc30\\x0c\\x86\\xefH\\xfc\\x87\\xc8\\xf7\\xd5\\xdd\\x90\\x10BKwAH\\xbb!T~\\x80I\\xdc\\x0f\\xb5\\x8d\\xa3$\\x1b\\xdd\\xbf\\'\\x1c\\x10T\\x1a\\x83\\x03G\\x7f\\xbd~\\xfc\\xca\\xdb\\xdd<\\x8d\\xea\\xc8!\\xf6\\xe24\\xac\\x8b\\x12\\x14;#\\xb6w\\xad\\x86\\x97\\xfaqu\\x07*&r\\x96Fq\\xac\\xe1\\xc4\\x11v\\xd5\\xf5\\xd5\\xf6\\x99GJy(v\\xbd\\x8f*\\xab\\xb8\\xa8\\xa1K\\xc9\\xdf#F\\xd3\\xf1D\\xb1\\x10\\xcf.W\\x1a\\t\\x13\\xa5\\x1c\\x86\\x16=\\x99\\x81Z\\xc6MY\\xdeb\\xf8\\xae\\x01\\xd5BS\\xed\\xad\\x86\\xb0\\xb77\\xa0\\xea\\x93\\xcf\\x9b\\x7f\\xd7\\x96\\xa6\\xe9\\r?\\x889L\\xec\\xd2\\x99\\x15\\xc8sbg\\xd9\\xae|\\xc8l!\\xf5\\xf9\\x1aUSh9i\\xb0b\\x9er:\"y_dl\\xc0\\xf3D\\x9b\\xbf\\x13\\xfd|-N\\x9c\\xc8R\"4\\x12\\xf82\\xcfG\\xc7%\\xa0\\xf5\\x7fZ\\xb44\\xf1\\xcb\\x9dy\\xc47\\t\\xc3\\xab\\xc8\\xf0\\xc9\\x82\\x8b\\x1f\\xa8\\xde\\x01\\x00\\x00\\xff\\xff\\x03\\x00PK\\x03\\x04\\x14\\x00\\x06\\x00\\x08\\x00\\x00\\x00!\\x00\\x81>\\x94\\x97\\xf3\\x00\\x00\\x00\\xba\\x02\\x00\\x00\\x1a\\x00\\x08\\x01xl/_rels/workbook.xml.rels \\xa2\\x04\\x01(\\xa0\\x00\\x01\\x00\\x00\\x00\\x00\\x00\\x00\\x00\\x00\\x00\\x00\\x00\\x00\\x00\\x00\\x00\\x00\\x00\\x00\\x00\\x00\\x00\\x00\\x00\\x00\\x00\\x00\\x00\\x00\\x00\\x00\\x00\\x00\\x00\\x00\\x00\\x00\\x00\\x00\\x00\\x00\\x00\\x00\\x00\\x00\\x00\\x00\\x00\\x00\\x00\\x00\\x00\\x00\\x00\\x00\\x00\\x00\\x00\\x00\\x00\\x00\\x00\\x00\\x00\\x00\\x00\\x00\\x00\\x00\\x00\\x00\\x00\\x00\\x00\\x00\\x00\\x00\\x00\\x00\\x00\\x00\\x00\\x00\\x00\\x00\\x00\\x00\\x00\\x00\\x00\\x00\\x00\\x00\\x00\\x00\\x00\\x00\\x00\\x00\\x00\\x00\\x00\\x00\\x00\\x00\\x00\\x00\\x00\\x00\\x00\\x00\\x00\\x00\\x00\\x00\\x00\\x00\\x00\\x00\\x00\\x00\\x00\\x00\\x00\\x00\\x00\\x00\\x00\\x00\\x00\\x00\\x00\\x00\\x00\\x00\\x00\\x00\\x00\\x00\\x00\\x00\\x00\\x00\\x00\\x00\\x00\\x00\\x00\\x00\\x00\\x00\\x00\\x00\\x00\\x00\\x00\\x00\\x00\\x00\\x00\\x00\\x00\\x00\\x00\\x00\\x00\\x00\\x00\\x00\\x00\\x00\\x00\\x00\\x00\\x00\\x00\\x00\\x00\\x00\\x00\\x00\\x00\\x00\\x00\\x00\\x00\\x00\\x00\\x00\\x00\\x00\\x00\\x00\\x00\\x00\\x00\\x00\\x00\\x00\\x00\\x00\\x00\\x00\\x00\\x00\\x00\\x00\\x00\\x00\\x00\\x00\\x00\\x00\\x00\\x00\\x00\\x00\\x00\\x00\\x00\\x00\\x00\\x00\\x00\\x00\\x00\\x00\\x00\\x00\\x00\\x00\\x00\\x00\\x00\\x00\\x00\\x00\\x00\\x00\\x00\\x00\\x00\\x00\\x00\\x00\\x00\\x00\\x00\\x00\\x00\\x00\\x00\\x00\\x00\\x00\\x00\\x00\\xacRMK\\xc40\\x10\\xbd\\x0b\\xfe\\x870w\\x9bv\\x15\\x11\\xd9t/\"\\xecU\\xeb\\x0f\\x08\\xc9\\xb4)\\xdb&!3~\\xf4\\xdf\\x1b*\\xba]X\\xd6K/\\x03o\\x86y\\xef\\xcd\\xc7v\\xf75\\x0e\\xe2\\x03\\x13\\xf5\\xc1+\\xa8\\x8a\\x12\\x04z\\x13l\\xef;\\x05o\\xcd\\xf3\\xcd\\x03\\x08b\\xed\\xad\\x1e\\x82G\\x05\\x13\\x12\\xec\\xea\\xeb\\xab\\xed\\x0b\\x0e\\x9as\\x13\\xb9>\\x92\\xc8,\\x9e\\x148\\xe6\\xf8(%\\x19\\x87\\xa3\\xa6\"D\\xf4\\xb9\\xd2\\x864j\\xce0u2js\\xd0\\x1d\\xcaMY\\xde\\xcb\\xb4\\xe4\\x80\\xfa\\x84S\\xec\\xad\\x82\\xb4\\xb7\\xb7 \\x9a)f\\xe5\\xff\\xb9C\\xdb\\xf6\\x06\\x9f\\x82y\\x1f\\xd1\\xf3\\x19\\tI<\\ry\\x00\\xd1\\xe8\\xd4!+\\xf8\\xc1E\\xf6\\x08\\xf2\\xbc\\xfcfMy\\xcek\\xc1\\xa3\\xfa\\x0c\\xe5\\x1c\\xabK\\x1e\\xaa5=|\\x86t \\x87\\xc8G\\x1f\\x7f)\\x92s\\xe5\\xa2\\x99\\xbbU\\xef\\xe1tB\\xfb\\xca)\\xbf\\xdb\\xf2,\\xcb\\xf4\\xeff\\xe4\\xc9\\xc7\\xd5\\xdf\\x00\\x00\\x00\\xff\\xff\\x03\\x00PK\\x03\\x04\\x14\\x00\\x06\\x00\\x08\\x00\\x00\\x00!\\x00z\\xc0r\\xfb\\x0b\\x03\\x00\\x00\\xe5\\x06\\x00\\x00\\x0f\\x00\\x00\\x00xl/workbook.xml\\xacU[o\\xdb \\x14~\\x9f\\xb4\\xff`\\xf1\\xee\\x02\\xbe\\xc5\\xb1\\xeaNq.Z\\xa5m\\xaa\\xb6\\xae{\\x9c\\x88Mj\\x16l<\\xc0M\\xaaj\\xff}\\x07\\xa7No/\\xdd%r\\xc0\\xf8\\xc0\\xc7w\\xce\\xf9\\x0e\\x9c\\xbe\\xdb7\\xd2\\xbb\\xe1\\xda\\x08\\xd5\\xe6\\x88\\x9e\\x10\\xe4\\xf1\\xb6T\\x95h\\xafs\\xf4\\xf5r\\xe5\\xa7\\xc83\\x96\\xb5\\x15\\x93\\xaa\\xe59\\xba\\xe5\\x06\\xbd;{\\xfb\\xe6t\\xa7\\xf4v\\xad\\xd4\\xd6\\x03\\x80\\xd6\\xe4\\xa8\\xb6\\xb6\\xcb06e\\xcd\\x1bfNT\\xc7[\\xb0l\\x94n\\x98\\x85\\xa1\\xbe\\xc6\\xa6\\xd3\\x9cU\\xa6\\xe6\\xdc6\\x12\\x07\\x84$\\xb8a\\xa2E\\x07\\x84L\\xbf\\x06Cm6\\xa2\\xe4\\x0bU\\xf6\\ro\\xed\\x01Ds\\xc9,\\xd07\\xb5\\xe8\\xcc\\x88\\xd6\\x94\\xaf\\x81k\\x98\\xde\\xf6\\x9d_\\xaa\\xa6\\x03\\x88\\xb5\\x90\\xc2\\xde\\x0e\\xa0\\xc8k\\xca\\xec\\xfc\\xbaU\\x9a\\xad%\\xb8\\xbd\\xa7\\xb1\\xb7\\xd7\\xf0$\\xf0\\xa7\\x04\\x9a`\\xdc\\tL/\\xb6jD\\xa9\\x95Q\\x1b{\\x02\\xd0\\xf8@\\xfa\\x85\\xff\\x94`J\\x9f\\x84`\\xff2\\x06\\xafC\\x8a\\xb0\\xe67\\xc2\\xe5\\xf0\\xc8J\\'\\x7f\\xc9*9b%\\x0f`\\x94\\xfc3\\x1a\\x05i\\rZ\\xc9 x\\x7f\\x89\\x16\\x1f\\xb9\\x05\\xe8\\xect#$\\xbf:H\\xd7c]\\xf7\\x895.S\\x12y\\x92\\x19\\xbb\\xac\\x84\\xe5U\\x8e&0T;\\xfe\\xe4\\x83\\xee\\xbb\\xa2\\x17\\x12\\xac\\x94\\xc44@\\xf8\\xec(\\xe7\\x0b\\xedU|\\xc3zi/A\\xc8#<LL\\x92i\\x10\\xbb\\x99 \\x8c\\x99\\xb4\\\\\\xb7\\xcc\\xf2\\xb9j-\\xe8\\xf0\\xde\\xaf\\x7f\\xd5\\xdc\\x80=\\xaf\\x15(\\xdc\\xfb\\xcc\\x7f\\xf6Bs(,\\xd0\\x17\\xf8\\n-+3\\xb66\\x17\\xcc\\xd6^\\xafe\\x8e\\xf0W\\x03\\xcec\\xb6\\x16em7\\xf8\\xaa\\xf8\\xfe\\xa5f\\x9aW\\xf8B\\xab\\x1f|k9^h\\x01\\xa5-\\x01\\xaf5\\x1c?\\x12,{Y\\x1d\\x7f YV\\xba8`\\x08\\xc4\\x81\\xec\\xe1\\xfdyP\\x80\\xb3\\xceFY^X\\xed\\xc1\\xfb\\xf9\\xe2\\x03\\xa4\\xe6\\x0b\\xbb\\x81D\\x81\\x1c\\xaa\\xfb:>\\x87L\\xa4\\xdf\\xef\\xe84MVi1\\xf7\\xa3\"\\xa4~\\x18E\\x0b\\x7f\\x16\\x16\\xc4\\x9f\\xaeV\\xb3\\x90\\xa4t\\xb6$\\xe9/\\xf0B\\'Y\\xa9Xo\\xeb\\xfb\\xe4;\\xcc\\x1c\\x85N\\xae\\xcfM\\x1f\\xd9~\\xb4P\\x92\\xf5\\xa2z\\xd8\\xff\\x8e\\xdc\\xff|\\xd7?kF\\xdb/\\xe7\\xa9;\\xe6\\xae\\x04\\xdf\\x99\\x07\\x99\\xb8\\xa1\\xb7\\xff&\\xdaJ\\xed`\\x834\\x01on\\xc7!\\x8d\\t\\x0cw\\x83\\xf1\\x9b\\xa8l\\x9d\\xa3 \\r\\xa2\\xe3\\xb7\\xf7\\\\\\\\\\xd7\\xc0\\x98Nb\\xb7\\x0e\\xca\\xc11\\xcb\\xd1]\\xb8\\x88\\x83b\\x19\\x14\\xfed\\x9a\\x86~<\\x89\\x88\\x9f\\xce\\xc2\\xd0O\\xe7\\xf1,^\\xa4Q\\xb0ZN\\x06F\\xf8\\x11\\xa5\\xe1@\\x05jC\\xef\\xb5C\\x11\\\\\\xb25\\x97\\x92S8\\xbb\\xddq\\xeb\\xe2\\x0b\\xef:s\\xbb\\xe8\\xf3\\x8a\\x0e\\xf9\\x1b\\x17\\x96L\\x96 {\\xd7\\r\\x13SJ\\x82\\xa9\\x9b\\xc1\\xf7\\xf6\\x83\\xb1C\\x0f\\x8a\\x13@\\x90Fd6!\\xd3\\xc8\\'\\xcb0\\xf6\\xa3t\\x1a\\xf8i\\x14\\x06\\xfe<Z\\x04\\xcbx\\xb2\\\\,\\x8b\\xd8e\\xc8]\\t\\xd9\\xff8\\x18\\x07\\xe1g\\xe3]\\xe3X\\x82\\xc4\\xed\\xa5f\\xe5\\x16n\\xa8\\xcf|S0\\x03Z:8\\x04|A\\x8a#k<\\xae:\\xfb\\r\\x00\\x00\\xff\\xff\\x03\\x00PK\\x03\\x04\\x14\\x00\\x06\\x00\\x08\\x00\\x00\\x00!\\x00&\\xdf\\x90\\xf5\\xb0\\x00\\x00\\x00\\x02\\x01\\x00\\x00\\x14\\x00\\x00\\x00xl/sharedStrings.xmll\\xcfA\\n\\xc20\\x10\\x05\\xd0\\xbd\\xe0\\x1d\\xc2\\xec5mA\\x11I\"*x\\x01\\xf5\\x00\\xa1\\x1dm\\xa0\\x99\\xd4\\xceT\\xf4\\xf6V\\xba\\x10\\x8a\\xcb\\xff>\\x7f\\xf1\\xcd\\xee\\x15\\x1b\\xf5\\xc4\\x8eC\"\\x0b\\xf92\\x03\\x85T\\xa6*\\xd0\\xdd\\xc2\\xf5rZl@\\xb1x\\xaa|\\x93\\x08-\\xbc\\x91a\\xe7\\xe63\\xc3,j\\xd8\\x12[\\xa8E\\xda\\xad\\xd6\\\\\\xd6\\x18=/S\\x8b44\\xb7\\xd4E/C\\xec\\xee\\x9a\\xdb\\x0e}\\xc55\\xa2\\xc4F\\x17Y\\xb6\\xd6\\xd1\\x07\\x02U\\xa6\\x9e\\xc4B\\x91\\x83\\xea)<z<\\x8e\\xb0\\x02g88#no\\xb48\\xa3\\xbfa\\x84\\xc3\\x14\\x8eS8\\xb7\\xbe\\x11\\xcc\\xffs\\xf1c=|p\\x1f\\x00\\x00\\x00\\xff\\xff\\x03\\x00PK\\x03\\x04\\x14\\x00\\x06\\x00\\x08\\x00\\x00\\x00!\\x00X\\x077\\xe9N\\x07\\x00\\x00\\xc0 \\x00\\x00\\x13\\x00\\x00\\x00xl/theme/theme1.xml\\xecY\\xcd\\x8b\\x1b7\\x14\\xbf\\x17\\xfa?\\x0csw\\xfc5\\xe3\\x8f%\\xde\\xe0\\xcfl\\x93\\xdd$d\\x9d\\x94\\x1c\\xb5\\xb6\\xecQV32\\x92\\xbc\\x1b\\x13\\x02%9\\xf5R(\\xa4\\xa5\\x97Bo=\\x94\\xd2@\\x03\\r\\xbd\\xf4\\x8f\\t$\\xb4\\xe9\\x1f\\xd1\\'\\xcd\\xd8#\\xad\\xe5$\\x9blJZv\\r\\x8bG\\xfe\\xbd\\xa7\\xa7\\xf7\\x9e~z\\xf3t\\xf1\\xd2\\xbd\\x98zG\\x98\\x0b\\xc2\\x92\\x96_\\xbeP\\xf2=\\x9c\\x8c\\xd8\\x98$\\xd3\\x96\\x7fk8(4|OH\\x94\\x8c\\x11e\\tn\\xf9\\x0b,\\xfcK\\xdb\\x9f~r\\x11m\\xc9\\x08\\xc7\\xd8\\x03\\xf9Dl\\xa1\\x96\\x1fI9\\xdb*\\x16\\xc5\\x08\\x86\\x91\\xb8\\xc0f8\\x81\\xdf&\\x8c\\xc7H\\xc2#\\x9f\\x16\\xc7\\x1c\\x1d\\x83\\xde\\x98\\x16+\\xa5R\\xad\\x18#\\x92\\xf8^\\x82bP{}2!#\\xeco/\\xd5\\xf6)\\xe8N\\xa4P\\x03#\\xca\\xf7\\x95R\\xbc\\x8e\\x1d\\x1f\\x96\\x15B,D\\x97r\\xef\\x08\\xd1\\x96\\x0f3\\x8c\\xd9\\xf1\\x10\\xdf\\x93\\xbeG\\x91\\x90\\xf0C\\xcb/\\xe9?\\xbf\\xb8}\\xb1\\x88\\xb62!*7\\xc8\\x1ar\\x03\\xfd\\x97\\xc9e\\x02\\xe3\\xc3\\x8a\\x9e\\x93O\\x0fV\\x93\\x06A\\x18\\xd4\\xda+\\xfd\\x1a@\\xe5:\\xae_\\xef\\xd7\\xfa\\xb5\\x95>\\r@\\xa3\\x11\\xac4\\xb5\\xc5\\xd6Y\\xaft\\x83\\x0ck\\x80\\xd2\\xaf\\x0e\\xdd\\xbdz\\xafZ\\xb6\\xf0\\x86\\xfe\\xea\\x9a\\xcd\\xedP},\\xbc\\x06\\xa5\\xfa\\x835\\xfc`\\xd0\\x05/Zx\\rJ\\xf1\\xe1\\x1a>\\xec4;=[\\xbf\\x06\\xa5\\xf8\\xda\\x1a\\xbe^j\\xf7\\x82\\xba\\xa5_\\x83\"J\\x92\\xc35t)\\xacU\\xbb\\xcb\\xd5\\xae \\x13Fw\\x9c\\xf0f\\x18\\x0c\\xea\\x95Ly\\x8e\\x82lXe\\x97\\x9ab\\xc2\\x12\\xb9)\\xd7bt\\x97\\xf1\\x01\\x00\\x14\\x90\"I\\x12O.fx\\x82F\\x90\\xbf]D\\xc9\\x01\\'\\xde.\\x99F\\x90x3\\x940\\x01\\xc3\\xa5JiP\\xaa\\xc2\\x7f\\xf5\\t\\xf47\\x1dQ\\xb4\\x85\\x91!\\xad\\xec\\x02K\\xc4\\xda\\x90\\xb2\\xc7\\x13#Nf\\xb2\\xe5_\\x01\\xad\\xbe\\x01y\\xf1\\xec\\xd9\\xf3\\x87O\\x9f?\\xfc\\xed\\xf9\\xa3G\\xcf\\x1f\\xfe\\x92\\xcd\\xadUYr;(\\x99\\x9ar\\xaf~\\xfc\\xfa\\xef\\xef\\xbf\\xf0\\xfe\\xfa\\xf5\\x87W\\x8f\\xbfI\\xa7>\\x89\\x17&\\xfe\\xe5\\xcf_\\xbe\\xfc\\xfd\\x8f\\xd7\\xa9\\x87\\x15\\xe7\\xaex\\xf1\\xed\\x93\\x97O\\x9f\\xbc\\xf8\\xee\\xab?\\x7fz\\xec\\xd0\\xde\\xe6\\xe8\\xc0\\x84\\x0fI\\x8c\\x85w\\r\\x1f{7Y\\x0c\\x0bt\\xd8\\x8f\\x0f\\xf8\\xe9$\\x86\\x11\"\\x96\\x04\\x8a@\\xb7Cu_F\\x16\\xf0\\xda\\x02Q\\x17\\xae\\x83m\\x17\\xde\\xe6\\xc02.\\xe0\\xe5\\xf9]\\xcb\\xd6\\xfd\\x88\\xcf%q\\xcc|5\\x8a-\\xe0\\x1ec\\xb4\\xc3\\xb8\\xd3\\x01W\\xd5\\\\\\x86\\x87\\x87\\xf3d\\xea\\x9e\\x9c\\xcfM\\xdcM\\x84\\x8e\\\\swQb\\x05\\xb8?\\x9f\\x01\\xbd\\x12\\x97\\xcan\\x84-3oP\\x94H4\\xc5\\t\\x96\\x9e\\xfa\\x8d\\x1db\\xecX\\xdd\\x1dB,\\xbf\\xee\\x91\\x11g\\x82M\\xa4w\\x87x\\x1dD\\x9c.\\x19\\x92\\x03+\\x91r\\xa1\\x1d\\x12C\\\\\\x16.\\x03!\\xd4\\x96o\\xf6n{\\x1dF]\\xab\\xee\\xe1#\\x1b\\t\\xdb\\x02Q\\x87\\xf1CL-7^Fs\\x89b\\x97\\xca!\\x8a\\xa9\\xe9\\xf0]$#\\x97\\x91\\xfb\\x0b>2q}!!\\xd2SL\\x99\\xd7\\x1fc!\\\\2\\xd79\\xac\\xd7\\x08\\xfaU`\\x18w\\xd8\\xf7\\xe8\"\\xb6\\x91\\\\\\x92C\\x97\\xce]\\xc4\\x98\\x89\\xec\\xb1\\xc3n\\x84\\xe2\\x99\\xd3f\\x92D&\\xf63q\\x08)\\x8a\\xbc\\x1bL\\xba\\xe0{\\xcc\\xde!\\xea\\x19\\xe2\\x80\\x92\\x8d\\xe1\\xbeM\\xb0\\x15\\xee7\\x13\\xc1- W\\xd3\\xa4<A\\xd4/s\\xee\\x88\\xe5e\\xcc\\xec\\xfd\\xb8\\xa0\\x13\\x84],\\xd3\\xe6\\xb1\\xc5\\xaemN\\x9c\\xd9\\xd1\\x99O\\xad\\xd4\\xde\\xc5\\x98\\xa2c4\\xc6\\xd8\\xbb\\xf5\\x99\\xc3\\x82\\x0e\\x9bY>\\xcf\\x8d\\xbe\\x12\\x01\\xab\\xec`Wb]Av\\xae\\xaa\\xe7\\x04\\x0b\\xec\\xe9\\xbaf\\x9d\"w\\x89\\xb0Rv\\x1fO\\xd9\\x06{\\xf6\\x16\\'\\x88g\\x81\\x92\\x18\\xf1M\\x9a\\xafA\\xd4\\xad\\xd4\\x85S\\xceI\\xa5\\xd7\\xe9\\xe8\\xd0\\x04^#P\\xf8A\\xbe8\\x9dr]\\x80\\x0e#\\xb9\\xfb\\x9b\\xb4\\xde\\x88\\x90uv\\xa9g\\xe1\\xce\\xd7\\x05\\xb7\\xe2\\xf76{\\x0c\\xf6\\xe5\\xdd\\xd3\\xeeK\\x90\\xc1\\xa7\\x96\\x01b\\x7fk\\xdf\\x0c\\x11\\xb5&\\xc8\\x13f\\x88\\xa0\\xc0p\\xd1-\\x88X\\xe1\\xcfE\\xd4\\xb9\\xaa\\xc5\\xe6N\\xb9\\x89\\xbdi\\xf30@ad\\xd5;1I\\xdeX\\xfc\\x9c({\\xc2\\x7f\\xa7\\xecq\\x170gP\\xf0\\xb8\\x15\\xbfO\\xa9\\xb3\\x89RvN\\x148\\x9bp\\xff\\xc1\\xb2\\xa6\\x87\\xe6\\xc9\\r\\x0c\\'\\xc9:g\\x9dW5\\xe7U\\x8d\\xff\\xbf\\xafj6\\xed\\xe5\\xf3Z\\xe6\\xbc\\x969\\xafe\\\\o_\\x1f\\xa4\\x96\\xc9\\xcb\\x17\\xa8l\\xf2.\\x8f\\xee\\xf9\\xc4\\x1b[>\\x13B\\xe9\\xbe\\\\P\\xbc+t\\xd7G\\xc0\\x1b\\xcdx\\x00\\x83\\xba\\x1d\\xa5{\\x92\\xab\\x16\\xe0,\\x82\\xafY\\x83\\xc9\\xc2M9\\xd22\\x1eg\\xf2s\"\\xa3\\xfd\\x08\\xcd\\xa05T\\xd6\\xcd\\xce\\xa9\\xc8TO\\x857c\\x02:FzX7Q\\xf1\\t\\xdd\\xba\\xef4\\x8f\\xf7\\xd88\\xedt\\x96\\xcb\\xaa\\xab\\x99\\xbaP \\x99\\x8f\\x97\\xc2\\xd58t\\xa9d\\x8a\\xae\\xd5\\xf3\\xee\\xddJ\\xbd\\xee\\x87Nu\\x97ui\\x80\\x92=\\x8d\\x11\\xc6d\\xb6\\x11U\\x87\\x11\\xf5\\xe5 D\\xe1uF\\xe8\\x95\\x9d\\x89\\x15M\\x87\\x15\\r\\xa5~\\x19\\xaae\\x14W\\xae\\x00\\xd3VQ\\x81Wn\\x0f^\\xd4[~\\x18\\xa4\\x1ddh\\xc6Ay>VqJ\\x9b\\xc9\\xcb\\xe8\\xaa\\xe0\\x9ci\\xa479\\x93\\x9a\\x19\\x00%\\xf62\\x03\\xf2H7\\x95\\xad\\x1b\\x97\\xa7V\\x97\\xa6\\xda[D\\xda2\\xc2H7\\xdb\\x08#\\r#x\\x11\\xce\\xb2\\xd3l\\xb9\\x9fe\\xac\\x9byH-\\xf3\\x94+\\x96\\xbb!7\\xa3\\xde\\xf8\\x10\\xb1V$r\\x82\\x1bhb2\\x05M\\xbc\\xe3\\x96_\\xab\\x86p\\x9f2B\\xb3\\x96?\\x81\\x8e1|\\x8dg\\x90;B\\xbdu!:\\x85\\x0b\\x97\\x91\\xe4\\xe9\\x86\\x7f\\x17f\\x99q!{HD\\xa9\\xc35\\xe9\\xa4l\\x10\\x13\\x89\\xb9GI\\xdc\\xf2\\xd5\\xf2W\\xd9@\\x13\\xcd!\\xda\\xb6r\\x05\\x08\\xe1\\xa35\\xae\\t\\xb4\\xf2\\xb1\\x19\\x07A\\xb7\\x83\\x8c\\'\\x13<\\x92f\\xd8\\x8d\\x11\\xe5\\xe9\\xf4\\x11\\x18>\\xe5\\n\\xe7\\xafZ\\xfc\\xdd\\xc1J\\x92\\xcd!\\xdc\\xfb\\xd1\\xf8\\xd8;\\xa0s~\\x13A\\x8a\\x85\\xf5\\xb2r\\xe0\\x98\\x08\\xb88(\\xa7\\xde\\x1c\\x13\\xb8\\t[\\x11Y\\x9e\\x7f\\'\\x0e\\xa6\\x8cv\\xcd\\xab(\\x9dC\\xe98\\xa2\\xb3\\x08e\\'\\x8aI\\xe6)\\\\\\x93\\xe8\\xca\\x1c\\xfd\\xb4\\xf2\\x81\\xf1\\x94\\xad\\x19\\x1c\\xba\\xee\\xc2\\x83\\xa9:`\\xdf\\xfb\\xd4}\\xf3Q\\xad<g\\x90f~fZ\\xac\\xa2NM7\\x99~\\xb8C\\xde\\xb0*?D-\\xabR\\xea\\xd6\\xef\\xd4\"\\xe7\\xba\\xe6\\x92\\xeb Q\\x9d\\xa7\\xc4\\x1bN\\xdd\\xb78\\x10\\x0c\\xd3\\xf2\\xc9,\\xd3\\x94\\xc5\\xeb4\\xac8;\\x1b\\xb5M;\\xc3\\x82\\xc0\\xf0Dm\\x83\\xdfVg\\x84\\xd3\\x13\\xefz\\xf2\\x83\\xdc\\xc9\\xacU\\x07\\xc4\\xb2\\xae\\xd4\\x89\\xaf/\\xcb\\xcd[mvp\\x17\\xc8\\xa3\\x07\\xf7\\x87s*\\x85\\x0e%\\xdcYs\\x04E_z\\x03\\x99\\xd2\\x06l\\x91{2\\xab\\x11\\xe1\\x9b7\\xe7\\xa4\\xe5\\xdf/\\x85\\xed\\xa0[\\t\\xbb\\x85R#\\xec\\x17\\x82jP*4\\xc2v\\xb5\\xd0\\x0e\\xc3j\\xb9\\x1f\\x96K\\xbdN\\xe5\\x01\\x1c,2\\x8a\\xcbazQ?\\x80+\\x0c\\xba\\xc8\\xae\\xeb\\xf5\\xf8\\xda\\x95}\\xbc\\xbc\\xa5\\xb90bq\\x91\\xe9+\\xf9\\xa26\\\\_\\xd9\\x97+\\x8e+{o\\xa8n\\xe6}\\x8f\\x00\\xe9\\xdc\\xafU\\x06\\xcdj\\xb3S+4\\xab\\xedA!\\xe8u\\x1a\\x85f\\xb7\\xd6)\\xf4j\\xddzo\\xd0\\xeb\\x86\\x8d\\xe6\\xe0\\x81\\xef\\x1dip\\xd0\\xaev\\x83Z\\xbfQ\\xa8\\x95\\xbb\\xddBP+)\\xf3\\x1b\\xcdB=\\xa8T\\xdaA\\xbd\\xdd\\xe8\\x07\\xed\\x07Y\\x19\\x03+O\\xe9#\\xf3\\x05\\xb8W\\xdb\\xb5\\xfd\\x0f\\x00\\x00\\x00\\xff\\xff\\x03\\x00PK\\x03\\x04\\x14\\x00\\x06\\x00\\x08\\x00\\x00\\x00!\\x00{(\\x91\\x9c\\x03\\x03\\x00\\x00\\x10\\x08\\x00\\x00\\r\\x00\\x00\\x00xl/styles.xml\\xacU]o\\x9b0\\x14}\\x9f\\xb4\\xff`\\xf9\\x9d\\xf2Q\\xc8\\x92\\x08\\xa8\\x9a\\xa6H\\x956iR:i\\xaf\\x0e\\x18b\\xd5\\x1f\\xc88\\x19\\xe9\\xb4\\xff\\xbek \\tQ\\xdbmm\\xc7\\x03\\xd8\\xd7\\xf6\\xb9\\xe7\\xdes}\\x89\\xafZ\\xc1\\xd1\\x8e\\xea\\x86)\\x99`\\xff\\xc2\\xc3\\x88\\xca\\\\\\x15LV\\t\\xfev\\x9f9S\\x8c\\x1aCdA\\xb8\\x924\\xc1{\\xda\\xe0\\xab\\xf4\\xe3\\x87\\xb81{NW\\x1bJ\\r\\x02\\x08\\xd9$xcL=w\\xdd&\\xdfPA\\x9a\\x0bUS\\t+\\xa5\\xd2\\x82\\x18\\x98\\xea\\xcamjMI\\xd1\\xd8C\\x82\\xbb\\x81\\xe7M\\\\A\\x98\\xc4=\\xc2\\\\\\xe4\\xff\\x02\"\\x88~\\xd8\\xd6N\\xaeDM\\x0c[3\\xce\\xcc\\xbe\\xc3\\xc2H\\xe4\\xf3\\xbbJ*M\\xd6\\x1c\\xa8\\xb6~Hr\\xd4\\xfa\\x13\\x1d\\xa0V\\x1f\\x9ct\\xd6\\'~\\x04\\xcb\\xb5jTi.\\x00\\xd7Ue\\xc9r\\xfa\\x94\\xee\\xcc\\x9d\\xb9$?!\\x01\\xf2\\xdb\\x90\\xfc\\xc8\\xf5\\x82\\xb3\\xd8[\\xfdF\\xa4\\xd0\\xd5t\\xc7\\xac|8\\x8dK%M\\x83r\\xb5\\x95&\\xc1\\x01\\x10\\xb5)\\x98?H\\xf5Cfv\\t\\x14\\x1ev\\xa5q\\xf3\\x88v\\x84\\x83%\\xc0n\\x1a\\xe7\\x8a+\\x8d\\x0cH\\x07\\x99\\xf3\\xadE\\x12A\\xfb\\x1d7\\x84\\xb3\\xb5f\\xd6X\\x12\\xc1\\xf8\\xbe7w\\xe7:\\xb5\\x87}\\x82A\\xee\\xed.\\xd7\\xf2\\xe8\\xd9<\\xefGW\\xeb\\x04g\\xf0x\\xf0\\xfc\\x1fg\\x9d\\xcf\\x06\\x9c2\\xceG)\\xe8\\ri\\x0c\\xb5b\\xa8\\x96\\x19\\xac\\xa2a|\\xbf\\xaf!V\\te\\xdds\\x86\\xa5\\xbf\\xee\\xae4\\xd9\\xfbA4:\\xe0v\\x0e\\xd3x\\xadt\\x01\\xd7\\xe8\\x90|\\x9b\\xe7\\xde\\x94\\xc6\\x9c\\x96\\x06\\xb2\\xa2Y\\xb5\\xb1_\\xa3jx\\xaf\\x951Pji\\\\0R)I\\xb8\\xcd\\xdb\\xe1\\xc40\\x80pr\\xca\\xf9\\xca^\\xb5\\xef\\xe5\\x19v[\"\\xb9\\x15\\x990wE\\x82\\xe1\\xd2\\xda\\x8c\\x1f\\x86\\x10\\xc80\\xec\\xf1\\xfa\\x89\\xc5\\x1f\\xa3\\xf5\\xd8#\\xd8\\x10(\\xbf\\x1e\\x16\\xb5\\xe5\\x11\\xff\\x1d\\xa7\\x11\\xa9k\\xbe\\xb7Ej\\xcb\\xaf\\x9f]sVIA{S\\x1aC\\x15\\xf6S\\xb4Q\\x9a=\\xc2V[\\xbe]V;=\\xda\\xf2e\\xfe\\x00iuz&-G\\xfe\\xe7\\x0c [/E\\xf3j\\xacWDcK\\xe5\\x18L\\'\\x17\\x084\\xaa\\x82\\xb3\\x1a8\\xaa\\x89\\xec]M\\xf0\\xaa\\xeb\\xd3\\xba\\x80{?h\\x82\\xd6[\\xc6\\r\\x93\\xcfT\\x00\\xa0\\x16\\xed\\xa9\\xa6\\xba[hl\\xe3\\xec\\xaa\\xed\\xe8\\x07J\\xab\\xa0%\\xd9rs\\x7f\\\\L\\xf0i\\xfc\\x85\\x16l+\\xa0\\xd5\\x0c\\xbb\\xbe\\xb2\\x9d2\\x1dD\\x82O\\xe3\\xcf\\xb6\\xf4\\xfd\\x89\\x8d\\x8c\\xb6\\xe6s\\x03\\xcd\\x01\\xbeh\\xabY\\x82\\x7f\\xde.>\\xcd\\x96\\xb7Y\\xe0L\\xbd\\xc5\\xd4\\t/i\\xe4\\xcc\\xa2\\xc5\\xd2\\x89\\xc2\\x9b\\xc5r\\x99\\xcd\\xbc\\xc0\\xbb\\xf95j\\xdf\\xefh\\xde\\xdd\\xdf\\x06\\x94\\xf5\\xc3y\\xc3\\xa1\\xc5\\xeb!\\xd8\\x81\\xfc\\xead\\x83l\\x9e&=\\xfdN\\x17\\xa0=\\xe6>\\x0b&\\xdeu\\xe4{Nv\\xe9\\xf9N8!Sg:\\xb9\\x8c\\x9c,\\xf2\\x83\\xe5$\\\\\\xdcFY4\\xe2\\x1e\\xbd\\xb1\\xc9{\\xae\\xef\\xf7\\xbf\\x0bK>\\x9a\\x1b&(g\\xf2\\xa0\\xd5A\\xa1\\xb1\\x15D\\x82\\xe9\\x1f\\x82p\\x0fJ\\xb8\\xa7_y\\xfa\\x1b\\x00\\x00\\xff\\xff\\x03\\x00PK\\x03\\x04\\x14\\x00\\x06\\x00\\x08\\x00\\x00\\x00!\\x00t\\x8fP\\x9eF\\x03\\x00\\x00\\xcf\\x0c\\x00\\x00\\x18\\x00\\x00\\x00xl/worksheets/sheet1.xml\\x9c\\x97[o\\x9b0\\x14\\xc7\\xdf\\'\\xed; \\xbf\\'`B.D\\x81*\\x97F\\xeb\\xc3\\xa4i\\xd7g\\x07Lb\\x150\\xb3\\x9d\\xa4\\xd5\\xd4\\xef\\xbec\\xb3\\xd0\\x8b\\xdb\\xc94M%\\x02\\'\\xff\\x9f\\xcf\\xf1\\xf1\\xdf\\xce\\xe2\\xea\\xae*\\xbd\\x13\\x15\\x92\\xf1:Ax\\x18 \\x8f\\xd6\\x19\\xcfY\\xbdO\\xd0\\x8f\\xef\\xdb\\xc1\\x0cyR\\x91:\\'%\\xafi\\x82\\xee\\xa9DW\\xe9\\xc7\\x0f\\x8b3\\x17\\xb7\\xf2@\\xa9\\xf2@\\xa1\\x96\\t:(\\xd5\\xcc}_f\\x07Z\\x119\\xe4\\r\\xad\\xe1I\\xc1EE\\x14|\\x14{_6\\x82\\x92\\xdc|\\xa9*\\xfd0\\x08&~EX\\x8dZ\\x85\\xb9p\\xd1\\xe0E\\xc12\\xba\\xe1\\xd9\\xb1\\xa2\\xb5jE\\x04-\\x89\\x82\\xf1\\xcb\\x03k\\xe4E\\xad\\xca\\\\\\xe4*\"n\\x8f\\xcd \\xe3U\\x03\\x12;V2uoD\\x91We\\xf3\\x9b}\\xcd\\x05\\xd9\\x95\\x90\\xf7\\x1d\\x8eH\\xe6\\xdd\\tx\\x87\\xf0?\\xba`\\xcc}\\x8bT\\xb1Lp\\xc9\\x0b5\\x04e\\xbf\\x1d\\xb3\\x9d~\\xec\\xc7>\\xc9:%;\\x7f\\'\\x19\\x1c\\xf9\\x82\\x9e\\x98\\x9e\\xc0G\\xa9\\xf0}C\\xc2\\xe3N+|\\x14\\x1b\\xbdSl\\xd2\\x89\\xe9r\\x89\\xf9\\x91\\xe5\\t\\xfa\\xb3\\x8d\\xd6\\xa3x\\xb4\\r\\x07\\xab\\xe5\\xf5l\\x10\\xc4\\x11\\x1e\\xcc6\\xdb\\xe9`=\\xbe^n\\xa3\\xd5\\x18\\xfef\\x0f(]\\xe4\\x0cfXg\\xe5\\tZ$h\\x89\\xe7\\xab0@~\\xba0\\r\\xf4\\x93\\xd1\\xb3|r\\xed)\\xb2\\xfbFK\\x9a)\\n\\x10\\x8c<\\xdd\\x9f;\\xceou\\xe0\\r\\xdc\\n@R\\x9a\\x00-I2\\xc5NtM\\xcb2A\\x1b\\x0c\\xc3\\x93\\xbf\\rE_\\x03\\xc2\\xef\\x18O\\xaf/\\xbc\\xad\\xe9\\xe9/\\xc2\\xdb\\x11I\\xd7\\xbc\\xfc\\xc5ru\\x00(\\xac\\x9d\\x9c\\x16\\xe4X\\xaa\\xaf\\xfc\\xfc\\x89\\xb2\\xfdA\\xc1\\xdd\\t\\xe4\\xae\\x9bg\\x9e\\xdfo\\xa8\\xcc\\xa0ka0\\xc3\\xb0\\xcbdC\\x14I\\x17\\x82\\x9f=h\\x00\\x18\\xb8l\\x88^Nx\\xaeg\\xe0\\xb5/\\xa6\\x8bL\\x87.ul\\x82 \\n\\x04%dwJG\\x0b\\xff\\x04\\x03\\xce\\xfeE\\xac\\xda\\x08\\xc8\\xae\\x8b\\x88\\xba\\x08\\x1f\\x88\\x1d\\x16D\\x9c\\xb1\\xa1A\\xe1 x\\x01\\xd3\\x1a&\\x81\\x0e\\xf6\\x18\\xf1\\x0c\\xa6\\xab\\xed\\x9a\\xe3\\xc8\\xc0\\xc0*^\\xc0\\xb4\\xc6s\\x18~=\\xb3\\xa8\\x07,j\\x8bh\\xc1\\xb4\\xc6sX\\xf8:l\\xdc\\x0366\\xb0\\xc8\\x82i\\r\\xa72B_9\\x97qb`c\\x0b\\xa65\\x9c\\xca8\\xed\\x01\\x9b\\x1a\\xd8\\xc4\\x82i\\r\\xa72\\xea-\\xc7\\xb5Af\\x066\\xb5`Z\\xc3\\xa9\\x8cq\\x0fXl`3\\x0b\\xa65\\x9c\\xca\\xa8-\\xc2}}k\\xcb:\\xa5\\xb1\\x853*N\\x95\\xc4\\xbd\\xfc\\x04_V\\xf6\\xcb\\xd5fd\\x9c\\xaa\\x89\\xfb8\\t\\x04\\xeb\\x04\\xb1\\xed%F\\xc6\\xad\\xa2}\\xdc\\x04\\xcc\\xdd\\x00m?1[\\x80[I\\xfb8\\nn-\\x05\\x8f\\xec9\\xb4M\\xe5\\r\\xbb\\xc4}\\\\\\x05\\x82M\\x86\\xb6\\xaf\\x18\\x19\\xb7\\x92\\xf6q\\x16\\xd8\\xde\\x0c\\xd0\\xf6\\x16\\xbd\\xf1\\xb9\\xadw\\xdc\\xc7] \\xd8\\x00m\\x7f12n]\\xda\\xc7apk1\\xd8\\xf6\\x18x\\xe2\\xba\\xee\\xfb\\xb8\\x0cnm\\x06\\xdb>\\x03O\\x1cK\\n\\'\\xa5\\x1e;zk4\\xd8v\\x1a#\\xf3\\xff\\x92\\xb6G\\xa5\\xf6\\x10\\xd3\\x90=\\xfdL\\xc4\\x9e\\xd5\\xd2+ia\\x0e:0\\xb7\\xa2=\\t\\x05C\\xb8V\\xbc\\xd1\\xc7\\x9f\\xe9l\\x1a\\x05x<\\x8d\\xe2\\xf6\\x05\\xbd\\xb2\\xe3J\\xf1\\xea\\x8d\\x87\\x07\\xf8\\xe1@\\xe1\\xd0\\x13\\x0ca\\xbd\\x17\\x9c\\xab\\xcb\\x07}X\\xeb~\\x8a\\xa4\\x7f\\x01\\x00\\x00\\xff\\xff\\x03\\x00PK\\x03\\x04\\x14\\x00\\x06\\x00\\x08\\x00\\x00\\x00!\\x00\\xc8\\x1f\\x99\\x8fJ\\x01\\x00\\x00{\\x02\\x00\\x00\\x11\\x00\\x08\\x01docProps/core.xml \\xa2\\x04\\x01(\\xa0\\x00\\x01\\x00\\x00\\x00\\x00\\x00\\x00\\x00\\x00\\x00\\x00\\x00\\x00\\x00\\x00\\x00\\x00\\x00\\x00\\x00\\x00\\x00\\x00\\x00\\x00\\x00\\x00\\x00\\x00\\x00\\x00\\x00\\x00\\x00\\x00\\x00\\x00\\x00\\x00\\x00\\x00\\x00\\x00\\x00\\x00\\x00\\x00\\x00\\x00\\x00\\x00\\x00\\x00\\x00\\x00\\x00\\x00\\x00\\x00\\x00\\x00\\x00\\x00\\x00\\x00\\x00\\x00\\x00\\x00\\x00\\x00\\x00\\x00\\x00\\x00\\x00\\x00\\x00\\x00\\x00\\x00\\x00\\x00\\x00\\x00\\x00\\x00\\x00\\x00\\x00\\x00\\x00\\x00\\x00\\x00\\x00\\x00\\x00\\x00\\x00\\x00\\x00\\x00\\x00\\x00\\x00\\x00\\x00\\x00\\x00\\x00\\x00\\x00\\x00\\x00\\x00\\x00\\x00\\x00\\x00\\x00\\x00\\x00\\x00\\x00\\x00\\x00\\x00\\x00\\x00\\x00\\x00\\x00\\x00\\x00\\x00\\x00\\x00\\x00\\x00\\x00\\x00\\x00\\x00\\x00\\x00\\x00\\x00\\x00\\x00\\x00\\x00\\x00\\x00\\x00\\x00\\x00\\x00\\x00\\x00\\x00\\x00\\x00\\x00\\x00\\x00\\x00\\x00\\x00\\x00\\x00\\x00\\x00\\x00\\x00\\x00\\x00\\x00\\x00\\x00\\x00\\x00\\x00\\x00\\x00\\x00\\x00\\x00\\x00\\x00\\x00\\x00\\x00\\x00\\x00\\x00\\x00\\x00\\x00\\x00\\x00\\x00\\x00\\x00\\x00\\x00\\x00\\x00\\x00\\x00\\x00\\x00\\x00\\x00\\x00\\x00\\x00\\x00\\x00\\x00\\x00\\x00\\x00\\x00\\x00\\x00\\x00\\x00\\x00\\x00\\x00\\x00\\x00\\x00\\x00\\x00\\x00\\x00\\x00\\x00\\x00\\x00\\x00\\x00\\x00\\x00\\x00\\x00\\x00\\x00\\x00\\x00\\x00\\x00\\x00\\x00\\x00\\x8c\\x92_O\\xc3 \\x14\\xc5\\xdfM\\xfc\\x0e\\r\\xef-\\xa5\\xf5/i\\xbbD\\xcd\\x9e\\\\4q\\x8b\\xc67\\x02\\xb7\\x1b\\xb1@\\x03h\\xdd\\xb7\\x97v[\\xad\\x99&>\\xc29\\xf7\\xc797\\x14\\xb3O\\xd5D\\x1f`\\x9d4\\xbaD$IQ\\x04\\x9a\\x1b!\\xf5\\xbaD\\xab\\xe5<\\xbeB\\x91\\xf3L\\x0b\\xd6\\x18\\r%\\xda\\x82C\\xb3\\xea\\xf4\\xa4\\xe0-\\xe5\\xc6\\xc2\\xa35-X/\\xc1E\\x81\\xa4\\x1d\\xe5m\\x896\\xde\\xb7\\x14c\\xc77\\xa0\\x98K\\x82C\\x07\\xb16V1\\x1f\\x8ev\\x8d[\\xc6\\xdf\\xd8\\x1ap\\x96\\xa6\\x17X\\x81g\\x82y\\x86{`\\xdc\\x8eD\\xb4G\\n>\"\\xdbw\\xdb\\x0c\\x00\\xc114\\xa0@{\\x87IB\\xf0\\xb7\\xd7\\x83U\\xee\\xd7\\x81A\\x998\\x95\\xf4\\xdb6t\\xda\\xc7\\x9d\\xb2\\x05\\xdf\\x89\\xa3\\xfb\\xd3\\xc9\\xd1\\xd8u]\\xd2\\xe5C\\x8c\\x90\\x9f\\xe0\\x97\\xc5\\xfd\\xd3P5\\x96\\xba\\xdf\\x15\\x07T\\x15\\x82Sn\\x81yc\\xab\\x85\\xe4\\xd68S\\xfb\\xe8\\xa1\\xae%\\x87h\\xe5\\xc0\\x16x\\xe2\\xe8\\xb7\\xd90\\xe7\\x17a\\xf1\\xb5\\x04q\\xb3\\xfdk\\xe8\\xd8\\x18^\\x1a\\x8a\\xed\\x9e\\x03\\x11\\x85\\xa8tW\\xec\\xa0<\\xe7\\xb7w\\xcb9\\xaa\\xb2\\x94\\\\\\xc7\\x84\\xc4\\x19Yf9=\\'4\\xbb|\\xeds\\xfc\\x98\\xef\\xa3\\xef.\\xd4>\\xcd\\xff\\x89g\\x94\\xe4\\x13\\xe2\\x01P\\x15\\xf8\\xe8\\xbbT_\\x00\\x00\\x00\\xff\\xff\\x03\\x00PK\\x03\\x04\\x14\\x00\\x06\\x00\\x08\\x00\\x00\\x00!\\x00\\xb3\\xb7\\x94\\xaf\\x9a\\x01\\x00\\x00\"\\x03\\x00\\x00\\x10\\x00\\x08\\x01docProps/app.xml \\xa2\\x04\\x01(\\xa0\\x00\\x01\\x00\\x00\\x00\\x00\\x00\\x00\\x00\\x00\\x00\\x00\\x00\\x00\\x00\\x00\\x00\\x00\\x00\\x00\\x00\\x00\\x00\\x00\\x00\\x00\\x00\\x00\\x00\\x00\\x00\\x00\\x00\\x00\\x00\\x00\\x00\\x00\\x00\\x00\\x00\\x00\\x00\\x00\\x00\\x00\\x00\\x00\\x00\\x00\\x00\\x00\\x00\\x00\\x00\\x00\\x00\\x00\\x00\\x00\\x00\\x00\\x00\\x00\\x00\\x00\\x00\\x00\\x00\\x00\\x00\\x00\\x00\\x00\\x00\\x00\\x00\\x00\\x00\\x00\\x00\\x00\\x00\\x00\\x00\\x00\\x00\\x00\\x00\\x00\\x00\\x00\\x00\\x00\\x00\\x00\\x00\\x00\\x00\\x00\\x00\\x00\\x00\\x00\\x00\\x00\\x00\\x00\\x00\\x00\\x00\\x00\\x00\\x00\\x00\\x00\\x00\\x00\\x00\\x00\\x00\\x00\\x00\\x00\\x00\\x00\\x00\\x00\\x00\\x00\\x00\\x00\\x00\\x00\\x00\\x00\\x00\\x00\\x00\\x00\\x00\\x00\\x00\\x00\\x00\\x00\\x00\\x00\\x00\\x00\\x00\\x00\\x00\\x00\\x00\\x00\\x00\\x00\\x00\\x00\\x00\\x00\\x00\\x00\\x00\\x00\\x00\\x00\\x00\\x00\\x00\\x00\\x00\\x00\\x00\\x00\\x00\\x00\\x00\\x00\\x00\\x00\\x00\\x00\\x00\\x00\\x00\\x00\\x00\\x00\\x00\\x00\\x00\\x00\\x00\\x00\\x00\\x00\\x00\\x00\\x00\\x00\\x00\\x00\\x00\\x00\\x00\\x00\\x00\\x00\\x00\\x00\\x00\\x00\\x00\\x00\\x00\\x00\\x00\\x00\\x00\\x00\\x00\\x00\\x00\\x00\\x00\\x00\\x00\\x00\\x00\\x00\\x00\\x00\\x00\\x00\\x00\\x00\\x00\\x00\\x00\\x00\\x00\\x00\\x00\\x00\\x00\\x00\\x00\\x00\\x00\\x00\\x00\\x00\\x00\\x00\\x00\\x00\\x9c\\x92\\xc1n\\xdb0\\x0c\\x86\\xef\\x03\\xf6\\x0e\\x86\\xee\\x8d\\x9cn(\\x86@VQ\\xa4\\x1bzX\\xb1\\x00qzgd:\\x16&K\\x86\\xc4\\x1a\\xc9\\x9ego\\xd2\\x17+m\\xa3\\xa9\\xb3\\xed\\xb4\\x1b\\xc9\\x9f\\xfa\\xf9\\x89\\x92\\xba=\\xb6.\\xeb1&\\x1b|!\\x96\\x8b\\\\d\\xe8M\\xa8\\xac?\\x14bW~\\xbb\\xfa\"\\xb2D\\xe0+p\\xc1c!N\\x98\\xc4\\xad\\xfe\\xf8Amb\\xe80\\x92\\xc5\\x94\\xb1\\x85O\\x85h\\x88\\xba\\x95\\x94\\xc94\\xd8BZ\\xb0\\xecY\\xa9Cl\\x818\\x8d\\x07\\x19\\xea\\xda\\x1a\\xbc\\x0f\\xe6\\xb9EO\\xf2:\\xcfo$\\x1e\\t}\\x85\\xd5Uw6\\x14\\x93\\xe3\\xaa\\xa7\\xff5\\xad\\x82\\x19\\xf8\\xd2Sy\\xea\\x18X\\xab\\xbb\\xaes\\xd6\\x00\\xf1-\\xf5\\xa351\\xa4PS\\xf6\\x08\\xc6z\\n\\xa9\\xc9\\xbe\\x1e\\r:%\\xe7m\\x8a9\\xb7h\\x9e\\xa3\\xa5\\x93\\xce\\x95\\x9c\\xa7jk\\xc0\\xe1\\x9aG\\xe8\\x1a\\\\B%\\xdf\\x0b\\xea\\x01aX\\xdf\\x06lLZ\\xf5\\xb4\\xea\\xd1P\\x88Y\\xb2\\xbfx\\x81\\xd7\"\\xdbC\\xc2\\x01\\xac\\x10=D\\x0b\\x9e\\x18ph\\x9b\\x921v]\\xa2\\xa8\\xef\\xe2\\x1e-\\xa5\\xbd{\\xf9M\\x84QI\\xee\\x9a\\x941\\x9c\\x1f\\x98\\xc7\\xf6\\xb3^\\x8e\\r\\x1c\\\\6\\x0e\\x06\\x13\\r\\x0b\\x97\\x9c\\xa5%\\x87\\xe9G\\xbd\\x81H\\xff\\xc0^\\xce\\xb1G\\x86\\tz\\xc2)a\\x8f\\xce\\xe14uN8\\xde\\x9cg\\xfd\\xe1\\xbe\\x0em\\x07\\xfe\\xc4\\xc29\\xfan\\xfd\\xcf\\xb4\\xeb\\xcap\\x0f\\x84o[\\xbd,\\xaam\\x03\\x11+~\\x88\\xf3\\xd6\\xcf\\x05\\xf5\\xc0\\x0b\\x8dn0Y7\\xe0\\x0fX\\xbd\\xf5\\xfc-\\x0c\\xbf\\xe1i\\xfa\\xf2zy\\xb3\\xc8?\\xe5\\xfc\\xbc\\xb3\\x9a\\x92\\xef\\x9f[\\xbf\\x02\\x00\\x00\\xff\\xff\\x03\\x00PK\\x01\\x02-\\x00\\x14\\x00\\x06\\x00\\x08\\x00\\x00\\x00!\\x00b\\xee\\x9dh^\\x01\\x00\\x00\\x90\\x04\\x00\\x00\\x13\\x00\\x00\\x00\\x00\\x00\\x00\\x00\\x00\\x00\\x00\\x00\\x00\\x00\\x00\\x00\\x00\\x00[Content_Types].xmlPK\\x01\\x02-\\x00\\x14\\x00\\x06\\x00\\x08\\x00\\x00\\x00!\\x00\\xb5U0#\\xf4\\x00\\x00\\x00L\\x02\\x00\\x00\\x0b\\x00\\x00\\x00\\x00\\x00\\x00\\x00\\x00\\x00\\x00\\x00\\x00\\x00\\x97\\x03\\x00\\x00_rels/.relsPK\\x01\\x02-\\x00\\x14\\x00\\x06\\x00\\x08\\x00\\x00\\x00!\\x00\\x81>\\x94\\x97\\xf3\\x00\\x00\\x00\\xba\\x02\\x00\\x00\\x1a\\x00\\x00\\x00\\x00\\x00\\x00\\x00\\x00\\x00\\x00\\x00\\x00\\x00\\xbc\\x06\\x00\\x00xl/_rels/workbook.xml.relsPK\\x01\\x02-\\x00\\x14\\x00\\x06\\x00\\x08\\x00\\x00\\x00!\\x00z\\xc0r\\xfb\\x0b\\x03\\x00\\x00\\xe5\\x06\\x00\\x00\\x0f\\x00\\x00\\x00\\x00\\x00\\x00\\x00\\x00\\x00\\x00\\x00\\x00\\x00\\xef\\x08\\x00\\x00xl/workbook.xmlPK\\x01\\x02-\\x00\\x14\\x00\\x06\\x00\\x08\\x00\\x00\\x00!\\x00&\\xdf\\x90\\xf5\\xb0\\x00\\x00\\x00\\x02\\x01\\x00\\x00\\x14\\x00\\x00\\x00\\x00\\x00\\x00\\x00\\x00\\x00\\x00\\x00\\x00\\x00\\'\\x0c\\x00\\x00xl/sharedStrings.xmlPK\\x01\\x02-\\x00\\x14\\x00\\x06\\x00\\x08\\x00\\x00\\x00!\\x00X\\x077\\xe9N\\x07\\x00\\x00\\xc0 \\x00\\x00\\x13\\x00\\x00\\x00\\x00\\x00\\x00\\x00\\x00\\x00\\x00\\x00\\x00\\x00\\t\\r\\x00\\x00xl/theme/theme1.xmlPK\\x01\\x02-\\x00\\x14\\x00\\x06\\x00\\x08\\x00\\x00\\x00!\\x00{(\\x91\\x9c\\x03\\x03\\x00\\x00\\x10\\x08\\x00\\x00\\r\\x00\\x00\\x00\\x00\\x00\\x00\\x00\\x00\\x00\\x00\\x00\\x00\\x00\\x88\\x14\\x00\\x00xl/styles.xmlPK\\x01\\x02-\\x00\\x14\\x00\\x06\\x00\\x08\\x00\\x00\\x00!\\x00t\\x8fP\\x9eF\\x03\\x00\\x00\\xcf\\x0c\\x00\\x00\\x18\\x00\\x00\\x00\\x00\\x00\\x00\\x00\\x00\\x00\\x00\\x00\\x00\\x00\\xb6\\x17\\x00\\x00xl/worksheets/sheet1.xmlPK\\x01\\x02-\\x00\\x14\\x00\\x06\\x00\\x08\\x00\\x00\\x00!\\x00\\xc8\\x1f\\x99\\x8fJ\\x01\\x00\\x00{\\x02\\x00\\x00\\x11\\x00\\x00\\x00\\x00\\x00\\x00\\x00\\x00\\x00\\x00\\x00\\x00\\x002\\x1b\\x00\\x00docProps/core.xmlPK\\x01\\x02-\\x00\\x14\\x00\\x06\\x00\\x08\\x00\\x00\\x00!\\x00\\xb3\\xb7\\x94\\xaf\\x9a\\x01\\x00\\x00\"\\x03\\x00\\x00\\x10\\x00\\x00\\x00\\x00\\x00\\x00\\x00\\x00\\x00\\x00\\x00\\x00\\x00\\xb3\\x1d\\x00\\x00docProps/app.xmlPK\\x05\\x06\\x00\\x00\\x00\\x00\\n\\x00\\n\\x00\\x80\\x02\\x00\\x00\\x83 \\x00\\x00\\x00\\x00',\n",
       " 'filename': 'example.xlsx'}"
      ]
     },
     "execution_count": 70,
     "metadata": {},
     "output_type": "execute_result"
    }
   ],
   "source": [
    "dic_new"
   ]
  },
  {
   "cell_type": "code",
   "execution_count": 71,
   "metadata": {},
   "outputs": [
    {
     "data": {
      "text/plain": [
       "8985"
      ]
     },
     "execution_count": 71,
     "metadata": {},
     "output_type": "execute_result"
    }
   ],
   "source": [
    "newFile = open('/media/sf_VB_Shared/Projekte/Driverlicense/example_new.xlsx', \"wb\")\n",
    "newFile.write(dic_new['contents'])"
   ]
  },
  {
   "cell_type": "markdown",
   "metadata": {},
   "source": [
    "Saving a file using gridfs"
   ]
  },
  {
   "cell_type": "code",
   "execution_count": 72,
   "metadata": {},
   "outputs": [],
   "source": [
    "from gridfs import GridFS"
   ]
  },
  {
   "cell_type": "code",
   "execution_count": 73,
   "metadata": {},
   "outputs": [],
   "source": [
    "fs = GridFS(db)"
   ]
  },
  {
   "cell_type": "code",
   "execution_count": 74,
   "metadata": {},
   "outputs": [],
   "source": [
    "fs.delete({'filename' : 'example.xlsx'})"
   ]
  },
  {
   "cell_type": "code",
   "execution_count": 75,
   "metadata": {},
   "outputs": [
    {
     "data": {
      "text/plain": [
       "ObjectId('5dd7d99a8649564aa01036c9')"
      ]
     },
     "execution_count": 75,
     "metadata": {},
     "output_type": "execute_result"
    }
   ],
   "source": [
    "filepath = '/media/sf_VB_Shared/Projekte/Driverlicense/example.xlsx'\n",
    "file = open(filepath, \"rb\").read()\n",
    "fs.put(file, filename='example.xlsx')"
   ]
  },
  {
   "cell_type": "code",
   "execution_count": 76,
   "metadata": {},
   "outputs": [
    {
     "data": {
      "text/plain": [
       "<gridfs.GridFS at 0x7f45df1ed7f0>"
      ]
     },
     "execution_count": 76,
     "metadata": {},
     "output_type": "execute_result"
    }
   ],
   "source": [
    "fs"
   ]
  },
  {
   "cell_type": "code",
   "execution_count": 77,
   "metadata": {},
   "outputs": [],
   "source": [
    "from io import BytesIO\n",
    "fh = fs.get_last_version('example.xlsx')\n",
    "body = BytesIO(fh.read())\n",
    "body.seek(0)\n",
    "df = pd.read_excel(body, header=None)"
   ]
  },
  {
   "cell_type": "code",
   "execution_count": 78,
   "metadata": {},
   "outputs": [
    {
     "data": {
      "text/html": [
       "<div>\n",
       "<style scoped>\n",
       "    .dataframe tbody tr th:only-of-type {\n",
       "        vertical-align: middle;\n",
       "    }\n",
       "\n",
       "    .dataframe tbody tr th {\n",
       "        vertical-align: top;\n",
       "    }\n",
       "\n",
       "    .dataframe thead th {\n",
       "        text-align: right;\n",
       "    }\n",
       "</style>\n",
       "<table border=\"1\" class=\"dataframe\">\n",
       "  <thead>\n",
       "    <tr style=\"text-align: right;\">\n",
       "      <th></th>\n",
       "      <th>0</th>\n",
       "      <th>1</th>\n",
       "    </tr>\n",
       "  </thead>\n",
       "  <tbody>\n",
       "    <tr>\n",
       "      <td>0</td>\n",
       "      <td>Spalte1</td>\n",
       "      <td>Spalte2</td>\n",
       "    </tr>\n",
       "    <tr>\n",
       "      <td>1</td>\n",
       "      <td>100</td>\n",
       "      <td>A</td>\n",
       "    </tr>\n",
       "    <tr>\n",
       "      <td>2</td>\n",
       "      <td>200</td>\n",
       "      <td>B</td>\n",
       "    </tr>\n",
       "    <tr>\n",
       "      <td>3</td>\n",
       "      <td>300</td>\n",
       "      <td>C</td>\n",
       "    </tr>\n",
       "    <tr>\n",
       "      <td>4</td>\n",
       "      <td>400</td>\n",
       "      <td>A</td>\n",
       "    </tr>\n",
       "    <tr>\n",
       "      <td>5</td>\n",
       "      <td>500</td>\n",
       "      <td>B</td>\n",
       "    </tr>\n",
       "    <tr>\n",
       "      <td>6</td>\n",
       "      <td>600</td>\n",
       "      <td>C</td>\n",
       "    </tr>\n",
       "    <tr>\n",
       "      <td>7</td>\n",
       "      <td>700</td>\n",
       "      <td>A</td>\n",
       "    </tr>\n",
       "    <tr>\n",
       "      <td>8</td>\n",
       "      <td>800</td>\n",
       "      <td>B</td>\n",
       "    </tr>\n",
       "    <tr>\n",
       "      <td>9</td>\n",
       "      <td>900</td>\n",
       "      <td>C</td>\n",
       "    </tr>\n",
       "    <tr>\n",
       "      <td>10</td>\n",
       "      <td>1000</td>\n",
       "      <td>A</td>\n",
       "    </tr>\n",
       "    <tr>\n",
       "      <td>11</td>\n",
       "      <td>1100</td>\n",
       "      <td>B</td>\n",
       "    </tr>\n",
       "    <tr>\n",
       "      <td>12</td>\n",
       "      <td>1200</td>\n",
       "      <td>C</td>\n",
       "    </tr>\n",
       "    <tr>\n",
       "      <td>13</td>\n",
       "      <td>1300</td>\n",
       "      <td>A</td>\n",
       "    </tr>\n",
       "    <tr>\n",
       "      <td>14</td>\n",
       "      <td>1400</td>\n",
       "      <td>B</td>\n",
       "    </tr>\n",
       "    <tr>\n",
       "      <td>15</td>\n",
       "      <td>1500</td>\n",
       "      <td>C</td>\n",
       "    </tr>\n",
       "    <tr>\n",
       "      <td>16</td>\n",
       "      <td>1600</td>\n",
       "      <td>A</td>\n",
       "    </tr>\n",
       "    <tr>\n",
       "      <td>17</td>\n",
       "      <td>1700</td>\n",
       "      <td>B</td>\n",
       "    </tr>\n",
       "    <tr>\n",
       "      <td>18</td>\n",
       "      <td>1800</td>\n",
       "      <td>C</td>\n",
       "    </tr>\n",
       "    <tr>\n",
       "      <td>19</td>\n",
       "      <td>1900</td>\n",
       "      <td>A</td>\n",
       "    </tr>\n",
       "  </tbody>\n",
       "</table>\n",
       "</div>"
      ],
      "text/plain": [
       "          0        1\n",
       "0   Spalte1  Spalte2\n",
       "1       100        A\n",
       "2       200        B\n",
       "3       300        C\n",
       "4       400        A\n",
       "5       500        B\n",
       "6       600        C\n",
       "7       700        A\n",
       "8       800        B\n",
       "9       900        C\n",
       "10     1000        A\n",
       "11     1100        B\n",
       "12     1200        C\n",
       "13     1300        A\n",
       "14     1400        B\n",
       "15     1500        C\n",
       "16     1600        A\n",
       "17     1700        B\n",
       "18     1800        C\n",
       "19     1900        A"
      ]
     },
     "execution_count": 78,
     "metadata": {},
     "output_type": "execute_result"
    }
   ],
   "source": [
    "df"
   ]
  },
  {
   "cell_type": "code",
   "execution_count": 79,
   "metadata": {},
   "outputs": [
    {
     "data": {
      "text/plain": [
       "8985"
      ]
     },
     "execution_count": 79,
     "metadata": {},
     "output_type": "execute_result"
    }
   ],
   "source": [
    "from io import BytesIO\n",
    "fh = fs.get_last_version('example.xlsx')\n",
    "body = BytesIO(fh.read())\n",
    "body.seek(0)\n",
    "newFile = open('/media/sf_VB_Shared/Projekte/Driverlicense/example_gf_new.xlsx', \"wb\")\n",
    "newFile.write(body.read())"
   ]
  },
  {
   "cell_type": "code",
   "execution_count": 80,
   "metadata": {
    "scrolled": true
   },
   "outputs": [
    {
     "data": {
      "application/vnd.jupyter.widget-view+json": {
       "model_id": "8912f7371aaf4d47b3b4a371fecb48fa",
       "version_major": 2,
       "version_minor": 0
      },
      "text/plain": [
       "Video(value=b'\\x00\\x00\\x00 ftypisom\\x00\\x00\\x02\\x00isomiso2avc1mp41\\x00\\x00\\x00\\x08free\\x00\\x10\\x0bKmdat\\x01\\x…"
      ]
     },
     "metadata": {},
     "output_type": "display_data"
    }
   ],
   "source": [
    "#from IPython.display import Video\n",
    "from ipywidgets import Video\n",
    "videopath = \"/media/sf_VB_Shared/Projekte/Driverlicense/SampleVideo_1280x720_1mb.mp4\"\n",
    "video = Video.from_file(videopath)\n",
    "video"
   ]
  },
  {
   "cell_type": "code",
   "execution_count": 81,
   "metadata": {},
   "outputs": [
    {
     "data": {
      "text/plain": [
       "ObjectId('5dd7d9a38649564aa01036cb')"
      ]
     },
     "execution_count": 81,
     "metadata": {},
     "output_type": "execute_result"
    }
   ],
   "source": [
    "file = open(videopath, \"rb\").read()\n",
    "fs.put(file, filename='video_example.mp4')"
   ]
  },
  {
   "cell_type": "code",
   "execution_count": 82,
   "metadata": {},
   "outputs": [
    {
     "data": {
      "text/plain": [
       "1055736"
      ]
     },
     "execution_count": 82,
     "metadata": {},
     "output_type": "execute_result"
    }
   ],
   "source": [
    "fh = fs.get_last_version('video_example.mp4')\n",
    "newFile = open('/media/sf_VB_Shared/Projekte/Driverlicense/video_gf.mp4', \"wb\")\n",
    "newFile.write(BytesIO(fh.read()).read())"
   ]
  },
  {
   "cell_type": "markdown",
   "metadata": {},
   "source": [
    "Aggregation pipeline"
   ]
  },
  {
   "cell_type": "code",
   "execution_count": 83,
   "metadata": {},
   "outputs": [
    {
     "data": {
      "text/plain": [
       "<pymongo.results.InsertManyResult at 0x7f45df0e5a48>"
      ]
     },
     "execution_count": 83,
     "metadata": {},
     "output_type": "execute_result"
    }
   ],
   "source": [
    "coll.delete_many({})\n",
    "coll.insert_many(list_of_dics)"
   ]
  },
  {
   "cell_type": "code",
   "execution_count": 84,
   "metadata": {},
   "outputs": [],
   "source": [
    "cur = coll.aggregate([{'$match' : {}}])"
   ]
  },
  {
   "cell_type": "code",
   "execution_count": 85,
   "metadata": {},
   "outputs": [
    {
     "data": {
      "text/html": [
       "<div>\n",
       "<style scoped>\n",
       "    .dataframe tbody tr th:only-of-type {\n",
       "        vertical-align: middle;\n",
       "    }\n",
       "\n",
       "    .dataframe tbody tr th {\n",
       "        vertical-align: top;\n",
       "    }\n",
       "\n",
       "    .dataframe thead th {\n",
       "        text-align: right;\n",
       "    }\n",
       "</style>\n",
       "<table border=\"1\" class=\"dataframe\">\n",
       "  <thead>\n",
       "    <tr style=\"text-align: right;\">\n",
       "      <th></th>\n",
       "      <th>_id</th>\n",
       "      <th>age</th>\n",
       "      <th>ages_of_children</th>\n",
       "      <th>first_name</th>\n",
       "      <th>gender</th>\n",
       "      <th>grades</th>\n",
       "      <th>last_name</th>\n",
       "    </tr>\n",
       "  </thead>\n",
       "  <tbody>\n",
       "    <tr>\n",
       "      <td>0</td>\n",
       "      <td>5dd7d5f88649564aa01036c4</td>\n",
       "      <td>26</td>\n",
       "      <td>[10, 12]</td>\n",
       "      <td>Peter</td>\n",
       "      <td>m</td>\n",
       "      <td>{'skiing': 1, 'biking': 5}</td>\n",
       "      <td>Pan</td>\n",
       "    </tr>\n",
       "    <tr>\n",
       "      <td>1</td>\n",
       "      <td>5dd7d5f88649564aa01036c5</td>\n",
       "      <td>25</td>\n",
       "      <td>[13]</td>\n",
       "      <td>Marie</td>\n",
       "      <td>f</td>\n",
       "      <td>{'skiing': 5, 'biking': 2}</td>\n",
       "      <td>Curie</td>\n",
       "    </tr>\n",
       "    <tr>\n",
       "      <td>2</td>\n",
       "      <td>5dd7d5f88649564aa01036c6</td>\n",
       "      <td>29</td>\n",
       "      <td>[7, 7, 7]</td>\n",
       "      <td>Julius</td>\n",
       "      <td>m</td>\n",
       "      <td>{'skiing': 3, 'biking': 4}</td>\n",
       "      <td>Cäsar</td>\n",
       "    </tr>\n",
       "    <tr>\n",
       "      <td>3</td>\n",
       "      <td>5dd7d5f88649564aa01036c7</td>\n",
       "      <td>29</td>\n",
       "      <td>[0]</td>\n",
       "      <td>Hans</td>\n",
       "      <td>m</td>\n",
       "      <td>{'skiing': 6, 'biking': 6}</td>\n",
       "      <td>Dampf</td>\n",
       "    </tr>\n",
       "  </tbody>\n",
       "</table>\n",
       "</div>"
      ],
      "text/plain": [
       "                        _id  age ages_of_children first_name gender  \\\n",
       "0  5dd7d5f88649564aa01036c4   26         [10, 12]      Peter      m   \n",
       "1  5dd7d5f88649564aa01036c5   25             [13]      Marie      f   \n",
       "2  5dd7d5f88649564aa01036c6   29        [7, 7, 7]     Julius      m   \n",
       "3  5dd7d5f88649564aa01036c7   29              [0]       Hans      m   \n",
       "\n",
       "                       grades last_name  \n",
       "0  {'skiing': 1, 'biking': 5}       Pan  \n",
       "1  {'skiing': 5, 'biking': 2}     Curie  \n",
       "2  {'skiing': 3, 'biking': 4}     Cäsar  \n",
       "3  {'skiing': 6, 'biking': 6}     Dampf  "
      ]
     },
     "execution_count": 85,
     "metadata": {},
     "output_type": "execute_result"
    }
   ],
   "source": [
    "pd.DataFrame(list(cur))"
   ]
  },
  {
   "cell_type": "code",
   "execution_count": 86,
   "metadata": {},
   "outputs": [
    {
     "data": {
      "text/html": [
       "<div>\n",
       "<style scoped>\n",
       "    .dataframe tbody tr th:only-of-type {\n",
       "        vertical-align: middle;\n",
       "    }\n",
       "\n",
       "    .dataframe tbody tr th {\n",
       "        vertical-align: top;\n",
       "    }\n",
       "\n",
       "    .dataframe thead th {\n",
       "        text-align: right;\n",
       "    }\n",
       "</style>\n",
       "<table border=\"1\" class=\"dataframe\">\n",
       "  <thead>\n",
       "    <tr style=\"text-align: right;\">\n",
       "      <th></th>\n",
       "      <th>_id</th>\n",
       "      <th>age</th>\n",
       "      <th>ages_of_children</th>\n",
       "      <th>first_name</th>\n",
       "      <th>gender</th>\n",
       "      <th>grades</th>\n",
       "      <th>last_name</th>\n",
       "    </tr>\n",
       "  </thead>\n",
       "  <tbody>\n",
       "    <tr>\n",
       "      <td>0</td>\n",
       "      <td>5dd7d5f88649564aa01036c4</td>\n",
       "      <td>26</td>\n",
       "      <td>[10, 12]</td>\n",
       "      <td>Peter</td>\n",
       "      <td>m</td>\n",
       "      <td>{'skiing': 1, 'biking': 5}</td>\n",
       "      <td>Pan</td>\n",
       "    </tr>\n",
       "    <tr>\n",
       "      <td>1</td>\n",
       "      <td>5dd7d5f88649564aa01036c6</td>\n",
       "      <td>29</td>\n",
       "      <td>[7, 7, 7]</td>\n",
       "      <td>Julius</td>\n",
       "      <td>m</td>\n",
       "      <td>{'skiing': 3, 'biking': 4}</td>\n",
       "      <td>Cäsar</td>\n",
       "    </tr>\n",
       "    <tr>\n",
       "      <td>2</td>\n",
       "      <td>5dd7d5f88649564aa01036c7</td>\n",
       "      <td>29</td>\n",
       "      <td>[0]</td>\n",
       "      <td>Hans</td>\n",
       "      <td>m</td>\n",
       "      <td>{'skiing': 6, 'biking': 6}</td>\n",
       "      <td>Dampf</td>\n",
       "    </tr>\n",
       "  </tbody>\n",
       "</table>\n",
       "</div>"
      ],
      "text/plain": [
       "                        _id  age ages_of_children first_name gender  \\\n",
       "0  5dd7d5f88649564aa01036c4   26         [10, 12]      Peter      m   \n",
       "1  5dd7d5f88649564aa01036c6   29        [7, 7, 7]     Julius      m   \n",
       "2  5dd7d5f88649564aa01036c7   29              [0]       Hans      m   \n",
       "\n",
       "                       grades last_name  \n",
       "0  {'skiing': 1, 'biking': 5}       Pan  \n",
       "1  {'skiing': 3, 'biking': 4}     Cäsar  \n",
       "2  {'skiing': 6, 'biking': 6}     Dampf  "
      ]
     },
     "execution_count": 86,
     "metadata": {},
     "output_type": "execute_result"
    }
   ],
   "source": [
    "pd.DataFrame(list(coll.aggregate([{'$match' : {'age': {'$gt' : 25}}}])))"
   ]
  },
  {
   "cell_type": "code",
   "execution_count": 87,
   "metadata": {},
   "outputs": [
    {
     "data": {
      "text/html": [
       "<div>\n",
       "<style scoped>\n",
       "    .dataframe tbody tr th:only-of-type {\n",
       "        vertical-align: middle;\n",
       "    }\n",
       "\n",
       "    .dataframe tbody tr th {\n",
       "        vertical-align: top;\n",
       "    }\n",
       "\n",
       "    .dataframe thead th {\n",
       "        text-align: right;\n",
       "    }\n",
       "</style>\n",
       "<table border=\"1\" class=\"dataframe\">\n",
       "  <thead>\n",
       "    <tr style=\"text-align: right;\">\n",
       "      <th></th>\n",
       "      <th>age</th>\n",
       "      <th>first_name</th>\n",
       "    </tr>\n",
       "  </thead>\n",
       "  <tbody>\n",
       "    <tr>\n",
       "      <td>0</td>\n",
       "      <td>26</td>\n",
       "      <td>Peter</td>\n",
       "    </tr>\n",
       "    <tr>\n",
       "      <td>1</td>\n",
       "      <td>29</td>\n",
       "      <td>Julius</td>\n",
       "    </tr>\n",
       "    <tr>\n",
       "      <td>2</td>\n",
       "      <td>29</td>\n",
       "      <td>Hans</td>\n",
       "    </tr>\n",
       "  </tbody>\n",
       "</table>\n",
       "</div>"
      ],
      "text/plain": [
       "   age first_name\n",
       "0   26      Peter\n",
       "1   29     Julius\n",
       "2   29       Hans"
      ]
     },
     "execution_count": 87,
     "metadata": {},
     "output_type": "execute_result"
    }
   ],
   "source": [
    "pd.DataFrame(list(coll.aggregate([\n",
    "                                  {'$match' : {'age': {'$gt' : 25}}},\n",
    "                                  {'$project' : {'_id' : 0, 'age' : 1 , 'first_name' : 1}}\n",
    "                                 ])))"
   ]
  },
  {
   "cell_type": "code",
   "execution_count": 89,
   "metadata": {},
   "outputs": [
    {
     "data": {
      "text/html": [
       "<div>\n",
       "<style scoped>\n",
       "    .dataframe tbody tr th:only-of-type {\n",
       "        vertical-align: middle;\n",
       "    }\n",
       "\n",
       "    .dataframe tbody tr th {\n",
       "        vertical-align: top;\n",
       "    }\n",
       "\n",
       "    .dataframe thead th {\n",
       "        text-align: right;\n",
       "    }\n",
       "</style>\n",
       "<table border=\"1\" class=\"dataframe\">\n",
       "  <thead>\n",
       "    <tr style=\"text-align: right;\">\n",
       "      <th></th>\n",
       "      <th>age</th>\n",
       "      <th>biking_grade</th>\n",
       "      <th>first_name</th>\n",
       "    </tr>\n",
       "  </thead>\n",
       "  <tbody>\n",
       "    <tr>\n",
       "      <td>0</td>\n",
       "      <td>26</td>\n",
       "      <td>5</td>\n",
       "      <td>Peter</td>\n",
       "    </tr>\n",
       "    <tr>\n",
       "      <td>1</td>\n",
       "      <td>29</td>\n",
       "      <td>4</td>\n",
       "      <td>Julius</td>\n",
       "    </tr>\n",
       "    <tr>\n",
       "      <td>2</td>\n",
       "      <td>29</td>\n",
       "      <td>6</td>\n",
       "      <td>Hans</td>\n",
       "    </tr>\n",
       "  </tbody>\n",
       "</table>\n",
       "</div>"
      ],
      "text/plain": [
       "   age  biking_grade first_name\n",
       "0   26             5      Peter\n",
       "1   29             4     Julius\n",
       "2   29             6       Hans"
      ]
     },
     "execution_count": 89,
     "metadata": {},
     "output_type": "execute_result"
    }
   ],
   "source": [
    "pd.DataFrame(list(coll.aggregate([\n",
    "                                  {'$match' : {'age': {'$gt' : 25}}},\n",
    "                                  {'$project' : {'_id' : 0, 'age' : 1 , 'first_name' : 1, 'biking_grade' : '$grades.biking'}}\n",
    "                                 ])))"
   ]
  },
  {
   "cell_type": "code",
   "execution_count": 90,
   "metadata": {},
   "outputs": [
    {
     "data": {
      "text/html": [
       "<div>\n",
       "<style scoped>\n",
       "    .dataframe tbody tr th:only-of-type {\n",
       "        vertical-align: middle;\n",
       "    }\n",
       "\n",
       "    .dataframe tbody tr th {\n",
       "        vertical-align: top;\n",
       "    }\n",
       "\n",
       "    .dataframe thead th {\n",
       "        text-align: right;\n",
       "    }\n",
       "</style>\n",
       "<table border=\"1\" class=\"dataframe\">\n",
       "  <thead>\n",
       "    <tr style=\"text-align: right;\">\n",
       "      <th></th>\n",
       "      <th>_id</th>\n",
       "    </tr>\n",
       "  </thead>\n",
       "  <tbody>\n",
       "    <tr>\n",
       "      <td>0</td>\n",
       "      <td>{'Gender': 'f', 'Age': 25}</td>\n",
       "    </tr>\n",
       "    <tr>\n",
       "      <td>1</td>\n",
       "      <td>{'Gender': 'm', 'Age': 29}</td>\n",
       "    </tr>\n",
       "    <tr>\n",
       "      <td>2</td>\n",
       "      <td>{'Gender': 'm', 'Age': 26}</td>\n",
       "    </tr>\n",
       "  </tbody>\n",
       "</table>\n",
       "</div>"
      ],
      "text/plain": [
       "                          _id\n",
       "0  {'Gender': 'f', 'Age': 25}\n",
       "1  {'Gender': 'm', 'Age': 29}\n",
       "2  {'Gender': 'm', 'Age': 26}"
      ]
     },
     "execution_count": 90,
     "metadata": {},
     "output_type": "execute_result"
    }
   ],
   "source": [
    "pd.DataFrame(list(coll.aggregate([\n",
    "                                  {'$match' : {}},\n",
    "                                  {'$project' : {'_id' : 0}},\n",
    "                                  {'$group' : {'_id' : {'Gender' : '$gender', 'Age' : '$age'}}}\n",
    "                                 ])))\n",
    "\n",
    "\n"
   ]
  },
  {
   "cell_type": "code",
   "execution_count": 91,
   "metadata": {},
   "outputs": [
    {
     "data": {
      "text/html": [
       "<div>\n",
       "<style scoped>\n",
       "    .dataframe tbody tr th:only-of-type {\n",
       "        vertical-align: middle;\n",
       "    }\n",
       "\n",
       "    .dataframe tbody tr th {\n",
       "        vertical-align: top;\n",
       "    }\n",
       "\n",
       "    .dataframe thead th {\n",
       "        text-align: right;\n",
       "    }\n",
       "</style>\n",
       "<table border=\"1\" class=\"dataframe\">\n",
       "  <thead>\n",
       "    <tr style=\"text-align: right;\">\n",
       "      <th></th>\n",
       "      <th>Mean_Age</th>\n",
       "      <th>Total_Age</th>\n",
       "      <th>_id</th>\n",
       "    </tr>\n",
       "  </thead>\n",
       "  <tbody>\n",
       "    <tr>\n",
       "      <td>0</td>\n",
       "      <td>25.0</td>\n",
       "      <td>25</td>\n",
       "      <td>{'Gender': 'f'}</td>\n",
       "    </tr>\n",
       "    <tr>\n",
       "      <td>1</td>\n",
       "      <td>28.0</td>\n",
       "      <td>84</td>\n",
       "      <td>{'Gender': 'm'}</td>\n",
       "    </tr>\n",
       "  </tbody>\n",
       "</table>\n",
       "</div>"
      ],
      "text/plain": [
       "   Mean_Age  Total_Age              _id\n",
       "0      25.0         25  {'Gender': 'f'}\n",
       "1      28.0         84  {'Gender': 'm'}"
      ]
     },
     "execution_count": 91,
     "metadata": {},
     "output_type": "execute_result"
    }
   ],
   "source": [
    "pd.DataFrame(list(coll.aggregate([\n",
    "                                  {'$match' : {}},\n",
    "                                  {'$project' : {'_id' : 0}},\n",
    "                                  {'$group' : {'_id' : {'Gender' : '$gender'},\n",
    "                                               'Total_Age' : {'$sum': '$age'},\n",
    "                                               'Mean_Age' : {'$avg': '$age'},\n",
    "                                               }\n",
    "                                  } \n",
    "                                  ])))\n",
    " "
   ]
  },
  {
   "cell_type": "code",
   "execution_count": 92,
   "metadata": {},
   "outputs": [
    {
     "data": {
      "text/html": [
       "<div>\n",
       "<style scoped>\n",
       "    .dataframe tbody tr th:only-of-type {\n",
       "        vertical-align: middle;\n",
       "    }\n",
       "\n",
       "    .dataframe tbody tr th {\n",
       "        vertical-align: top;\n",
       "    }\n",
       "\n",
       "    .dataframe thead th {\n",
       "        text-align: right;\n",
       "    }\n",
       "</style>\n",
       "<table border=\"1\" class=\"dataframe\">\n",
       "  <thead>\n",
       "    <tr style=\"text-align: right;\">\n",
       "      <th></th>\n",
       "      <th>Gender</th>\n",
       "      <th>Mean_Age</th>\n",
       "      <th>Total_Age</th>\n",
       "    </tr>\n",
       "  </thead>\n",
       "  <tbody>\n",
       "    <tr>\n",
       "      <td>0</td>\n",
       "      <td>f</td>\n",
       "      <td>25.0</td>\n",
       "      <td>25</td>\n",
       "    </tr>\n",
       "    <tr>\n",
       "      <td>1</td>\n",
       "      <td>m</td>\n",
       "      <td>28.0</td>\n",
       "      <td>84</td>\n",
       "    </tr>\n",
       "  </tbody>\n",
       "</table>\n",
       "</div>"
      ],
      "text/plain": [
       "  Gender  Mean_Age  Total_Age\n",
       "0      f      25.0         25\n",
       "1      m      28.0         84"
      ]
     },
     "execution_count": 92,
     "metadata": {},
     "output_type": "execute_result"
    }
   ],
   "source": [
    "pd.DataFrame(list(coll.aggregate([\n",
    "                                  {'$match' : {}},\n",
    "                                  {'$project' : {'_id' : 0}},\n",
    "                                  {'$group' : {'_id' : {'Gender' : '$gender'},\n",
    "                                               'Total_Age' : {'$sum': '$age'},\n",
    "                                               'Mean_Age' : {'$avg': '$age'},\n",
    "                                               }\n",
    "                                  },\n",
    "                                  {'$project' : {'Mean_Age':1, 'Total_Age' :1, 'Gender' : '$_id.Gender','_id' :0}},\n",
    "                                  ])))\n",
    "\n",
    "\n",
    "                            "
   ]
  },
  {
   "cell_type": "code",
   "execution_count": 93,
   "metadata": {},
   "outputs": [
    {
     "data": {
      "text/html": [
       "<div>\n",
       "<style scoped>\n",
       "    .dataframe tbody tr th:only-of-type {\n",
       "        vertical-align: middle;\n",
       "    }\n",
       "\n",
       "    .dataframe tbody tr th {\n",
       "        vertical-align: top;\n",
       "    }\n",
       "\n",
       "    .dataframe thead th {\n",
       "        text-align: right;\n",
       "    }\n",
       "</style>\n",
       "<table border=\"1\" class=\"dataframe\">\n",
       "  <thead>\n",
       "    <tr style=\"text-align: right;\">\n",
       "      <th></th>\n",
       "      <th>Gender</th>\n",
       "      <th>Mean_Age</th>\n",
       "      <th>Total_Age</th>\n",
       "    </tr>\n",
       "  </thead>\n",
       "  <tbody>\n",
       "    <tr>\n",
       "      <td>0</td>\n",
       "      <td>m</td>\n",
       "      <td>28.0</td>\n",
       "      <td>84</td>\n",
       "    </tr>\n",
       "    <tr>\n",
       "      <td>1</td>\n",
       "      <td>f</td>\n",
       "      <td>25.0</td>\n",
       "      <td>25</td>\n",
       "    </tr>\n",
       "  </tbody>\n",
       "</table>\n",
       "</div>"
      ],
      "text/plain": [
       "  Gender  Mean_Age  Total_Age\n",
       "0      m      28.0         84\n",
       "1      f      25.0         25"
      ]
     },
     "execution_count": 93,
     "metadata": {},
     "output_type": "execute_result"
    }
   ],
   "source": [
    "pd.DataFrame(list(coll.aggregate([\n",
    "                                  {'$match' : {}},\n",
    "                                  {'$project' : {'_id' : 0}},\n",
    "                                  {'$group' : {'_id' : {'Gender' : '$gender'},\n",
    "                                               'Total_Age' : {'$sum': '$age'},\n",
    "                                               'Mean_Age' : {'$avg': '$age'},\n",
    "                                               }\n",
    "                                  },\n",
    "                                  {'$project' : {'Mean_Age':1, 'Total_Age' :1, 'Gender' : '$_id.Gender','_id' :0}},\n",
    "                                  {'$sort' : {'Mean_Age':-1}}\n",
    "                                  ])))"
   ]
  },
  {
   "cell_type": "code",
   "execution_count": 94,
   "metadata": {},
   "outputs": [
    {
     "data": {
      "text/html": [
       "<div>\n",
       "<style scoped>\n",
       "    .dataframe tbody tr th:only-of-type {\n",
       "        vertical-align: middle;\n",
       "    }\n",
       "\n",
       "    .dataframe tbody tr th {\n",
       "        vertical-align: top;\n",
       "    }\n",
       "\n",
       "    .dataframe thead th {\n",
       "        text-align: right;\n",
       "    }\n",
       "</style>\n",
       "<table border=\"1\" class=\"dataframe\">\n",
       "  <thead>\n",
       "    <tr style=\"text-align: right;\">\n",
       "      <th></th>\n",
       "      <th>_id</th>\n",
       "      <th>age</th>\n",
       "      <th>ages_of_children</th>\n",
       "      <th>first_name</th>\n",
       "      <th>gender</th>\n",
       "      <th>grades</th>\n",
       "      <th>last_name</th>\n",
       "    </tr>\n",
       "  </thead>\n",
       "  <tbody>\n",
       "    <tr>\n",
       "      <td>0</td>\n",
       "      <td>5dd7d5f88649564aa01036c4</td>\n",
       "      <td>26</td>\n",
       "      <td>10</td>\n",
       "      <td>Peter</td>\n",
       "      <td>m</td>\n",
       "      <td>{'skiing': 1, 'biking': 5}</td>\n",
       "      <td>Pan</td>\n",
       "    </tr>\n",
       "    <tr>\n",
       "      <td>1</td>\n",
       "      <td>5dd7d5f88649564aa01036c4</td>\n",
       "      <td>26</td>\n",
       "      <td>12</td>\n",
       "      <td>Peter</td>\n",
       "      <td>m</td>\n",
       "      <td>{'skiing': 1, 'biking': 5}</td>\n",
       "      <td>Pan</td>\n",
       "    </tr>\n",
       "    <tr>\n",
       "      <td>2</td>\n",
       "      <td>5dd7d5f88649564aa01036c5</td>\n",
       "      <td>25</td>\n",
       "      <td>13</td>\n",
       "      <td>Marie</td>\n",
       "      <td>f</td>\n",
       "      <td>{'skiing': 5, 'biking': 2}</td>\n",
       "      <td>Curie</td>\n",
       "    </tr>\n",
       "    <tr>\n",
       "      <td>3</td>\n",
       "      <td>5dd7d5f88649564aa01036c6</td>\n",
       "      <td>29</td>\n",
       "      <td>7</td>\n",
       "      <td>Julius</td>\n",
       "      <td>m</td>\n",
       "      <td>{'skiing': 3, 'biking': 4}</td>\n",
       "      <td>Cäsar</td>\n",
       "    </tr>\n",
       "    <tr>\n",
       "      <td>4</td>\n",
       "      <td>5dd7d5f88649564aa01036c6</td>\n",
       "      <td>29</td>\n",
       "      <td>7</td>\n",
       "      <td>Julius</td>\n",
       "      <td>m</td>\n",
       "      <td>{'skiing': 3, 'biking': 4}</td>\n",
       "      <td>Cäsar</td>\n",
       "    </tr>\n",
       "    <tr>\n",
       "      <td>5</td>\n",
       "      <td>5dd7d5f88649564aa01036c6</td>\n",
       "      <td>29</td>\n",
       "      <td>7</td>\n",
       "      <td>Julius</td>\n",
       "      <td>m</td>\n",
       "      <td>{'skiing': 3, 'biking': 4}</td>\n",
       "      <td>Cäsar</td>\n",
       "    </tr>\n",
       "    <tr>\n",
       "      <td>6</td>\n",
       "      <td>5dd7d5f88649564aa01036c7</td>\n",
       "      <td>29</td>\n",
       "      <td>0</td>\n",
       "      <td>Hans</td>\n",
       "      <td>m</td>\n",
       "      <td>{'skiing': 6, 'biking': 6}</td>\n",
       "      <td>Dampf</td>\n",
       "    </tr>\n",
       "  </tbody>\n",
       "</table>\n",
       "</div>"
      ],
      "text/plain": [
       "                        _id  age  ages_of_children first_name gender  \\\n",
       "0  5dd7d5f88649564aa01036c4   26                10      Peter      m   \n",
       "1  5dd7d5f88649564aa01036c4   26                12      Peter      m   \n",
       "2  5dd7d5f88649564aa01036c5   25                13      Marie      f   \n",
       "3  5dd7d5f88649564aa01036c6   29                 7     Julius      m   \n",
       "4  5dd7d5f88649564aa01036c6   29                 7     Julius      m   \n",
       "5  5dd7d5f88649564aa01036c6   29                 7     Julius      m   \n",
       "6  5dd7d5f88649564aa01036c7   29                 0       Hans      m   \n",
       "\n",
       "                       grades last_name  \n",
       "0  {'skiing': 1, 'biking': 5}       Pan  \n",
       "1  {'skiing': 1, 'biking': 5}       Pan  \n",
       "2  {'skiing': 5, 'biking': 2}     Curie  \n",
       "3  {'skiing': 3, 'biking': 4}     Cäsar  \n",
       "4  {'skiing': 3, 'biking': 4}     Cäsar  \n",
       "5  {'skiing': 3, 'biking': 4}     Cäsar  \n",
       "6  {'skiing': 6, 'biking': 6}     Dampf  "
      ]
     },
     "execution_count": 94,
     "metadata": {},
     "output_type": "execute_result"
    }
   ],
   "source": [
    "pd.DataFrame(list(coll.aggregate([{'$match' : {}},\n",
    "                                 {'$unwind' : '$ages_of_children'}])))"
   ]
  },
  {
   "cell_type": "code",
   "execution_count": null,
   "metadata": {},
   "outputs": [],
   "source": []
  },
  {
   "cell_type": "code",
   "execution_count": null,
   "metadata": {},
   "outputs": [],
   "source": []
  },
  {
   "cell_type": "code",
   "execution_count": null,
   "metadata": {},
   "outputs": [],
   "source": []
  }
 ],
 "metadata": {
  "kernelspec": {
   "display_name": "Python 3 (ipykernel)",
   "language": "python",
   "name": "python3"
  },
  "language_info": {
   "codemirror_mode": {
    "name": "ipython",
    "version": 3
   },
   "file_extension": ".py",
   "mimetype": "text/x-python",
   "name": "python",
   "nbconvert_exporter": "python",
   "pygments_lexer": "ipython3",
   "version": "3.8.6"
  }
 },
 "nbformat": 4,
 "nbformat_minor": 2
}
