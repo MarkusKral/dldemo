{
 "cells": [
  {
   "cell_type": "markdown",
   "metadata": {},
   "source": [
    "# MongoDB Examples"
   ]
  },
  {
   "cell_type": "markdown",
   "metadata": {},
   "source": [
    "#### Import of the pymongo distribution"
   ]
  },
  {
   "cell_type": "code",
   "execution_count": 1,
   "metadata": {},
   "outputs": [],
   "source": [
    "import pymongo"
   ]
  },
  {
   "cell_type": "markdown",
   "metadata": {},
   "source": [
    "#### Making a Connection with MongoClient"
   ]
  },
  {
   "cell_type": "code",
   "execution_count": 2,
   "metadata": {},
   "outputs": [],
   "source": [
    "client = pymongo.MongoClient('localhost', 27017, username = \"core\", password = \"654321\")"
   ]
  },
  {
   "cell_type": "markdown",
   "metadata": {},
   "source": [
    "#### List of all existing databases (you will get a different list)"
   ]
  },
  {
   "cell_type": "code",
   "execution_count": 3,
   "metadata": {},
   "outputs": [
    {
     "data": {
      "text/plain": [
       "['admin',\n",
       " 'brandinvestor',\n",
       " 'brandinvestor4',\n",
       " 'brandinvestor_test',\n",
       " 'config',\n",
       " 'core3dev',\n",
       " 'core4dev',\n",
       " 'database',\n",
       " 'deichmann4',\n",
       " 'dldemo',\n",
       " 'local',\n",
       " 'placetel',\n",
       " 'salesadvisor',\n",
       " 'test']"
      ]
     },
     "execution_count": 3,
     "metadata": {},
     "output_type": "execute_result"
    }
   ],
   "source": [
    "client.list_database_names()"
   ]
  },
  {
   "cell_type": "markdown",
   "metadata": {},
   "source": [
    "#### Instantiating a database object"
   ]
  },
  {
   "cell_type": "code",
   "execution_count": 4,
   "metadata": {},
   "outputs": [],
   "source": [
    "db = client['db_test']"
   ]
  },
  {
   "cell_type": "markdown",
   "metadata": {},
   "source": [
    "#### Instantianting a collection object"
   ]
  },
  {
   "cell_type": "code",
   "execution_count": 5,
   "metadata": {},
   "outputs": [],
   "source": [
    "coll = db['coll_test']"
   ]
  },
  {
   "cell_type": "markdown",
   "metadata": {},
   "source": [
    "#### Creation of a python dictionary"
   ]
  },
  {
   "cell_type": "code",
   "execution_count": 6,
   "metadata": {},
   "outputs": [],
   "source": [
    "dic = {\n",
    "       'first_name': 'Peter', \n",
    "       'last_name': 'Pan', \n",
    "       'age': 26,\n",
    "       'gender' : 'm',\n",
    "       'ages_of_children' : [10, 12], \n",
    "       'grades' : {'skiing' : 1, 'biking' : 5}, \n",
    "      }\n",
    "    "
   ]
  },
  {
   "cell_type": "code",
   "execution_count": 7,
   "metadata": {},
   "outputs": [
    {
     "data": {
      "text/plain": [
       "{'first_name': 'Peter',\n",
       " 'last_name': 'Pan',\n",
       " 'age': 26,\n",
       " 'gender': 'm',\n",
       " 'ages_of_children': [10, 12],\n",
       " 'grades': {'skiing': 1, 'biking': 5}}"
      ]
     },
     "execution_count": 7,
     "metadata": {},
     "output_type": "execute_result"
    }
   ],
   "source": [
    "dic"
   ]
  },
  {
   "cell_type": "markdown",
   "metadata": {},
   "source": [
    "#### Insertion of the data into mongo collection - Creation of a document within mongodb"
   ]
  },
  {
   "cell_type": "code",
   "execution_count": 8,
   "metadata": {},
   "outputs": [
    {
     "data": {
      "text/plain": [
       "<pymongo.results.InsertOneResult at 0x7f31a8155b80>"
      ]
     },
     "execution_count": 8,
     "metadata": {},
     "output_type": "execute_result"
    }
   ],
   "source": [
    "coll.insert_one(dic)"
   ]
  },
  {
   "cell_type": "markdown",
   "metadata": {},
   "source": [
    "#### Count the documents within the collection"
   ]
  },
  {
   "cell_type": "code",
   "execution_count": 9,
   "metadata": {},
   "outputs": [
    {
     "data": {
      "text/plain": [
       "1"
      ]
     },
     "execution_count": 9,
     "metadata": {},
     "output_type": "execute_result"
    }
   ],
   "source": [
    "coll.count_documents({})"
   ]
  },
  {
   "cell_type": "markdown",
   "metadata": {},
   "source": [
    "#### Find the document within the mongo collection"
   ]
  },
  {
   "cell_type": "code",
   "execution_count": 10,
   "metadata": {},
   "outputs": [],
   "source": [
    "dic_new = coll.find_one({})"
   ]
  },
  {
   "cell_type": "code",
   "execution_count": 11,
   "metadata": {},
   "outputs": [
    {
     "data": {
      "text/plain": [
       "{'_id': ObjectId('61c2eb5e324ee292764b7fb4'),\n",
       " 'first_name': 'Peter',\n",
       " 'last_name': 'Pan',\n",
       " 'age': 26,\n",
       " 'gender': 'm',\n",
       " 'ages_of_children': [10, 12],\n",
       " 'grades': {'skiing': 1, 'biking': 5}}"
      ]
     },
     "execution_count": 11,
     "metadata": {},
     "output_type": "execute_result"
    }
   ],
   "source": [
    "dic_new"
   ]
  },
  {
   "cell_type": "markdown",
   "metadata": {},
   "source": [
    "#### Deletion of all documents within the collection"
   ]
  },
  {
   "cell_type": "code",
   "execution_count": 12,
   "metadata": {},
   "outputs": [
    {
     "data": {
      "text/plain": [
       "<pymongo.results.DeleteResult at 0x7f31a8160240>"
      ]
     },
     "execution_count": 12,
     "metadata": {},
     "output_type": "execute_result"
    }
   ],
   "source": [
    "coll.delete_many({})"
   ]
  },
  {
   "cell_type": "markdown",
   "metadata": {},
   "source": [
    "#### Make sure the collection is empty"
   ]
  },
  {
   "cell_type": "code",
   "execution_count": 13,
   "metadata": {},
   "outputs": [
    {
     "data": {
      "text/plain": [
       "0"
      ]
     },
     "execution_count": 13,
     "metadata": {},
     "output_type": "execute_result"
    }
   ],
   "source": [
    "coll.count_documents({})"
   ]
  },
  {
   "cell_type": "code",
   "execution_count": 14,
   "metadata": {},
   "outputs": [],
   "source": [
    "coll.find_one({})"
   ]
  },
  {
   "cell_type": "markdown",
   "metadata": {},
   "source": [
    "#### Nested structures"
   ]
  },
  {
   "cell_type": "code",
   "execution_count": 15,
   "metadata": {},
   "outputs": [],
   "source": [
    "dic1 = {\n",
    "       'first_name': 'Max', \n",
    "       'last_name': 'Mustermann', \n",
    "       'age': 26,\n",
    "       'gender' : 'm',\n",
    "       'ages_of_children' : [10, 12], \n",
    "       'grades' : {'skiing' : 1, 'biking' : 5}, \n",
    "      }"
   ]
  },
  {
   "cell_type": "code",
   "execution_count": 16,
   "metadata": {},
   "outputs": [],
   "source": [
    "dic2 = {\n",
    "       'first_name': 'Peter', \n",
    "       'last_name': 'Pan', \n",
    "       'age': 26,\n",
    "       'gender' : 'm',\n",
    "       'ages_of_children' : [10, 12], \n",
    "       'grades' : {'skiing' : 1, 'biking' : 5},\n",
    "       'dic1' : dic1,\n",
    "       'list' : [1, 'Ich bin ein String', 0.234, dic1]\n",
    "      }"
   ]
  },
  {
   "cell_type": "code",
   "execution_count": 17,
   "metadata": {},
   "outputs": [
    {
     "data": {
      "text/plain": [
       "<pymongo.results.InsertOneResult at 0x7f31a81723c0>"
      ]
     },
     "execution_count": 17,
     "metadata": {},
     "output_type": "execute_result"
    }
   ],
   "source": [
    "coll.insert_one(dic2)"
   ]
  },
  {
   "cell_type": "code",
   "execution_count": 18,
   "metadata": {},
   "outputs": [
    {
     "data": {
      "text/plain": [
       "<pymongo.results.DeleteResult at 0x7f31a81432c0>"
      ]
     },
     "execution_count": 18,
     "metadata": {},
     "output_type": "execute_result"
    }
   ],
   "source": [
    "coll.delete_many({})"
   ]
  },
  {
   "cell_type": "markdown",
   "metadata": {},
   "source": [
    "#### Creation of a list of dictionaries in python"
   ]
  },
  {
   "cell_type": "code",
   "execution_count": 19,
   "metadata": {},
   "outputs": [],
   "source": [
    "list_of_dics = [\n",
    "                 {\n",
    "                   'first_name': 'Peter', \n",
    "                   'last_name': 'Pan', \n",
    "                   'age': 26,\n",
    "                   'gender' : 'm',\n",
    "                   'ages_of_children' : [10, 12], \n",
    "                   'grades' : {'skiing' : 1, 'biking' : 5}, \n",
    "                  },\n",
    "                  {\n",
    "                   'first_name': 'Marie', \n",
    "                   'last_name': 'Curie', \n",
    "                   'age': 25,\n",
    "                   'gender' : 'f',\n",
    "                   'ages_of_children' : [13], \n",
    "                   'grades' : {'skiing' : 5, 'biking' : 2}, \n",
    "                  },\n",
    "                  {\n",
    "                   'first_name': 'Julius', \n",
    "                   'last_name': 'Cäsar', \n",
    "                   'age': 29,\n",
    "                   'gender' : 'm',\n",
    "                   'ages_of_children' : [7,7,7], \n",
    "                   'grades' : {'skiing' : 3, 'biking' : 4}, \n",
    "                  },\n",
    "                  { \n",
    "                   'first_name': 'Hans', \n",
    "                   'last_name': 'Dampf', \n",
    "                   'age': 29,\n",
    "                   'gender' : 'm',\n",
    "                   'ages_of_children' : [0], \n",
    "                   'grades' : {'skiing' : 6, 'biking' : 6}, \n",
    "                  }\n",
    "                ]\n",
    "    "
   ]
  },
  {
   "cell_type": "code",
   "execution_count": 20,
   "metadata": {},
   "outputs": [
    {
     "data": {
      "text/plain": [
       "[{'first_name': 'Peter',\n",
       "  'last_name': 'Pan',\n",
       "  'age': 26,\n",
       "  'gender': 'm',\n",
       "  'ages_of_children': [10, 12],\n",
       "  'grades': {'skiing': 1, 'biking': 5}},\n",
       " {'first_name': 'Marie',\n",
       "  'last_name': 'Curie',\n",
       "  'age': 25,\n",
       "  'gender': 'f',\n",
       "  'ages_of_children': [13],\n",
       "  'grades': {'skiing': 5, 'biking': 2}},\n",
       " {'first_name': 'Julius',\n",
       "  'last_name': 'Cäsar',\n",
       "  'age': 29,\n",
       "  'gender': 'm',\n",
       "  'ages_of_children': [7, 7, 7],\n",
       "  'grades': {'skiing': 3, 'biking': 4}},\n",
       " {'first_name': 'Hans',\n",
       "  'last_name': 'Dampf',\n",
       "  'age': 29,\n",
       "  'gender': 'm',\n",
       "  'ages_of_children': [0],\n",
       "  'grades': {'skiing': 6, 'biking': 6}}]"
      ]
     },
     "execution_count": 20,
     "metadata": {},
     "output_type": "execute_result"
    }
   ],
   "source": [
    "list_of_dics"
   ]
  },
  {
   "cell_type": "markdown",
   "metadata": {},
   "source": [
    "Insert severeal documents at once in the mongodb collection"
   ]
  },
  {
   "cell_type": "code",
   "execution_count": 21,
   "metadata": {},
   "outputs": [
    {
     "data": {
      "text/plain": [
       "<pymongo.results.InsertManyResult at 0x7f31a815d180>"
      ]
     },
     "execution_count": 21,
     "metadata": {},
     "output_type": "execute_result"
    }
   ],
   "source": [
    "coll.insert_many(list_of_dics)"
   ]
  },
  {
   "cell_type": "markdown",
   "metadata": {},
   "source": [
    "#### Count the documents within the collection"
   ]
  },
  {
   "cell_type": "code",
   "execution_count": 22,
   "metadata": {},
   "outputs": [
    {
     "data": {
      "text/plain": [
       "4"
      ]
     },
     "execution_count": 22,
     "metadata": {},
     "output_type": "execute_result"
    }
   ],
   "source": [
    "coll.count_documents({})\n"
   ]
  },
  {
   "cell_type": "markdown",
   "metadata": {},
   "source": [
    "#### Create a mongo curser to find all documents within the collection"
   ]
  },
  {
   "cell_type": "code",
   "execution_count": 23,
   "metadata": {},
   "outputs": [],
   "source": [
    "cursor = coll.find({})"
   ]
  },
  {
   "cell_type": "code",
   "execution_count": 24,
   "metadata": {},
   "outputs": [],
   "source": [
    "import pprint"
   ]
  },
  {
   "cell_type": "code",
   "execution_count": 25,
   "metadata": {},
   "outputs": [
    {
     "name": "stdout",
     "output_type": "stream",
     "text": [
      "{'_id': ObjectId('61c2ec37324ee292764b7fb6'),\n",
      " 'age': 26,\n",
      " 'ages_of_children': [10, 12],\n",
      " 'first_name': 'Peter',\n",
      " 'gender': 'm',\n",
      " 'grades': {'biking': 5, 'skiing': 1},\n",
      " 'last_name': 'Pan'}\n",
      "{'_id': ObjectId('61c2ec37324ee292764b7fb7'),\n",
      " 'age': 25,\n",
      " 'ages_of_children': [13],\n",
      " 'first_name': 'Marie',\n",
      " 'gender': 'f',\n",
      " 'grades': {'biking': 2, 'skiing': 5},\n",
      " 'last_name': 'Curie'}\n",
      "{'_id': ObjectId('61c2ec37324ee292764b7fb8'),\n",
      " 'age': 29,\n",
      " 'ages_of_children': [7, 7, 7],\n",
      " 'first_name': 'Julius',\n",
      " 'gender': 'm',\n",
      " 'grades': {'biking': 4, 'skiing': 3},\n",
      " 'last_name': 'Cäsar'}\n",
      "{'_id': ObjectId('61c2ec37324ee292764b7fb9'),\n",
      " 'age': 29,\n",
      " 'ages_of_children': [0],\n",
      " 'first_name': 'Hans',\n",
      " 'gender': 'm',\n",
      " 'grades': {'biking': 6, 'skiing': 6},\n",
      " 'last_name': 'Dampf'}\n"
     ]
    }
   ],
   "source": [
    "for dic in cursor:\n",
    "    pprint.pprint(dic)"
   ]
  },
  {
   "cell_type": "markdown",
   "metadata": {},
   "source": [
    "#### Insert all documents into a python list"
   ]
  },
  {
   "cell_type": "code",
   "execution_count": 26,
   "metadata": {},
   "outputs": [],
   "source": [
    "list_of_documents_new = list(coll.find({}))"
   ]
  },
  {
   "cell_type": "code",
   "execution_count": 27,
   "metadata": {},
   "outputs": [
    {
     "data": {
      "text/plain": [
       "[{'_id': ObjectId('61c2ec37324ee292764b7fb6'),\n",
       "  'first_name': 'Peter',\n",
       "  'last_name': 'Pan',\n",
       "  'age': 26,\n",
       "  'gender': 'm',\n",
       "  'ages_of_children': [10, 12],\n",
       "  'grades': {'skiing': 1, 'biking': 5}},\n",
       " {'_id': ObjectId('61c2ec37324ee292764b7fb7'),\n",
       "  'first_name': 'Marie',\n",
       "  'last_name': 'Curie',\n",
       "  'age': 25,\n",
       "  'gender': 'f',\n",
       "  'ages_of_children': [13],\n",
       "  'grades': {'skiing': 5, 'biking': 2}},\n",
       " {'_id': ObjectId('61c2ec37324ee292764b7fb8'),\n",
       "  'first_name': 'Julius',\n",
       "  'last_name': 'Cäsar',\n",
       "  'age': 29,\n",
       "  'gender': 'm',\n",
       "  'ages_of_children': [7, 7, 7],\n",
       "  'grades': {'skiing': 3, 'biking': 4}},\n",
       " {'_id': ObjectId('61c2ec37324ee292764b7fb9'),\n",
       "  'first_name': 'Hans',\n",
       "  'last_name': 'Dampf',\n",
       "  'age': 29,\n",
       "  'gender': 'm',\n",
       "  'ages_of_children': [0],\n",
       "  'grades': {'skiing': 6, 'biking': 6}}]"
      ]
     },
     "execution_count": 27,
     "metadata": {},
     "output_type": "execute_result"
    }
   ],
   "source": [
    "list_of_documents_new"
   ]
  },
  {
   "cell_type": "markdown",
   "metadata": {},
   "source": [
    "#### Convert this list into a pandas DataFrame"
   ]
  },
  {
   "cell_type": "code",
   "execution_count": 28,
   "metadata": {},
   "outputs": [],
   "source": [
    "import pandas as pd"
   ]
  },
  {
   "cell_type": "code",
   "execution_count": 29,
   "metadata": {},
   "outputs": [],
   "source": [
    "df = pd.DataFrame(list_of_documents_new)"
   ]
  },
  {
   "cell_type": "code",
   "execution_count": 30,
   "metadata": {
    "scrolled": true
   },
   "outputs": [
    {
     "data": {
      "text/html": [
       "<div>\n",
       "<style scoped>\n",
       "    .dataframe tbody tr th:only-of-type {\n",
       "        vertical-align: middle;\n",
       "    }\n",
       "\n",
       "    .dataframe tbody tr th {\n",
       "        vertical-align: top;\n",
       "    }\n",
       "\n",
       "    .dataframe thead th {\n",
       "        text-align: right;\n",
       "    }\n",
       "</style>\n",
       "<table border=\"1\" class=\"dataframe\">\n",
       "  <thead>\n",
       "    <tr style=\"text-align: right;\">\n",
       "      <th></th>\n",
       "      <th>_id</th>\n",
       "      <th>first_name</th>\n",
       "      <th>last_name</th>\n",
       "      <th>age</th>\n",
       "      <th>gender</th>\n",
       "      <th>ages_of_children</th>\n",
       "      <th>grades</th>\n",
       "    </tr>\n",
       "  </thead>\n",
       "  <tbody>\n",
       "    <tr>\n",
       "      <th>0</th>\n",
       "      <td>61c2ec37324ee292764b7fb6</td>\n",
       "      <td>Peter</td>\n",
       "      <td>Pan</td>\n",
       "      <td>26</td>\n",
       "      <td>m</td>\n",
       "      <td>[10, 12]</td>\n",
       "      <td>{'skiing': 1, 'biking': 5}</td>\n",
       "    </tr>\n",
       "    <tr>\n",
       "      <th>1</th>\n",
       "      <td>61c2ec37324ee292764b7fb7</td>\n",
       "      <td>Marie</td>\n",
       "      <td>Curie</td>\n",
       "      <td>25</td>\n",
       "      <td>f</td>\n",
       "      <td>[13]</td>\n",
       "      <td>{'skiing': 5, 'biking': 2}</td>\n",
       "    </tr>\n",
       "    <tr>\n",
       "      <th>2</th>\n",
       "      <td>61c2ec37324ee292764b7fb8</td>\n",
       "      <td>Julius</td>\n",
       "      <td>Cäsar</td>\n",
       "      <td>29</td>\n",
       "      <td>m</td>\n",
       "      <td>[7, 7, 7]</td>\n",
       "      <td>{'skiing': 3, 'biking': 4}</td>\n",
       "    </tr>\n",
       "    <tr>\n",
       "      <th>3</th>\n",
       "      <td>61c2ec37324ee292764b7fb9</td>\n",
       "      <td>Hans</td>\n",
       "      <td>Dampf</td>\n",
       "      <td>29</td>\n",
       "      <td>m</td>\n",
       "      <td>[0]</td>\n",
       "      <td>{'skiing': 6, 'biking': 6}</td>\n",
       "    </tr>\n",
       "  </tbody>\n",
       "</table>\n",
       "</div>"
      ],
      "text/plain": [
       "                        _id first_name last_name  age gender ages_of_children  \\\n",
       "0  61c2ec37324ee292764b7fb6      Peter       Pan   26      m         [10, 12]   \n",
       "1  61c2ec37324ee292764b7fb7      Marie     Curie   25      f             [13]   \n",
       "2  61c2ec37324ee292764b7fb8     Julius     Cäsar   29      m        [7, 7, 7]   \n",
       "3  61c2ec37324ee292764b7fb9       Hans     Dampf   29      m              [0]   \n",
       "\n",
       "                       grades  \n",
       "0  {'skiing': 1, 'biking': 5}  \n",
       "1  {'skiing': 5, 'biking': 2}  \n",
       "2  {'skiing': 3, 'biking': 4}  \n",
       "3  {'skiing': 6, 'biking': 6}  "
      ]
     },
     "execution_count": 30,
     "metadata": {},
     "output_type": "execute_result"
    }
   ],
   "source": [
    "df"
   ]
  },
  {
   "cell_type": "code",
   "execution_count": 33,
   "metadata": {},
   "outputs": [
    {
     "data": {
      "text/plain": [
       "[{'first_name': 'Peter',\n",
       "  'last_name': 'Pan',\n",
       "  'age': 26,\n",
       "  'gender': 'm',\n",
       "  'ages_of_children': [10, 12],\n",
       "  'grades': {'skiing': 1, 'biking': 5}},\n",
       " {'first_name': 'Marie',\n",
       "  'last_name': 'Curie',\n",
       "  'age': 25,\n",
       "  'gender': 'f',\n",
       "  'ages_of_children': [13],\n",
       "  'grades': {'skiing': 5, 'biking': 2}},\n",
       " {'first_name': 'Julius',\n",
       "  'last_name': 'Cäsar',\n",
       "  'age': 29,\n",
       "  'gender': 'm',\n",
       "  'ages_of_children': [7, 7, 7],\n",
       "  'grades': {'skiing': 3, 'biking': 4}},\n",
       " {'first_name': 'Hans',\n",
       "  'last_name': 'Dampf',\n",
       "  'age': 29,\n",
       "  'gender': 'm',\n",
       "  'ages_of_children': [0],\n",
       "  'grades': {'skiing': 6, 'biking': 6}}]"
      ]
     },
     "execution_count": 33,
     "metadata": {},
     "output_type": "execute_result"
    }
   ],
   "source": [
    "df.to_dict(\"records\")"
   ]
  },
  {
   "cell_type": "code",
   "execution_count": 32,
   "metadata": {},
   "outputs": [],
   "source": [
    "del df['_id']"
   ]
  },
  {
   "cell_type": "code",
   "execution_count": 34,
   "metadata": {},
   "outputs": [
    {
     "data": {
      "text/plain": [
       "<pymongo.results.InsertManyResult at 0x7f316cdbf200>"
      ]
     },
     "execution_count": 34,
     "metadata": {},
     "output_type": "execute_result"
    }
   ],
   "source": [
    "coll.insert_many(df.to_dict(\"records\"))"
   ]
  },
  {
   "cell_type": "markdown",
   "metadata": {},
   "source": [
    "#### Query specific documents within the collection by using a filter"
   ]
  },
  {
   "cell_type": "code",
   "execution_count": 35,
   "metadata": {},
   "outputs": [],
   "source": [
    "# filter\n",
    "query = {'last_name' : 'Curie'}\n",
    "cursor = coll.find(query)"
   ]
  },
  {
   "cell_type": "code",
   "execution_count": 36,
   "metadata": {},
   "outputs": [
    {
     "data": {
      "text/plain": [
       "{'_id': ObjectId('61c2ec37324ee292764b7fb7'),\n",
       " 'first_name': 'Marie',\n",
       " 'last_name': 'Curie',\n",
       " 'age': 25,\n",
       " 'gender': 'f',\n",
       " 'ages_of_children': [13],\n",
       " 'grades': {'skiing': 5, 'biking': 2}}"
      ]
     },
     "execution_count": 36,
     "metadata": {},
     "output_type": "execute_result"
    }
   ],
   "source": [
    "cursor.next()"
   ]
  },
  {
   "cell_type": "code",
   "execution_count": 37,
   "metadata": {},
   "outputs": [
    {
     "data": {
      "text/plain": [
       "[{'_id': ObjectId('61c2ec37324ee292764b7fb6'),\n",
       "  'first_name': 'Peter',\n",
       "  'last_name': 'Pan',\n",
       "  'age': 26,\n",
       "  'gender': 'm',\n",
       "  'ages_of_children': [10, 12],\n",
       "  'grades': {'skiing': 1, 'biking': 5}},\n",
       " {'_id': ObjectId('61c2ec37324ee292764b7fb8'),\n",
       "  'first_name': 'Julius',\n",
       "  'last_name': 'Cäsar',\n",
       "  'age': 29,\n",
       "  'gender': 'm',\n",
       "  'ages_of_children': [7, 7, 7],\n",
       "  'grades': {'skiing': 3, 'biking': 4}},\n",
       " {'_id': ObjectId('61c2ec37324ee292764b7fb9'),\n",
       "  'first_name': 'Hans',\n",
       "  'last_name': 'Dampf',\n",
       "  'age': 29,\n",
       "  'gender': 'm',\n",
       "  'ages_of_children': [0],\n",
       "  'grades': {'skiing': 6, 'biking': 6}},\n",
       " {'_id': ObjectId('61c2ed6d324ee292764b7fba'),\n",
       "  'first_name': 'Peter',\n",
       "  'last_name': 'Pan',\n",
       "  'age': 26,\n",
       "  'gender': 'm',\n",
       "  'ages_of_children': [10, 12],\n",
       "  'grades': {'skiing': 1, 'biking': 5}},\n",
       " {'_id': ObjectId('61c2ed6d324ee292764b7fbc'),\n",
       "  'first_name': 'Julius',\n",
       "  'last_name': 'Cäsar',\n",
       "  'age': 29,\n",
       "  'gender': 'm',\n",
       "  'ages_of_children': [7, 7, 7],\n",
       "  'grades': {'skiing': 3, 'biking': 4}},\n",
       " {'_id': ObjectId('61c2ed6d324ee292764b7fbd'),\n",
       "  'first_name': 'Hans',\n",
       "  'last_name': 'Dampf',\n",
       "  'age': 29,\n",
       "  'gender': 'm',\n",
       "  'ages_of_children': [0],\n",
       "  'grades': {'skiing': 6, 'biking': 6}}]"
      ]
     },
     "execution_count": 37,
     "metadata": {},
     "output_type": "execute_result"
    }
   ],
   "source": [
    "list(coll.find({'gender' : 'm'}))"
   ]
  },
  {
   "cell_type": "code",
   "execution_count": 38,
   "metadata": {},
   "outputs": [
    {
     "data": {
      "text/plain": [
       "[{'_id': ObjectId('61c2ec37324ee292764b7fb6'),\n",
       "  'first_name': 'Peter',\n",
       "  'last_name': 'Pan',\n",
       "  'age': 26,\n",
       "  'gender': 'm',\n",
       "  'ages_of_children': [10, 12],\n",
       "  'grades': {'skiing': 1, 'biking': 5}},\n",
       " {'_id': ObjectId('61c2ec37324ee292764b7fb7'),\n",
       "  'first_name': 'Marie',\n",
       "  'last_name': 'Curie',\n",
       "  'age': 25,\n",
       "  'gender': 'f',\n",
       "  'ages_of_children': [13],\n",
       "  'grades': {'skiing': 5, 'biking': 2}},\n",
       " {'_id': ObjectId('61c2ed6d324ee292764b7fba'),\n",
       "  'first_name': 'Peter',\n",
       "  'last_name': 'Pan',\n",
       "  'age': 26,\n",
       "  'gender': 'm',\n",
       "  'ages_of_children': [10, 12],\n",
       "  'grades': {'skiing': 1, 'biking': 5}},\n",
       " {'_id': ObjectId('61c2ed6d324ee292764b7fbb'),\n",
       "  'first_name': 'Marie',\n",
       "  'last_name': 'Curie',\n",
       "  'age': 25,\n",
       "  'gender': 'f',\n",
       "  'ages_of_children': [13],\n",
       "  'grades': {'skiing': 5, 'biking': 2}}]"
      ]
     },
     "execution_count": 38,
     "metadata": {},
     "output_type": "execute_result"
    }
   ],
   "source": [
    "list(coll.find({'age' : {\"$lt\" : 27}}))"
   ]
  },
  {
   "cell_type": "code",
   "execution_count": 39,
   "metadata": {},
   "outputs": [
    {
     "data": {
      "text/plain": [
       "[{'_id': ObjectId('61c2ec37324ee292764b7fb6'),\n",
       "  'first_name': 'Peter',\n",
       "  'last_name': 'Pan',\n",
       "  'age': 26,\n",
       "  'gender': 'm',\n",
       "  'ages_of_children': [10, 12],\n",
       "  'grades': {'skiing': 1, 'biking': 5}},\n",
       " {'_id': ObjectId('61c2ec37324ee292764b7fb7'),\n",
       "  'first_name': 'Marie',\n",
       "  'last_name': 'Curie',\n",
       "  'age': 25,\n",
       "  'gender': 'f',\n",
       "  'ages_of_children': [13],\n",
       "  'grades': {'skiing': 5, 'biking': 2}},\n",
       " {'_id': ObjectId('61c2ec37324ee292764b7fb8'),\n",
       "  'first_name': 'Julius',\n",
       "  'last_name': 'Cäsar',\n",
       "  'age': 29,\n",
       "  'gender': 'm',\n",
       "  'ages_of_children': [7, 7, 7],\n",
       "  'grades': {'skiing': 3, 'biking': 4}},\n",
       " {'_id': ObjectId('61c2ed6d324ee292764b7fba'),\n",
       "  'first_name': 'Peter',\n",
       "  'last_name': 'Pan',\n",
       "  'age': 26,\n",
       "  'gender': 'm',\n",
       "  'ages_of_children': [10, 12],\n",
       "  'grades': {'skiing': 1, 'biking': 5}},\n",
       " {'_id': ObjectId('61c2ed6d324ee292764b7fbb'),\n",
       "  'first_name': 'Marie',\n",
       "  'last_name': 'Curie',\n",
       "  'age': 25,\n",
       "  'gender': 'f',\n",
       "  'ages_of_children': [13],\n",
       "  'grades': {'skiing': 5, 'biking': 2}},\n",
       " {'_id': ObjectId('61c2ed6d324ee292764b7fbc'),\n",
       "  'first_name': 'Julius',\n",
       "  'last_name': 'Cäsar',\n",
       "  'age': 29,\n",
       "  'gender': 'm',\n",
       "  'ages_of_children': [7, 7, 7],\n",
       "  'grades': {'skiing': 3, 'biking': 4}}]"
      ]
     },
     "execution_count": 39,
     "metadata": {},
     "output_type": "execute_result"
    }
   ],
   "source": [
    "list(coll.find({'grades.skiing' : {\"$lt\" : 6}}))"
   ]
  },
  {
   "cell_type": "code",
   "execution_count": 40,
   "metadata": {},
   "outputs": [
    {
     "data": {
      "text/plain": [
       "[{'_id': ObjectId('61c2ec37324ee292764b7fb6'),\n",
       "  'first_name': 'Peter',\n",
       "  'last_name': 'Pan',\n",
       "  'age': 26,\n",
       "  'gender': 'm',\n",
       "  'ages_of_children': [10, 12],\n",
       "  'grades': {'skiing': 1, 'biking': 5}},\n",
       " {'_id': ObjectId('61c2ec37324ee292764b7fb8'),\n",
       "  'first_name': 'Julius',\n",
       "  'last_name': 'Cäsar',\n",
       "  'age': 29,\n",
       "  'gender': 'm',\n",
       "  'ages_of_children': [7, 7, 7],\n",
       "  'grades': {'skiing': 3, 'biking': 4}},\n",
       " {'_id': ObjectId('61c2ed6d324ee292764b7fba'),\n",
       "  'first_name': 'Peter',\n",
       "  'last_name': 'Pan',\n",
       "  'age': 26,\n",
       "  'gender': 'm',\n",
       "  'ages_of_children': [10, 12],\n",
       "  'grades': {'skiing': 1, 'biking': 5}},\n",
       " {'_id': ObjectId('61c2ed6d324ee292764b7fbc'),\n",
       "  'first_name': 'Julius',\n",
       "  'last_name': 'Cäsar',\n",
       "  'age': 29,\n",
       "  'gender': 'm',\n",
       "  'ages_of_children': [7, 7, 7],\n",
       "  'grades': {'skiing': 3, 'biking': 4}}]"
      ]
     },
     "execution_count": 40,
     "metadata": {},
     "output_type": "execute_result"
    }
   ],
   "source": [
    "list(coll.find({'grades.skiing' : {\"$lt\" : 6}, 'age' : {\"$gt\" : 25} }))"
   ]
  },
  {
   "cell_type": "markdown",
   "metadata": {},
   "source": [
    "#### Updating documents"
   ]
  },
  {
   "cell_type": "code",
   "execution_count": 43,
   "metadata": {},
   "outputs": [
    {
     "data": {
      "text/plain": [
       "<pymongo.results.UpdateResult at 0x7f316cd8a940>"
      ]
     },
     "execution_count": 43,
     "metadata": {},
     "output_type": "execute_result"
    }
   ],
   "source": [
    "coll.update_many({\"first_name\": \"Peter\"}, {'$set' : {'eye_color' : 'brown'}})"
   ]
  },
  {
   "cell_type": "code",
   "execution_count": 44,
   "metadata": {
    "scrolled": true
   },
   "outputs": [
    {
     "data": {
      "text/plain": [
       "[{'_id': ObjectId('61c2ec37324ee292764b7fb6'),\n",
       "  'first_name': 'Peter',\n",
       "  'last_name': 'Pan',\n",
       "  'age': 26,\n",
       "  'gender': 'm',\n",
       "  'ages_of_children': [10, 12],\n",
       "  'grades': {'skiing': 1, 'biking': 5},\n",
       "  'hair_color': 'brown',\n",
       "  'eye_color': 'brown'},\n",
       " {'_id': ObjectId('61c2ec37324ee292764b7fb7'),\n",
       "  'first_name': 'Marie',\n",
       "  'last_name': 'Curie',\n",
       "  'age': 25,\n",
       "  'gender': 'f',\n",
       "  'ages_of_children': [13],\n",
       "  'grades': {'skiing': 5, 'biking': 2},\n",
       "  'hair_color': 'blond'},\n",
       " {'_id': ObjectId('61c2ec37324ee292764b7fb8'),\n",
       "  'first_name': 'Julius',\n",
       "  'last_name': 'Cäsar',\n",
       "  'age': 29,\n",
       "  'gender': 'm',\n",
       "  'ages_of_children': [7, 7, 7],\n",
       "  'grades': {'skiing': 3, 'biking': 4},\n",
       "  'hair_color': 'blond'},\n",
       " {'_id': ObjectId('61c2ec37324ee292764b7fb9'),\n",
       "  'first_name': 'Hans',\n",
       "  'last_name': 'Dampf',\n",
       "  'age': 29,\n",
       "  'gender': 'm',\n",
       "  'ages_of_children': [0],\n",
       "  'grades': {'skiing': 6, 'biking': 6},\n",
       "  'hair_color': 'blond'},\n",
       " {'_id': ObjectId('61c2ed6d324ee292764b7fba'),\n",
       "  'first_name': 'Peter',\n",
       "  'last_name': 'Pan',\n",
       "  'age': 26,\n",
       "  'gender': 'm',\n",
       "  'ages_of_children': [10, 12],\n",
       "  'grades': {'skiing': 1, 'biking': 5},\n",
       "  'hair_color': 'brown',\n",
       "  'eye_color': 'brown'},\n",
       " {'_id': ObjectId('61c2ed6d324ee292764b7fbb'),\n",
       "  'first_name': 'Marie',\n",
       "  'last_name': 'Curie',\n",
       "  'age': 25,\n",
       "  'gender': 'f',\n",
       "  'ages_of_children': [13],\n",
       "  'grades': {'skiing': 5, 'biking': 2},\n",
       "  'hair_color': 'blond'},\n",
       " {'_id': ObjectId('61c2ed6d324ee292764b7fbc'),\n",
       "  'first_name': 'Julius',\n",
       "  'last_name': 'Cäsar',\n",
       "  'age': 29,\n",
       "  'gender': 'm',\n",
       "  'ages_of_children': [7, 7, 7],\n",
       "  'grades': {'skiing': 3, 'biking': 4},\n",
       "  'hair_color': 'blond'},\n",
       " {'_id': ObjectId('61c2ed6d324ee292764b7fbd'),\n",
       "  'first_name': 'Hans',\n",
       "  'last_name': 'Dampf',\n",
       "  'age': 29,\n",
       "  'gender': 'm',\n",
       "  'ages_of_children': [0],\n",
       "  'grades': {'skiing': 6, 'biking': 6},\n",
       "  'hair_color': 'blond'}]"
      ]
     },
     "execution_count": 44,
     "metadata": {},
     "output_type": "execute_result"
    }
   ],
   "source": [
    "list(coll.find({}))"
   ]
  },
  {
   "cell_type": "code",
   "execution_count": 45,
   "metadata": {},
   "outputs": [
    {
     "data": {
      "text/plain": [
       "datetime.datetime(2021, 12, 22, 10, 28, 29, 114149)"
      ]
     },
     "execution_count": 45,
     "metadata": {},
     "output_type": "execute_result"
    }
   ],
   "source": [
    "import datetime as dt\n",
    "from dateutil.relativedelta import relativedelta\n",
    "now = dt.datetime.now()\n",
    "now"
   ]
  },
  {
   "cell_type": "code",
   "execution_count": 46,
   "metadata": {},
   "outputs": [],
   "source": [
    "for doc in coll.find({}):\n",
    "    coll.update_one({'_id' : doc['_id']}, {'$set' : {'birthday' : now - relativedelta(years = doc['age'])}})   "
   ]
  },
  {
   "cell_type": "code",
   "execution_count": 47,
   "metadata": {},
   "outputs": [],
   "source": [
    "df = pd.DataFrame(list(coll.find({})))"
   ]
  },
  {
   "cell_type": "code",
   "execution_count": 48,
   "metadata": {},
   "outputs": [
    {
     "data": {
      "text/html": [
       "<div>\n",
       "<style scoped>\n",
       "    .dataframe tbody tr th:only-of-type {\n",
       "        vertical-align: middle;\n",
       "    }\n",
       "\n",
       "    .dataframe tbody tr th {\n",
       "        vertical-align: top;\n",
       "    }\n",
       "\n",
       "    .dataframe thead th {\n",
       "        text-align: right;\n",
       "    }\n",
       "</style>\n",
       "<table border=\"1\" class=\"dataframe\">\n",
       "  <thead>\n",
       "    <tr style=\"text-align: right;\">\n",
       "      <th></th>\n",
       "      <th>_id</th>\n",
       "      <th>first_name</th>\n",
       "      <th>last_name</th>\n",
       "      <th>age</th>\n",
       "      <th>gender</th>\n",
       "      <th>ages_of_children</th>\n",
       "      <th>grades</th>\n",
       "      <th>hair_color</th>\n",
       "      <th>eye_color</th>\n",
       "      <th>birthday</th>\n",
       "    </tr>\n",
       "  </thead>\n",
       "  <tbody>\n",
       "    <tr>\n",
       "      <th>0</th>\n",
       "      <td>61c2ec37324ee292764b7fb6</td>\n",
       "      <td>Peter</td>\n",
       "      <td>Pan</td>\n",
       "      <td>26</td>\n",
       "      <td>m</td>\n",
       "      <td>[10, 12]</td>\n",
       "      <td>{'skiing': 1, 'biking': 5}</td>\n",
       "      <td>brown</td>\n",
       "      <td>brown</td>\n",
       "      <td>1995-12-22 10:28:29.114</td>\n",
       "    </tr>\n",
       "    <tr>\n",
       "      <th>1</th>\n",
       "      <td>61c2ec37324ee292764b7fb7</td>\n",
       "      <td>Marie</td>\n",
       "      <td>Curie</td>\n",
       "      <td>25</td>\n",
       "      <td>f</td>\n",
       "      <td>[13]</td>\n",
       "      <td>{'skiing': 5, 'biking': 2}</td>\n",
       "      <td>blond</td>\n",
       "      <td>NaN</td>\n",
       "      <td>1996-12-22 10:28:29.114</td>\n",
       "    </tr>\n",
       "    <tr>\n",
       "      <th>2</th>\n",
       "      <td>61c2ec37324ee292764b7fb8</td>\n",
       "      <td>Julius</td>\n",
       "      <td>Cäsar</td>\n",
       "      <td>29</td>\n",
       "      <td>m</td>\n",
       "      <td>[7, 7, 7]</td>\n",
       "      <td>{'skiing': 3, 'biking': 4}</td>\n",
       "      <td>blond</td>\n",
       "      <td>NaN</td>\n",
       "      <td>1992-12-22 10:28:29.114</td>\n",
       "    </tr>\n",
       "    <tr>\n",
       "      <th>3</th>\n",
       "      <td>61c2ec37324ee292764b7fb9</td>\n",
       "      <td>Hans</td>\n",
       "      <td>Dampf</td>\n",
       "      <td>29</td>\n",
       "      <td>m</td>\n",
       "      <td>[0]</td>\n",
       "      <td>{'skiing': 6, 'biking': 6}</td>\n",
       "      <td>blond</td>\n",
       "      <td>NaN</td>\n",
       "      <td>1992-12-22 10:28:29.114</td>\n",
       "    </tr>\n",
       "    <tr>\n",
       "      <th>4</th>\n",
       "      <td>61c2ed6d324ee292764b7fba</td>\n",
       "      <td>Peter</td>\n",
       "      <td>Pan</td>\n",
       "      <td>26</td>\n",
       "      <td>m</td>\n",
       "      <td>[10, 12]</td>\n",
       "      <td>{'skiing': 1, 'biking': 5}</td>\n",
       "      <td>brown</td>\n",
       "      <td>brown</td>\n",
       "      <td>1995-12-22 10:28:29.114</td>\n",
       "    </tr>\n",
       "    <tr>\n",
       "      <th>5</th>\n",
       "      <td>61c2ed6d324ee292764b7fbb</td>\n",
       "      <td>Marie</td>\n",
       "      <td>Curie</td>\n",
       "      <td>25</td>\n",
       "      <td>f</td>\n",
       "      <td>[13]</td>\n",
       "      <td>{'skiing': 5, 'biking': 2}</td>\n",
       "      <td>blond</td>\n",
       "      <td>NaN</td>\n",
       "      <td>1996-12-22 10:28:29.114</td>\n",
       "    </tr>\n",
       "    <tr>\n",
       "      <th>6</th>\n",
       "      <td>61c2ed6d324ee292764b7fbc</td>\n",
       "      <td>Julius</td>\n",
       "      <td>Cäsar</td>\n",
       "      <td>29</td>\n",
       "      <td>m</td>\n",
       "      <td>[7, 7, 7]</td>\n",
       "      <td>{'skiing': 3, 'biking': 4}</td>\n",
       "      <td>blond</td>\n",
       "      <td>NaN</td>\n",
       "      <td>1992-12-22 10:28:29.114</td>\n",
       "    </tr>\n",
       "    <tr>\n",
       "      <th>7</th>\n",
       "      <td>61c2ed6d324ee292764b7fbd</td>\n",
       "      <td>Hans</td>\n",
       "      <td>Dampf</td>\n",
       "      <td>29</td>\n",
       "      <td>m</td>\n",
       "      <td>[0]</td>\n",
       "      <td>{'skiing': 6, 'biking': 6}</td>\n",
       "      <td>blond</td>\n",
       "      <td>NaN</td>\n",
       "      <td>1992-12-22 10:28:29.114</td>\n",
       "    </tr>\n",
       "  </tbody>\n",
       "</table>\n",
       "</div>"
      ],
      "text/plain": [
       "                        _id first_name last_name  age gender ages_of_children  \\\n",
       "0  61c2ec37324ee292764b7fb6      Peter       Pan   26      m         [10, 12]   \n",
       "1  61c2ec37324ee292764b7fb7      Marie     Curie   25      f             [13]   \n",
       "2  61c2ec37324ee292764b7fb8     Julius     Cäsar   29      m        [7, 7, 7]   \n",
       "3  61c2ec37324ee292764b7fb9       Hans     Dampf   29      m              [0]   \n",
       "4  61c2ed6d324ee292764b7fba      Peter       Pan   26      m         [10, 12]   \n",
       "5  61c2ed6d324ee292764b7fbb      Marie     Curie   25      f             [13]   \n",
       "6  61c2ed6d324ee292764b7fbc     Julius     Cäsar   29      m        [7, 7, 7]   \n",
       "7  61c2ed6d324ee292764b7fbd       Hans     Dampf   29      m              [0]   \n",
       "\n",
       "                       grades hair_color eye_color                birthday  \n",
       "0  {'skiing': 1, 'biking': 5}      brown     brown 1995-12-22 10:28:29.114  \n",
       "1  {'skiing': 5, 'biking': 2}      blond       NaN 1996-12-22 10:28:29.114  \n",
       "2  {'skiing': 3, 'biking': 4}      blond       NaN 1992-12-22 10:28:29.114  \n",
       "3  {'skiing': 6, 'biking': 6}      blond       NaN 1992-12-22 10:28:29.114  \n",
       "4  {'skiing': 1, 'biking': 5}      brown     brown 1995-12-22 10:28:29.114  \n",
       "5  {'skiing': 5, 'biking': 2}      blond       NaN 1996-12-22 10:28:29.114  \n",
       "6  {'skiing': 3, 'biking': 4}      blond       NaN 1992-12-22 10:28:29.114  \n",
       "7  {'skiing': 6, 'biking': 6}      blond       NaN 1992-12-22 10:28:29.114  "
      ]
     },
     "execution_count": 48,
     "metadata": {},
     "output_type": "execute_result"
    }
   ],
   "source": [
    "df"
   ]
  },
  {
   "cell_type": "markdown",
   "metadata": {},
   "source": [
    "#### Removing documents"
   ]
  },
  {
   "cell_type": "code",
   "execution_count": null,
   "metadata": {},
   "outputs": [],
   "source": [
    "df.shape"
   ]
  },
  {
   "cell_type": "code",
   "execution_count": 50,
   "metadata": {},
   "outputs": [
    {
     "data": {
      "text/plain": [
       "<pymongo.results.DeleteResult at 0x7f316cd57640>"
      ]
     },
     "execution_count": 50,
     "metadata": {},
     "output_type": "execute_result"
    }
   ],
   "source": [
    "coll.delete_many({'age' : 29})"
   ]
  },
  {
   "cell_type": "code",
   "execution_count": null,
   "metadata": {},
   "outputs": [],
   "source": [
    "list(coll.find({}))"
   ]
  },
  {
   "cell_type": "code",
   "execution_count": 51,
   "metadata": {
    "scrolled": true
   },
   "outputs": [
    {
     "data": {
      "text/plain": [
       "<pymongo.results.UpdateResult at 0x7f316cd589c0>"
      ]
     },
     "execution_count": 51,
     "metadata": {},
     "output_type": "execute_result"
    }
   ],
   "source": [
    "coll.update_many({'first_name' : 'Marie'},{\"$push\" : {'ages_of_children' : 2}})"
   ]
  },
  {
   "cell_type": "code",
   "execution_count": 53,
   "metadata": {},
   "outputs": [
    {
     "data": {
      "text/plain": [
       "<pymongo.results.UpdateResult at 0x7f316cd5c800>"
      ]
     },
     "execution_count": 53,
     "metadata": {},
     "output_type": "execute_result"
    }
   ],
   "source": [
    "coll.update_many({'first_name' : 'Marie'},{\"$set\" : {'ages_of_children' : [13, 2]}})"
   ]
  },
  {
   "cell_type": "code",
   "execution_count": 54,
   "metadata": {},
   "outputs": [
    {
     "data": {
      "text/plain": [
       "[{'_id': ObjectId('61c2ec37324ee292764b7fb7'),\n",
       "  'first_name': 'Marie',\n",
       "  'last_name': 'Curie',\n",
       "  'age': 25,\n",
       "  'gender': 'f',\n",
       "  'ages_of_children': [13, 2],\n",
       "  'grades': {'skiing': 5, 'biking': 2},\n",
       "  'hair_color': 'blond',\n",
       "  'birthday': datetime.datetime(1996, 12, 22, 10, 28, 29, 114000)},\n",
       " {'_id': ObjectId('61c2ed6d324ee292764b7fbb'),\n",
       "  'first_name': 'Marie',\n",
       "  'last_name': 'Curie',\n",
       "  'age': 25,\n",
       "  'gender': 'f',\n",
       "  'ages_of_children': [13, 2],\n",
       "  'grades': {'skiing': 5, 'biking': 2},\n",
       "  'hair_color': 'blond',\n",
       "  'birthday': datetime.datetime(1996, 12, 22, 10, 28, 29, 114000)}]"
      ]
     },
     "execution_count": 54,
     "metadata": {},
     "output_type": "execute_result"
    }
   ],
   "source": [
    "list(coll.find({'first_name' : 'Marie'}))"
   ]
  },
  {
   "cell_type": "code",
   "execution_count": 55,
   "metadata": {},
   "outputs": [
    {
     "data": {
      "text/plain": [
       "<pymongo.results.UpdateResult at 0x7f316cd63f00>"
      ]
     },
     "execution_count": 55,
     "metadata": {},
     "output_type": "execute_result"
    }
   ],
   "source": [
    "coll.update_many({'first_name' : 'Marie'},{\"$push\" : {'ages_of_children' : { \"$each\": [ 11, 14 ] } }})"
   ]
  },
  {
   "cell_type": "code",
   "execution_count": null,
   "metadata": {},
   "outputs": [],
   "source": [
    "coll.find_one({'first_name' : 'Marie'})"
   ]
  },
  {
   "cell_type": "code",
   "execution_count": 56,
   "metadata": {},
   "outputs": [
    {
     "data": {
      "text/plain": [
       "<pymongo.results.UpdateResult at 0x7f316cd64c00>"
      ]
     },
     "execution_count": 56,
     "metadata": {},
     "output_type": "execute_result"
    }
   ],
   "source": [
    "coll.update_one({'first_name' : 'Marie'},{\"$push\" : {'ages_of_children' : 14}})"
   ]
  },
  {
   "cell_type": "code",
   "execution_count": null,
   "metadata": {},
   "outputs": [],
   "source": [
    "coll.find_one({'first_name' : 'Marie'})"
   ]
  },
  {
   "cell_type": "code",
   "execution_count": 57,
   "metadata": {},
   "outputs": [
    {
     "data": {
      "text/plain": [
       "<pymongo.results.UpdateResult at 0x7f3188046480>"
      ]
     },
     "execution_count": 57,
     "metadata": {},
     "output_type": "execute_result"
    }
   ],
   "source": [
    "coll.update_one({'first_name' : 'Marie'},{\"$pull\" : {'ages_of_children' : 14}})"
   ]
  },
  {
   "cell_type": "code",
   "execution_count": null,
   "metadata": {},
   "outputs": [],
   "source": [
    "coll.find_one({'first_name' : 'Marie'})"
   ]
  },
  {
   "cell_type": "code",
   "execution_count": 58,
   "metadata": {},
   "outputs": [
    {
     "data": {
      "text/plain": [
       "<pymongo.results.UpdateResult at 0x7f316cd64e80>"
      ]
     },
     "execution_count": 58,
     "metadata": {},
     "output_type": "execute_result"
    }
   ],
   "source": [
    "coll.update_one({'first_name' : 'Marie'},{\"$addToSet\" : {'ages_of_children' : 14}})"
   ]
  },
  {
   "cell_type": "code",
   "execution_count": null,
   "metadata": {},
   "outputs": [],
   "source": [
    "coll.find_one({'first_name' : 'Marie'})"
   ]
  },
  {
   "cell_type": "code",
   "execution_count": 59,
   "metadata": {},
   "outputs": [
    {
     "data": {
      "text/plain": [
       "<pymongo.results.UpdateResult at 0x7f316cd8a200>"
      ]
     },
     "execution_count": 59,
     "metadata": {},
     "output_type": "execute_result"
    }
   ],
   "source": [
    "coll.update_one({'first_name' : 'Marie'},{\"$addToSet\" : {'ages_of_children' : 14}})"
   ]
  },
  {
   "cell_type": "code",
   "execution_count": null,
   "metadata": {},
   "outputs": [],
   "source": [
    "coll.find_one({'first_name' : 'Marie'})"
   ]
  },
  {
   "cell_type": "markdown",
   "metadata": {},
   "source": [
    "#### Getting a file using gridfs"
   ]
  },
  {
   "cell_type": "code",
   "execution_count": 62,
   "metadata": {},
   "outputs": [],
   "source": [
    "from gridfs import GridFS"
   ]
  },
  {
   "cell_type": "code",
   "execution_count": 60,
   "metadata": {},
   "outputs": [],
   "source": [
    "db_dldemo = client['dldemo'] "
   ]
  },
  {
   "cell_type": "code",
   "execution_count": 61,
   "metadata": {},
   "outputs": [
    {
     "data": {
      "text/plain": [
       "['fs.files', 'fs.chunks']"
      ]
     },
     "execution_count": 61,
     "metadata": {},
     "output_type": "execute_result"
    }
   ],
   "source": [
    "db_dldemo.list_collection_names()"
   ]
  },
  {
   "cell_type": "code",
   "execution_count": 63,
   "metadata": {},
   "outputs": [],
   "source": [
    "fs = GridFS(db_dldemo)"
   ]
  },
  {
   "cell_type": "code",
   "execution_count": 64,
   "metadata": {},
   "outputs": [],
   "source": [
    "filenames = fs.list()"
   ]
  },
  {
   "cell_type": "code",
   "execution_count": 65,
   "metadata": {
    "scrolled": false
   },
   "outputs": [
    {
     "data": {
      "text/plain": [
       "['https://www.agof.de/?wpfb_dl=6697',\n",
       " 'https://www.agof.de/?wpfb_dl=6706',\n",
       " 'https://www.agof.de/?wpfb_dl=6710',\n",
       " 'https://www.agof.de/?wpfb_dl=6738',\n",
       " 'https://www.agof.de/?wpfb_dl=6745',\n",
       " 'https://www.agof.de/?wpfb_dl=6749',\n",
       " 'https://www.agof.de/?wpfb_dl=6765',\n",
       " 'https://www.agof.de/?wpfb_dl=6768',\n",
       " 'https://www.agof.de/?wpfb_dl=6771',\n",
       " 'https://www.agof.de/?wpfb_dl=6799',\n",
       " 'https://www.agof.de/?wpfb_dl=6800',\n",
       " 'https://www.agof.de/?wpfb_dl=6804',\n",
       " 'https://www.agof.de/?wpfb_dl=6822',\n",
       " 'https://www.agof.de/?wpfb_dl=6824',\n",
       " 'https://www.agof.de/?wpfb_dl=6833',\n",
       " 'https://www.agof.de/?wpfb_dl=6856',\n",
       " 'https://www.agof.de/?wpfb_dl=6857',\n",
       " 'https://www.agof.de/?wpfb_dl=6858',\n",
       " 'https://www.agof.de/?wpfb_dl=6901',\n",
       " 'https://www.agof.de/?wpfb_dl=6906',\n",
       " 'https://www.agof.de/?wpfb_dl=6914',\n",
       " 'https://www.agof.de/?wpfb_dl=6933',\n",
       " 'https://www.agof.de/?wpfb_dl=6936',\n",
       " 'https://www.agof.de/?wpfb_dl=6939',\n",
       " 'https://www.agof.de/?wpfb_dl=6971',\n",
       " 'https://www.agof.de/?wpfb_dl=6973',\n",
       " 'https://www.agof.de/?wpfb_dl=6974',\n",
       " 'https://www.agof.de/?wpfb_dl=6983',\n",
       " 'https://www.agof.de/?wpfb_dl=6987',\n",
       " 'https://www.agof.de/?wpfb_dl=6996',\n",
       " 'https://www.agof.de/?wpfb_dl=7021',\n",
       " 'https://www.agof.de/?wpfb_dl=7023',\n",
       " 'https://www.agof.de/?wpfb_dl=7027',\n",
       " 'https://www.agof.de/?wpfb_dl=7054',\n",
       " 'https://www.agof.de/?wpfb_dl=7060',\n",
       " 'https://www.agof.de/?wpfb_dl=7063',\n",
       " 'https://www.agof.de/?wpfb_dl=7095',\n",
       " 'https://www.agof.de/?wpfb_dl=7098',\n",
       " 'https://www.agof.de/?wpfb_dl=7107',\n",
       " 'https://www.agof.de/?wpfb_dl=7169',\n",
       " 'https://www.agof.de/?wpfb_dl=7175',\n",
       " 'https://www.agof.de/?wpfb_dl=7177',\n",
       " 'https://www.agof.de/?wpfb_dl=7204',\n",
       " 'https://www.agof.de/?wpfb_dl=7207',\n",
       " 'https://www.agof.de/?wpfb_dl=7213',\n",
       " 'https://www.agof.de/?wpfb_dl=7232',\n",
       " 'https://www.agof.de/?wpfb_dl=7233',\n",
       " 'https://www.agof.de/?wpfb_dl=7239',\n",
       " 'https://www.agof.de/?wpfb_dl=7265',\n",
       " 'https://www.agof.de/?wpfb_dl=7270',\n",
       " 'https://www.agof.de/?wpfb_dl=7272',\n",
       " 'https://www.agof.de/?wpfb_dl=7295',\n",
       " 'https://www.agof.de/?wpfb_dl=7297',\n",
       " 'https://www.agof.de/?wpfb_dl=7305',\n",
       " 'https://www.agof.de/?wpfb_dl=7350',\n",
       " 'https://www.agof.de/?wpfb_dl=7351',\n",
       " 'https://www.agof.de/?wpfb_dl=7353',\n",
       " 'https://www.agof.de/?wpfb_dl=7380',\n",
       " 'https://www.agof.de/?wpfb_dl=7389',\n",
       " 'https://www.agof.de/?wpfb_dl=7391',\n",
       " 'https://www.agof.de/?wpfb_dl=7419',\n",
       " 'https://www.agof.de/?wpfb_dl=7423',\n",
       " 'https://www.agof.de/?wpfb_dl=7424',\n",
       " 'https://www.agof.de/?wpfb_dl=7443',\n",
       " 'https://www.agof.de/?wpfb_dl=7444',\n",
       " 'https://www.agof.de/?wpfb_dl=7453',\n",
       " 'https://www.agof.de/?wpfb_dl=7487',\n",
       " 'https://www.agof.de/?wpfb_dl=7492',\n",
       " 'https://www.agof.de/?wpfb_dl=7497',\n",
       " 'https://www.agof.de/?wpfb_dl=7514',\n",
       " 'https://www.agof.de/?wpfb_dl=7517',\n",
       " 'https://www.agof.de/?wpfb_dl=7519',\n",
       " 'https://www.agof.de/?wpfb_dl=7556',\n",
       " 'https://www.agof.de/?wpfb_dl=7560',\n",
       " 'https://www.agof.de/?wpfb_dl=7561',\n",
       " 'https://www.agof.de/?wpfb_dl=7582',\n",
       " 'https://www.agof.de/?wpfb_dl=7583',\n",
       " 'https://www.agof.de/?wpfb_dl=7584',\n",
       " 'https://www.agof.de/?wpfb_dl=7614',\n",
       " 'https://www.agof.de/?wpfb_dl=7619',\n",
       " 'https://www.agof.de/?wpfb_dl=7620',\n",
       " 'https://www.agof.de/?wpfb_dl=7633',\n",
       " 'https://www.agof.de/?wpfb_dl=7636',\n",
       " 'https://www.agof.de/?wpfb_dl=7644',\n",
       " 'https://www.agof.de/?wpfb_dl=7680',\n",
       " 'https://www.agof.de/?wpfb_dl=7686',\n",
       " 'https://www.agof.de/?wpfb_dl=7689',\n",
       " 'https://www.agof.de/?wpfb_dl=7705',\n",
       " 'https://www.agof.de/?wpfb_dl=7708',\n",
       " 'https://www.agof.de/?wpfb_dl=7711',\n",
       " 'https://www.agof.de/?wpfb_dl=7736',\n",
       " 'https://www.agof.de/?wpfb_dl=7738',\n",
       " 'https://www.agof.de/?wpfb_dl=7741',\n",
       " 'https://www.agof.de/?wpfb_dl=7764',\n",
       " 'https://www.agof.de/?wpfb_dl=7772',\n",
       " 'https://www.agof.de/?wpfb_dl=7773',\n",
       " 'https://www.agof.de/?wpfb_dl=7840',\n",
       " 'https://www.agof.de/?wpfb_dl=7841',\n",
       " 'https://www.agof.de/?wpfb_dl=7842',\n",
       " 'https://www.agof.de/?wpfb_dl=7871',\n",
       " 'https://www.agof.de/?wpfb_dl=7878',\n",
       " 'https://www.agof.de/?wpfb_dl=7901',\n",
       " 'https://www.agof.de/?wpfb_dl=7914',\n",
       " 'https://www.agof.de/?wpfb_dl=7923',\n",
       " 'https://www.agof.de/?wpfb_dl=7924',\n",
       " 'https://www.agof.de/?wpfb_dl=7938',\n",
       " 'https://www.agof.de/?wpfb_dl=7943',\n",
       " 'https://www.agof.de/?wpfb_dl=7951',\n",
       " 'https://www.agof.de/?wpfb_dl=7978',\n",
       " 'https://www.agof.de/?wpfb_dl=7981',\n",
       " 'https://www.agof.de/?wpfb_dl=7984',\n",
       " 'https://www.agof.de/?wpfb_dl=8014',\n",
       " 'https://www.agof.de/?wpfb_dl=8020',\n",
       " 'https://www.agof.de/?wpfb_dl=8021',\n",
       " 'https://www.agof.de/?wpfb_dl=8053',\n",
       " 'https://www.agof.de/?wpfb_dl=8054',\n",
       " 'https://www.agof.de/?wpfb_dl=8057',\n",
       " 'https://www.agof.de/?wpfb_dl=8088',\n",
       " 'https://www.agof.de/?wpfb_dl=8093',\n",
       " 'https://www.agof.de/?wpfb_dl=8096',\n",
       " 'https://www.agof.de/?wpfb_dl=8122',\n",
       " 'https://www.agof.de/?wpfb_dl=8124',\n",
       " 'https://www.agof.de/?wpfb_dl=8131',\n",
       " 'https://www.agof.de/?wpfb_dl=8150',\n",
       " 'https://www.agof.de/?wpfb_dl=8159',\n",
       " 'https://www.agof.de/?wpfb_dl=8164',\n",
       " 'https://www.agof.de/?wpfb_dl=8186',\n",
       " 'https://www.agof.de/?wpfb_dl=8188',\n",
       " 'https://www.agof.de/?wpfb_dl=8191',\n",
       " 'https://www.agof.de/?wpfb_dl=8220',\n",
       " 'https://www.agof.de/?wpfb_dl=8222',\n",
       " 'https://www.agof.de/?wpfb_dl=8231',\n",
       " 'https://www.agof.de/?wpfb_dl=8248',\n",
       " 'https://www.agof.de/?wpfb_dl=8249',\n",
       " 'https://www.agof.de/?wpfb_dl=8254']"
      ]
     },
     "execution_count": 65,
     "metadata": {},
     "output_type": "execute_result"
    }
   ],
   "source": [
    "filenames"
   ]
  },
  {
   "cell_type": "code",
   "execution_count": 66,
   "metadata": {},
   "outputs": [],
   "source": [
    "file_name = filenames[0]"
   ]
  },
  {
   "cell_type": "code",
   "execution_count": 67,
   "metadata": {},
   "outputs": [],
   "source": [
    "from io import BytesIO\n"
   ]
  },
  {
   "cell_type": "code",
   "execution_count": 68,
   "metadata": {},
   "outputs": [],
   "source": [
    "fh = fs.get_last_version(file_name)"
   ]
  },
  {
   "cell_type": "code",
   "execution_count": 69,
   "metadata": {},
   "outputs": [
    {
     "data": {
      "text/plain": [
       "0"
      ]
     },
     "execution_count": 69,
     "metadata": {},
     "output_type": "execute_result"
    }
   ],
   "source": [
    "body = BytesIO(fh.read())\n",
    "body.seek(0)"
   ]
  },
  {
   "cell_type": "code",
   "execution_count": 70,
   "metadata": {},
   "outputs": [],
   "source": [
    "df = pd.read_excel(body, header=None)"
   ]
  },
  {
   "cell_type": "code",
   "execution_count": 71,
   "metadata": {},
   "outputs": [
    {
     "data": {
      "text/html": [
       "<div>\n",
       "<style scoped>\n",
       "    .dataframe tbody tr th:only-of-type {\n",
       "        vertical-align: middle;\n",
       "    }\n",
       "\n",
       "    .dataframe tbody tr th {\n",
       "        vertical-align: top;\n",
       "    }\n",
       "\n",
       "    .dataframe thead th {\n",
       "        text-align: right;\n",
       "    }\n",
       "</style>\n",
       "<table border=\"1\" class=\"dataframe\">\n",
       "  <thead>\n",
       "    <tr style=\"text-align: right;\">\n",
       "      <th></th>\n",
       "      <th>0</th>\n",
       "      <th>1</th>\n",
       "      <th>2</th>\n",
       "      <th>3</th>\n",
       "      <th>4</th>\n",
       "      <th>5</th>\n",
       "      <th>6</th>\n",
       "      <th>7</th>\n",
       "      <th>8</th>\n",
       "      <th>9</th>\n",
       "      <th>10</th>\n",
       "      <th>11</th>\n",
       "      <th>12</th>\n",
       "    </tr>\n",
       "  </thead>\n",
       "  <tbody>\n",
       "    <tr>\n",
       "      <th>0</th>\n",
       "      <td>Analyse</td>\n",
       "      <td>daily digital facts 15.08.2017 / Rangreihe</td>\n",
       "      <td>NaN</td>\n",
       "      <td>NaN</td>\n",
       "      <td>NaN</td>\n",
       "      <td>NaN</td>\n",
       "      <td>NaN</td>\n",
       "      <td>NaN</td>\n",
       "      <td>NaN</td>\n",
       "      <td>NaN</td>\n",
       "      <td>NaN</td>\n",
       "      <td>NaN</td>\n",
       "      <td>NaN</td>\n",
       "    </tr>\n",
       "    <tr>\n",
       "      <th>1</th>\n",
       "      <td>Grundgesamtheit</td>\n",
       "      <td>10 Jahre und älter</td>\n",
       "      <td>NaN</td>\n",
       "      <td>NaN</td>\n",
       "      <td>NaN</td>\n",
       "      <td>NaN</td>\n",
       "      <td>NaN</td>\n",
       "      <td>NaN</td>\n",
       "      <td>NaN</td>\n",
       "      <td>NaN</td>\n",
       "      <td>NaN</td>\n",
       "      <td>NaN</td>\n",
       "      <td>NaN</td>\n",
       "    </tr>\n",
       "    <tr>\n",
       "      <th>2</th>\n",
       "      <td>Zeitraum</td>\n",
       "      <td>April 2017</td>\n",
       "      <td>NaN</td>\n",
       "      <td>NaN</td>\n",
       "      <td>NaN</td>\n",
       "      <td>NaN</td>\n",
       "      <td>NaN</td>\n",
       "      <td>NaN</td>\n",
       "      <td>NaN</td>\n",
       "      <td>NaN</td>\n",
       "      <td>NaN</td>\n",
       "      <td>NaN</td>\n",
       "      <td>NaN</td>\n",
       "    </tr>\n",
       "    <tr>\n",
       "      <th>3</th>\n",
       "      <td>Vorfilter</td>\n",
       "      <td>Nutzer mobiler und/oder stationärer Angebote (...</td>\n",
       "      <td>NaN</td>\n",
       "      <td>NaN</td>\n",
       "      <td>NaN</td>\n",
       "      <td>NaN</td>\n",
       "      <td>NaN</td>\n",
       "      <td>NaN</td>\n",
       "      <td>NaN</td>\n",
       "      <td>NaN</td>\n",
       "      <td>NaN</td>\n",
       "      <td>NaN</td>\n",
       "      <td>NaN</td>\n",
       "    </tr>\n",
       "    <tr>\n",
       "      <th>4</th>\n",
       "      <td>NaN</td>\n",
       "      <td>(150.422 ungew. Fälle, 150.422 gew. Fälle, 58,...</td>\n",
       "      <td>NaN</td>\n",
       "      <td>NaN</td>\n",
       "      <td>NaN</td>\n",
       "      <td>NaN</td>\n",
       "      <td>NaN</td>\n",
       "      <td>NaN</td>\n",
       "      <td>NaN</td>\n",
       "      <td>NaN</td>\n",
       "      <td>NaN</td>\n",
       "      <td>NaN</td>\n",
       "      <td>NaN</td>\n",
       "    </tr>\n",
       "    <tr>\n",
       "      <th>...</th>\n",
       "      <td>...</td>\n",
       "      <td>...</td>\n",
       "      <td>...</td>\n",
       "      <td>...</td>\n",
       "      <td>...</td>\n",
       "      <td>...</td>\n",
       "      <td>...</td>\n",
       "      <td>...</td>\n",
       "      <td>...</td>\n",
       "      <td>...</td>\n",
       "      <td>...</td>\n",
       "      <td>...</td>\n",
       "      <td>...</td>\n",
       "    </tr>\n",
       "    <tr>\n",
       "      <th>722</th>\n",
       "      <td>Vaihinger Kreiszeitung OMS</td>\n",
       "      <td>df</td>\n",
       "      <td>Digitales Gesamtangebot</td>\n",
       "      <td>32</td>\n",
       "      <td>32</td>\n",
       "      <td>0</td>\n",
       "      <td>0.01</td>\n",
       "      <td>0.02</td>\n",
       "      <td>NaN</td>\n",
       "      <td>NaN</td>\n",
       "      <td>NaN</td>\n",
       "      <td>NaN</td>\n",
       "      <td>NaN</td>\n",
       "    </tr>\n",
       "    <tr>\n",
       "      <th>723</th>\n",
       "      <td>Viewster</td>\n",
       "      <td>df</td>\n",
       "      <td>Digitales Gesamtangebot</td>\n",
       "      <td>52</td>\n",
       "      <td>52</td>\n",
       "      <td>0</td>\n",
       "      <td>0.01</td>\n",
       "      <td>0.93</td>\n",
       "      <td>NaN</td>\n",
       "      <td>NaN</td>\n",
       "      <td>NaN</td>\n",
       "      <td>NaN</td>\n",
       "      <td>NaN</td>\n",
       "    </tr>\n",
       "    <tr>\n",
       "      <th>724</th>\n",
       "      <td>WELLE NIEDERRHEIN OMS</td>\n",
       "      <td>df</td>\n",
       "      <td>Digitales Gesamtangebot</td>\n",
       "      <td>73</td>\n",
       "      <td>73</td>\n",
       "      <td>0</td>\n",
       "      <td>0.03</td>\n",
       "      <td>0.11</td>\n",
       "      <td>NaN</td>\n",
       "      <td>NaN</td>\n",
       "      <td>NaN</td>\n",
       "      <td>NaN</td>\n",
       "      <td>NaN</td>\n",
       "    </tr>\n",
       "    <tr>\n",
       "      <th>725</th>\n",
       "      <td>Wirtschaft</td>\n",
       "      <td>df</td>\n",
       "      <td>Digitales Gesamtangebot</td>\n",
       "      <td>23</td>\n",
       "      <td>23</td>\n",
       "      <td>0</td>\n",
       "      <td>0.02</td>\n",
       "      <td>0.02</td>\n",
       "      <td>NaN</td>\n",
       "      <td>NaN</td>\n",
       "      <td>NaN</td>\n",
       "      <td>NaN</td>\n",
       "      <td>NaN</td>\n",
       "    </tr>\n",
       "    <tr>\n",
       "      <th>726</th>\n",
       "      <td>WWE Deutschland</td>\n",
       "      <td>df</td>\n",
       "      <td>Digitales Gesamtangebot</td>\n",
       "      <td>0</td>\n",
       "      <td>0</td>\n",
       "      <td>0</td>\n",
       "      <td>0</td>\n",
       "      <td>0</td>\n",
       "      <td>NaN</td>\n",
       "      <td>NaN</td>\n",
       "      <td>NaN</td>\n",
       "      <td>NaN</td>\n",
       "      <td>NaN</td>\n",
       "    </tr>\n",
       "  </tbody>\n",
       "</table>\n",
       "<p>727 rows × 13 columns</p>\n",
       "</div>"
      ],
      "text/plain": [
       "                             0   \\\n",
       "0                       Analyse   \n",
       "1               Grundgesamtheit   \n",
       "2                      Zeitraum   \n",
       "3                     Vorfilter   \n",
       "4                           NaN   \n",
       "..                          ...   \n",
       "722  Vaihinger Kreiszeitung OMS   \n",
       "723                    Viewster   \n",
       "724       WELLE NIEDERRHEIN OMS   \n",
       "725                  Wirtschaft   \n",
       "726             WWE Deutschland   \n",
       "\n",
       "                                                    1   \\\n",
       "0           daily digital facts 15.08.2017 / Rangreihe   \n",
       "1                                   10 Jahre und älter   \n",
       "2                                           April 2017   \n",
       "3    Nutzer mobiler und/oder stationärer Angebote (...   \n",
       "4    (150.422 ungew. Fälle, 150.422 gew. Fälle, 58,...   \n",
       "..                                                 ...   \n",
       "722                                                 df   \n",
       "723                                                 df   \n",
       "724                                                 df   \n",
       "725                                                 df   \n",
       "726                                                 df   \n",
       "\n",
       "                          2    3    4    5     6     7   8   9   10  11   12  \n",
       "0                        NaN  NaN  NaN  NaN   NaN   NaN NaN NaN NaN NaN  NaN  \n",
       "1                        NaN  NaN  NaN  NaN   NaN   NaN NaN NaN NaN NaN  NaN  \n",
       "2                        NaN  NaN  NaN  NaN   NaN   NaN NaN NaN NaN NaN  NaN  \n",
       "3                        NaN  NaN  NaN  NaN   NaN   NaN NaN NaN NaN NaN  NaN  \n",
       "4                        NaN  NaN  NaN  NaN   NaN   NaN NaN NaN NaN NaN  NaN  \n",
       "..                       ...  ...  ...  ...   ...   ...  ..  ..  ..  ..  ...  \n",
       "722  Digitales Gesamtangebot   32   32    0  0.01  0.02 NaN NaN NaN NaN  NaN  \n",
       "723  Digitales Gesamtangebot   52   52    0  0.01  0.93 NaN NaN NaN NaN  NaN  \n",
       "724  Digitales Gesamtangebot   73   73    0  0.03  0.11 NaN NaN NaN NaN  NaN  \n",
       "725  Digitales Gesamtangebot   23   23    0  0.02  0.02 NaN NaN NaN NaN  NaN  \n",
       "726  Digitales Gesamtangebot    0    0    0     0     0 NaN NaN NaN NaN  NaN  \n",
       "\n",
       "[727 rows x 13 columns]"
      ]
     },
     "execution_count": 71,
     "metadata": {},
     "output_type": "execute_result"
    }
   ],
   "source": [
    "df"
   ]
  },
  {
   "cell_type": "code",
   "execution_count": null,
   "metadata": {},
   "outputs": [],
   "source": []
  }
 ],
 "metadata": {
  "kernelspec": {
   "display_name": "Python 3 (ipykernel)",
   "language": "python",
   "name": "python3"
  },
  "language_info": {
   "codemirror_mode": {
    "name": "ipython",
    "version": 3
   },
   "file_extension": ".py",
   "mimetype": "text/x-python",
   "name": "python",
   "nbconvert_exporter": "python",
   "pygments_lexer": "ipython3",
   "version": "3.8.6"
  }
 },
 "nbformat": 4,
 "nbformat_minor": 2
}
