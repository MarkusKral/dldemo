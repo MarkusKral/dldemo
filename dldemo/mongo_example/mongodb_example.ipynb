{
 "cells": [
  {
   "cell_type": "markdown",
   "metadata": {},
   "source": [
    "# MongoDB Examples"
   ]
  },
  {
   "cell_type": "markdown",
   "metadata": {},
   "source": [
    "#### Import of the pymongo distribution"
   ]
  },
  {
   "cell_type": "code",
   "execution_count": 1,
   "metadata": {},
   "outputs": [],
   "source": [
    "import pymongo"
   ]
  },
  {
   "cell_type": "markdown",
   "metadata": {},
   "source": [
    "#### Making a Connection with MongoClient"
   ]
  },
  {
   "cell_type": "code",
   "execution_count": 2,
   "metadata": {},
   "outputs": [],
   "source": [
    "client = pymongo.MongoClient('localhost', 27017, username = \"core\", password = \"654321\")"
   ]
  },
  {
   "cell_type": "markdown",
   "metadata": {},
   "source": [
    "#### List of all existing databases (you will get a different list)"
   ]
  },
  {
   "cell_type": "code",
   "execution_count": 3,
   "metadata": {},
   "outputs": [
    {
     "data": {
      "text/plain": [
       "['admin',\n",
       " 'brandinvestor',\n",
       " 'brandinvestor4',\n",
       " 'brandinvestor_test',\n",
       " 'config',\n",
       " 'core3dev',\n",
       " 'core4dev',\n",
       " 'database',\n",
       " 'deichmann4',\n",
       " 'dldemo',\n",
       " 'local',\n",
       " 'placetel',\n",
       " 'salesadvisor',\n",
       " 'test']"
      ]
     },
     "execution_count": 3,
     "metadata": {},
     "output_type": "execute_result"
    }
   ],
   "source": [
    "client.list_database_names()"
   ]
  },
  {
   "cell_type": "markdown",
   "metadata": {},
   "source": [
    "#### Instantiating a database object"
   ]
  },
  {
   "cell_type": "code",
   "execution_count": 4,
   "metadata": {},
   "outputs": [],
   "source": [
    "db = client['db_test']"
   ]
  },
  {
   "cell_type": "markdown",
   "metadata": {},
   "source": [
    "#### Instantianting a collection object"
   ]
  },
  {
   "cell_type": "code",
   "execution_count": 5,
   "metadata": {},
   "outputs": [],
   "source": [
    "coll = db['coll_test']"
   ]
  },
  {
   "cell_type": "markdown",
   "metadata": {},
   "source": [
    "#### Creation of a python dictionary"
   ]
  },
  {
   "cell_type": "code",
   "execution_count": 6,
   "metadata": {},
   "outputs": [],
   "source": [
    "dic = {\n",
    "       'first_name': 'Peter', \n",
    "       'last_name': 'Pan', \n",
    "       'age': 26,\n",
    "       'gender' : 'm',\n",
    "       'ages_of_children' : [10, 12], \n",
    "       'grades' : {'skiing' : 1, 'biking' : 5}, \n",
    "      }\n",
    "    "
   ]
  },
  {
   "cell_type": "code",
   "execution_count": 7,
   "metadata": {},
   "outputs": [
    {
     "data": {
      "text/plain": [
       "{'first_name': 'Peter',\n",
       " 'last_name': 'Pan',\n",
       " 'age': 26,\n",
       " 'gender': 'm',\n",
       " 'ages_of_children': [10, 12],\n",
       " 'grades': {'skiing': 1, 'biking': 5}}"
      ]
     },
     "execution_count": 7,
     "metadata": {},
     "output_type": "execute_result"
    }
   ],
   "source": [
    "dic"
   ]
  },
  {
   "cell_type": "markdown",
   "metadata": {},
   "source": [
    "#### Insertion of the data into mongo collection - Creation of a document within mongodb"
   ]
  },
  {
   "cell_type": "code",
   "execution_count": 8,
   "metadata": {},
   "outputs": [
    {
     "data": {
      "text/plain": [
       "<pymongo.results.InsertOneResult at 0x7f31a8155b80>"
      ]
     },
     "execution_count": 8,
     "metadata": {},
     "output_type": "execute_result"
    }
   ],
   "source": [
    "coll.insert_one(dic)"
   ]
  },
  {
   "cell_type": "markdown",
   "metadata": {},
   "source": [
    "#### Count the documents within the collection"
   ]
  },
  {
   "cell_type": "code",
   "execution_count": 9,
   "metadata": {},
   "outputs": [
    {
     "data": {
      "text/plain": [
       "1"
      ]
     },
     "execution_count": 9,
     "metadata": {},
     "output_type": "execute_result"
    }
   ],
   "source": [
    "coll.count_documents({})"
   ]
  },
  {
   "cell_type": "markdown",
   "metadata": {},
   "source": [
    "#### Find the document within the mongo collection"
   ]
  },
  {
   "cell_type": "code",
   "execution_count": 10,
   "metadata": {},
   "outputs": [],
   "source": [
    "dic_new = coll.find_one({})"
   ]
  },
  {
   "cell_type": "code",
   "execution_count": 11,
   "metadata": {},
   "outputs": [
    {
     "data": {
      "text/plain": [
       "{'_id': ObjectId('61c2eb5e324ee292764b7fb4'),\n",
       " 'first_name': 'Peter',\n",
       " 'last_name': 'Pan',\n",
       " 'age': 26,\n",
       " 'gender': 'm',\n",
       " 'ages_of_children': [10, 12],\n",
       " 'grades': {'skiing': 1, 'biking': 5}}"
      ]
     },
     "execution_count": 11,
     "metadata": {},
     "output_type": "execute_result"
    }
   ],
   "source": [
    "dic_new"
   ]
  },
  {
   "cell_type": "markdown",
   "metadata": {},
   "source": [
    "#### Deletion of all documents within the collection"
   ]
  },
  {
   "cell_type": "code",
   "execution_count": 12,
   "metadata": {},
   "outputs": [
    {
     "data": {
      "text/plain": [
       "<pymongo.results.DeleteResult at 0x7f31a8160240>"
      ]
     },
     "execution_count": 12,
     "metadata": {},
     "output_type": "execute_result"
    }
   ],
   "source": [
    "coll.delete_many({})"
   ]
  },
  {
   "cell_type": "markdown",
   "metadata": {},
   "source": [
    "#### Make sure the collection is empty"
   ]
  },
  {
   "cell_type": "code",
   "execution_count": 13,
   "metadata": {},
   "outputs": [
    {
     "data": {
      "text/plain": [
       "0"
      ]
     },
     "execution_count": 13,
     "metadata": {},
     "output_type": "execute_result"
    }
   ],
   "source": [
    "coll.count_documents({})"
   ]
  },
  {
   "cell_type": "code",
   "execution_count": 14,
   "metadata": {},
   "outputs": [],
   "source": [
    "coll.find_one({})"
   ]
  },
  {
   "cell_type": "markdown",
   "metadata": {},
   "source": [
    "#### Nested structures"
   ]
  },
  {
   "cell_type": "code",
   "execution_count": 15,
   "metadata": {},
   "outputs": [],
   "source": [
    "dic1 = {\n",
    "       'first_name': 'Max', \n",
    "       'last_name': 'Mustermann', \n",
    "       'age': 26,\n",
    "       'gender' : 'm',\n",
    "       'ages_of_children' : [10, 12], \n",
    "       'grades' : {'skiing' : 1, 'biking' : 5}, \n",
    "      }"
   ]
  },
  {
   "cell_type": "code",
   "execution_count": 16,
   "metadata": {},
   "outputs": [],
   "source": [
    "dic2 = {\n",
    "       'first_name': 'Peter', \n",
    "       'last_name': 'Pan', \n",
    "       'age': 26,\n",
    "       'gender' : 'm',\n",
    "       'ages_of_children' : [10, 12], \n",
    "       'grades' : {'skiing' : 1, 'biking' : 5},\n",
    "       'dic1' : dic1,\n",
    "       'list' : [1, 'Ich bin ein String', 0.234, dic1]\n",
    "      }"
   ]
  },
  {
   "cell_type": "code",
   "execution_count": 17,
   "metadata": {},
   "outputs": [
    {
     "data": {
      "text/plain": [
       "<pymongo.results.InsertOneResult at 0x7f31a81723c0>"
      ]
     },
     "execution_count": 17,
     "metadata": {},
     "output_type": "execute_result"
    }
   ],
   "source": [
    "coll.insert_one(dic2)"
   ]
  },
  {
   "cell_type": "code",
   "execution_count": 18,
   "metadata": {},
   "outputs": [
    {
     "data": {
      "text/plain": [
       "<pymongo.results.DeleteResult at 0x7f31a81432c0>"
      ]
     },
     "execution_count": 18,
     "metadata": {},
     "output_type": "execute_result"
    }
   ],
   "source": [
    "coll.delete_many({})"
   ]
  },
  {
   "cell_type": "markdown",
   "metadata": {},
   "source": [
    "#### Creation of a list of dictionaries in python"
   ]
  },
  {
   "cell_type": "code",
   "execution_count": 19,
   "metadata": {},
   "outputs": [],
   "source": [
    "list_of_dics = [\n",
    "                 {\n",
    "                   'first_name': 'Peter', \n",
    "                   'last_name': 'Pan', \n",
    "                   'age': 26,\n",
    "                   'gender' : 'm',\n",
    "                   'ages_of_children' : [10, 12], \n",
    "                   'grades' : {'skiing' : 1, 'biking' : 5}, \n",
    "                  },\n",
    "                  {\n",
    "                   'first_name': 'Marie', \n",
    "                   'last_name': 'Curie', \n",
    "                   'age': 25,\n",
    "                   'gender' : 'f',\n",
    "                   'ages_of_children' : [13], \n",
    "                   'grades' : {'skiing' : 5, 'biking' : 2}, \n",
    "                  },\n",
    "                  {\n",
    "                   'first_name': 'Julius', \n",
    "                   'last_name': 'Cäsar', \n",
    "                   'age': 29,\n",
    "                   'gender' : 'm',\n",
    "                   'ages_of_children' : [7,7,7], \n",
    "                   'grades' : {'skiing' : 3, 'biking' : 4}, \n",
    "                  },\n",
    "                  { \n",
    "                   'first_name': 'Hans', \n",
    "                   'last_name': 'Dampf', \n",
    "                   'age': 29,\n",
    "                   'gender' : 'm',\n",
    "                   'ages_of_children' : [0], \n",
    "                   'grades' : {'skiing' : 6, 'biking' : 6}, \n",
    "                  }\n",
    "                ]\n",
    "    "
   ]
  },
  {
   "cell_type": "code",
   "execution_count": 20,
   "metadata": {},
   "outputs": [
    {
     "data": {
      "text/plain": [
       "[{'first_name': 'Peter',\n",
       "  'last_name': 'Pan',\n",
       "  'age': 26,\n",
       "  'gender': 'm',\n",
       "  'ages_of_children': [10, 12],\n",
       "  'grades': {'skiing': 1, 'biking': 5}},\n",
       " {'first_name': 'Marie',\n",
       "  'last_name': 'Curie',\n",
       "  'age': 25,\n",
       "  'gender': 'f',\n",
       "  'ages_of_children': [13],\n",
       "  'grades': {'skiing': 5, 'biking': 2}},\n",
       " {'first_name': 'Julius',\n",
       "  'last_name': 'Cäsar',\n",
       "  'age': 29,\n",
       "  'gender': 'm',\n",
       "  'ages_of_children': [7, 7, 7],\n",
       "  'grades': {'skiing': 3, 'biking': 4}},\n",
       " {'first_name': 'Hans',\n",
       "  'last_name': 'Dampf',\n",
       "  'age': 29,\n",
       "  'gender': 'm',\n",
       "  'ages_of_children': [0],\n",
       "  'grades': {'skiing': 6, 'biking': 6}}]"
      ]
     },
     "execution_count": 20,
     "metadata": {},
     "output_type": "execute_result"
    }
   ],
   "source": [
    "list_of_dics"
   ]
  },
  {
   "cell_type": "markdown",
   "metadata": {},
   "source": [
    "Insert severeal documents at once in the mongodb collection"
   ]
  },
  {
   "cell_type": "code",
   "execution_count": 21,
   "metadata": {},
   "outputs": [
    {
     "data": {
      "text/plain": [
       "<pymongo.results.InsertManyResult at 0x7f31a815d180>"
      ]
     },
     "execution_count": 21,
     "metadata": {},
     "output_type": "execute_result"
    }
   ],
   "source": [
    "coll.insert_many(list_of_dics)"
   ]
  },
  {
   "cell_type": "markdown",
   "metadata": {},
   "source": [
    "#### Count the documents within the collection"
   ]
  },
  {
   "cell_type": "code",
   "execution_count": 22,
   "metadata": {},
   "outputs": [
    {
     "data": {
      "text/plain": [
       "4"
      ]
     },
     "execution_count": 22,
     "metadata": {},
     "output_type": "execute_result"
    }
   ],
   "source": [
    "coll.count_documents({})\n"
   ]
  },
  {
   "cell_type": "markdown",
   "metadata": {},
   "source": [
    "#### Create a mongo curser to find all documents within the collection"
   ]
  },
  {
   "cell_type": "code",
   "execution_count": 23,
   "metadata": {},
   "outputs": [],
   "source": [
    "cursor = coll.find({})"
   ]
  },
  {
   "cell_type": "code",
   "execution_count": 24,
   "metadata": {},
   "outputs": [],
   "source": [
    "import pprint"
   ]
  },
  {
   "cell_type": "code",
   "execution_count": 25,
   "metadata": {},
   "outputs": [
    {
     "name": "stdout",
     "output_type": "stream",
     "text": [
      "{'_id': ObjectId('61c2ec37324ee292764b7fb6'),\n",
      " 'age': 26,\n",
      " 'ages_of_children': [10, 12],\n",
      " 'first_name': 'Peter',\n",
      " 'gender': 'm',\n",
      " 'grades': {'biking': 5, 'skiing': 1},\n",
      " 'last_name': 'Pan'}\n",
      "{'_id': ObjectId('61c2ec37324ee292764b7fb7'),\n",
      " 'age': 25,\n",
      " 'ages_of_children': [13],\n",
      " 'first_name': 'Marie',\n",
      " 'gender': 'f',\n",
      " 'grades': {'biking': 2, 'skiing': 5},\n",
      " 'last_name': 'Curie'}\n",
      "{'_id': ObjectId('61c2ec37324ee292764b7fb8'),\n",
      " 'age': 29,\n",
      " 'ages_of_children': [7, 7, 7],\n",
      " 'first_name': 'Julius',\n",
      " 'gender': 'm',\n",
      " 'grades': {'biking': 4, 'skiing': 3},\n",
      " 'last_name': 'Cäsar'}\n",
      "{'_id': ObjectId('61c2ec37324ee292764b7fb9'),\n",
      " 'age': 29,\n",
      " 'ages_of_children': [0],\n",
      " 'first_name': 'Hans',\n",
      " 'gender': 'm',\n",
      " 'grades': {'biking': 6, 'skiing': 6},\n",
      " 'last_name': 'Dampf'}\n"
     ]
    }
   ],
   "source": [
    "for dic in cursor:\n",
    "    pprint.pprint(dic)"
   ]
  },
  {
   "cell_type": "markdown",
   "metadata": {},
   "source": [
    "#### Insert all documents into a python list"
   ]
  },
  {
   "cell_type": "code",
   "execution_count": 26,
   "metadata": {},
   "outputs": [],
   "source": [
    "list_of_documents_new = list(coll.find({}))"
   ]
  },
  {
   "cell_type": "code",
   "execution_count": 27,
   "metadata": {},
   "outputs": [
    {
     "data": {
      "text/plain": [
       "[{'_id': ObjectId('61c2ec37324ee292764b7fb6'),\n",
       "  'first_name': 'Peter',\n",
       "  'last_name': 'Pan',\n",
       "  'age': 26,\n",
       "  'gender': 'm',\n",
       "  'ages_of_children': [10, 12],\n",
       "  'grades': {'skiing': 1, 'biking': 5}},\n",
       " {'_id': ObjectId('61c2ec37324ee292764b7fb7'),\n",
       "  'first_name': 'Marie',\n",
       "  'last_name': 'Curie',\n",
       "  'age': 25,\n",
       "  'gender': 'f',\n",
       "  'ages_of_children': [13],\n",
       "  'grades': {'skiing': 5, 'biking': 2}},\n",
       " {'_id': ObjectId('61c2ec37324ee292764b7fb8'),\n",
       "  'first_name': 'Julius',\n",
       "  'last_name': 'Cäsar',\n",
       "  'age': 29,\n",
       "  'gender': 'm',\n",
       "  'ages_of_children': [7, 7, 7],\n",
       "  'grades': {'skiing': 3, 'biking': 4}},\n",
       " {'_id': ObjectId('61c2ec37324ee292764b7fb9'),\n",
       "  'first_name': 'Hans',\n",
       "  'last_name': 'Dampf',\n",
       "  'age': 29,\n",
       "  'gender': 'm',\n",
       "  'ages_of_children': [0],\n",
       "  'grades': {'skiing': 6, 'biking': 6}}]"
      ]
     },
     "execution_count": 27,
     "metadata": {},
     "output_type": "execute_result"
    }
   ],
   "source": [
    "list_of_documents_new"
   ]
  },
  {
   "cell_type": "markdown",
   "metadata": {},
   "source": [
    "#### Convert this list into a pandas DataFrame"
   ]
  },
  {
   "cell_type": "code",
   "execution_count": 28,
   "metadata": {},
   "outputs": [],
   "source": [
    "import pandas as pd"
   ]
  },
  {
   "cell_type": "code",
   "execution_count": 29,
   "metadata": {},
   "outputs": [],
   "source": [
    "df = pd.DataFrame(list_of_documents_new)"
   ]
  },
  {
   "cell_type": "code",
   "execution_count": 30,
   "metadata": {
    "scrolled": true
   },
   "outputs": [
    {
     "data": {
      "text/html": [
       "<div>\n",
       "<style scoped>\n",
       "    .dataframe tbody tr th:only-of-type {\n",
       "        vertical-align: middle;\n",
       "    }\n",
       "\n",
       "    .dataframe tbody tr th {\n",
       "        vertical-align: top;\n",
       "    }\n",
       "\n",
       "    .dataframe thead th {\n",
       "        text-align: right;\n",
       "    }\n",
       "</style>\n",
       "<table border=\"1\" class=\"dataframe\">\n",
       "  <thead>\n",
       "    <tr style=\"text-align: right;\">\n",
       "      <th></th>\n",
       "      <th>_id</th>\n",
       "      <th>first_name</th>\n",
       "      <th>last_name</th>\n",
       "      <th>age</th>\n",
       "      <th>gender</th>\n",
       "      <th>ages_of_children</th>\n",
       "      <th>grades</th>\n",
       "    </tr>\n",
       "  </thead>\n",
       "  <tbody>\n",
       "    <tr>\n",
       "      <th>0</th>\n",
       "      <td>61c2ec37324ee292764b7fb6</td>\n",
       "      <td>Peter</td>\n",
       "      <td>Pan</td>\n",
       "      <td>26</td>\n",
       "      <td>m</td>\n",
       "      <td>[10, 12]</td>\n",
       "      <td>{'skiing': 1, 'biking': 5}</td>\n",
       "    </tr>\n",
       "    <tr>\n",
       "      <th>1</th>\n",
       "      <td>61c2ec37324ee292764b7fb7</td>\n",
       "      <td>Marie</td>\n",
       "      <td>Curie</td>\n",
       "      <td>25</td>\n",
       "      <td>f</td>\n",
       "      <td>[13]</td>\n",
       "      <td>{'skiing': 5, 'biking': 2}</td>\n",
       "    </tr>\n",
       "    <tr>\n",
       "      <th>2</th>\n",
       "      <td>61c2ec37324ee292764b7fb8</td>\n",
       "      <td>Julius</td>\n",
       "      <td>Cäsar</td>\n",
       "      <td>29</td>\n",
       "      <td>m</td>\n",
       "      <td>[7, 7, 7]</td>\n",
       "      <td>{'skiing': 3, 'biking': 4}</td>\n",
       "    </tr>\n",
       "    <tr>\n",
       "      <th>3</th>\n",
       "      <td>61c2ec37324ee292764b7fb9</td>\n",
       "      <td>Hans</td>\n",
       "      <td>Dampf</td>\n",
       "      <td>29</td>\n",
       "      <td>m</td>\n",
       "      <td>[0]</td>\n",
       "      <td>{'skiing': 6, 'biking': 6}</td>\n",
       "    </tr>\n",
       "  </tbody>\n",
       "</table>\n",
       "</div>"
      ],
      "text/plain": [
       "                        _id first_name last_name  age gender ages_of_children  \\\n",
       "0  61c2ec37324ee292764b7fb6      Peter       Pan   26      m         [10, 12]   \n",
       "1  61c2ec37324ee292764b7fb7      Marie     Curie   25      f             [13]   \n",
       "2  61c2ec37324ee292764b7fb8     Julius     Cäsar   29      m        [7, 7, 7]   \n",
       "3  61c2ec37324ee292764b7fb9       Hans     Dampf   29      m              [0]   \n",
       "\n",
       "                       grades  \n",
       "0  {'skiing': 1, 'biking': 5}  \n",
       "1  {'skiing': 5, 'biking': 2}  \n",
       "2  {'skiing': 3, 'biking': 4}  \n",
       "3  {'skiing': 6, 'biking': 6}  "
      ]
     },
     "execution_count": 30,
     "metadata": {},
     "output_type": "execute_result"
    }
   ],
   "source": [
    "df"
   ]
  },
  {
   "cell_type": "code",
   "execution_count": 33,
   "metadata": {},
   "outputs": [
    {
     "data": {
      "text/plain": [
       "[{'first_name': 'Peter',\n",
       "  'last_name': 'Pan',\n",
       "  'age': 26,\n",
       "  'gender': 'm',\n",
       "  'ages_of_children': [10, 12],\n",
       "  'grades': {'skiing': 1, 'biking': 5}},\n",
       " {'first_name': 'Marie',\n",
       "  'last_name': 'Curie',\n",
       "  'age': 25,\n",
       "  'gender': 'f',\n",
       "  'ages_of_children': [13],\n",
       "  'grades': {'skiing': 5, 'biking': 2}},\n",
       " {'first_name': 'Julius',\n",
       "  'last_name': 'Cäsar',\n",
       "  'age': 29,\n",
       "  'gender': 'm',\n",
       "  'ages_of_children': [7, 7, 7],\n",
       "  'grades': {'skiing': 3, 'biking': 4}},\n",
       " {'first_name': 'Hans',\n",
       "  'last_name': 'Dampf',\n",
       "  'age': 29,\n",
       "  'gender': 'm',\n",
       "  'ages_of_children': [0],\n",
       "  'grades': {'skiing': 6, 'biking': 6}}]"
      ]
     },
     "execution_count": 33,
     "metadata": {},
     "output_type": "execute_result"
    }
   ],
   "source": [
    "df.to_dict(\"records\")"
   ]
  },
  {
   "cell_type": "code",
   "execution_count": 32,
   "metadata": {},
   "outputs": [],
   "source": [
    "del df['_id']"
   ]
  },
  {
   "cell_type": "code",
   "execution_count": 34,
   "metadata": {},
   "outputs": [
    {
     "data": {
      "text/plain": [
       "<pymongo.results.InsertManyResult at 0x7f316cdbf200>"
      ]
     },
     "execution_count": 34,
     "metadata": {},
     "output_type": "execute_result"
    }
   ],
   "source": [
    "coll.insert_many(df.to_dict(\"records\"))"
   ]
  },
  {
   "cell_type": "markdown",
   "metadata": {},
   "source": [
    "#### Query specific documents within the collection by using a filter"
   ]
  },
  {
   "cell_type": "code",
   "execution_count": 35,
   "metadata": {},
   "outputs": [],
   "source": [
    "# filter\n",
    "query = {'last_name' : 'Curie'}\n",
    "cursor = coll.find(query)"
   ]
  },
  {
   "cell_type": "code",
   "execution_count": 36,
   "metadata": {},
   "outputs": [
    {
     "data": {
      "text/plain": [
       "{'_id': ObjectId('61c2ec37324ee292764b7fb7'),\n",
       " 'first_name': 'Marie',\n",
       " 'last_name': 'Curie',\n",
       " 'age': 25,\n",
       " 'gender': 'f',\n",
       " 'ages_of_children': [13],\n",
       " 'grades': {'skiing': 5, 'biking': 2}}"
      ]
     },
     "execution_count": 36,
     "metadata": {},
     "output_type": "execute_result"
    }
   ],
   "source": [
    "cursor.next()"
   ]
  },
  {
   "cell_type": "code",
   "execution_count": 37,
   "metadata": {},
   "outputs": [
    {
     "data": {
      "text/plain": [
       "[{'_id': ObjectId('61c2ec37324ee292764b7fb6'),\n",
       "  'first_name': 'Peter',\n",
       "  'last_name': 'Pan',\n",
       "  'age': 26,\n",
       "  'gender': 'm',\n",
       "  'ages_of_children': [10, 12],\n",
       "  'grades': {'skiing': 1, 'biking': 5}},\n",
       " {'_id': ObjectId('61c2ec37324ee292764b7fb8'),\n",
       "  'first_name': 'Julius',\n",
       "  'last_name': 'Cäsar',\n",
       "  'age': 29,\n",
       "  'gender': 'm',\n",
       "  'ages_of_children': [7, 7, 7],\n",
       "  'grades': {'skiing': 3, 'biking': 4}},\n",
       " {'_id': ObjectId('61c2ec37324ee292764b7fb9'),\n",
       "  'first_name': 'Hans',\n",
       "  'last_name': 'Dampf',\n",
       "  'age': 29,\n",
       "  'gender': 'm',\n",
       "  'ages_of_children': [0],\n",
       "  'grades': {'skiing': 6, 'biking': 6}},\n",
       " {'_id': ObjectId('61c2ed6d324ee292764b7fba'),\n",
       "  'first_name': 'Peter',\n",
       "  'last_name': 'Pan',\n",
       "  'age': 26,\n",
       "  'gender': 'm',\n",
       "  'ages_of_children': [10, 12],\n",
       "  'grades': {'skiing': 1, 'biking': 5}},\n",
       " {'_id': ObjectId('61c2ed6d324ee292764b7fbc'),\n",
       "  'first_name': 'Julius',\n",
       "  'last_name': 'Cäsar',\n",
       "  'age': 29,\n",
       "  'gender': 'm',\n",
       "  'ages_of_children': [7, 7, 7],\n",
       "  'grades': {'skiing': 3, 'biking': 4}},\n",
       " {'_id': ObjectId('61c2ed6d324ee292764b7fbd'),\n",
       "  'first_name': 'Hans',\n",
       "  'last_name': 'Dampf',\n",
       "  'age': 29,\n",
       "  'gender': 'm',\n",
       "  'ages_of_children': [0],\n",
       "  'grades': {'skiing': 6, 'biking': 6}}]"
      ]
     },
     "execution_count": 37,
     "metadata": {},
     "output_type": "execute_result"
    }
   ],
   "source": [
    "list(coll.find({'gender' : 'm'}))"
   ]
  },
  {
   "cell_type": "code",
   "execution_count": 38,
   "metadata": {},
   "outputs": [
    {
     "data": {
      "text/plain": [
       "[{'_id': ObjectId('61c2ec37324ee292764b7fb6'),\n",
       "  'first_name': 'Peter',\n",
       "  'last_name': 'Pan',\n",
       "  'age': 26,\n",
       "  'gender': 'm',\n",
       "  'ages_of_children': [10, 12],\n",
       "  'grades': {'skiing': 1, 'biking': 5}},\n",
       " {'_id': ObjectId('61c2ec37324ee292764b7fb7'),\n",
       "  'first_name': 'Marie',\n",
       "  'last_name': 'Curie',\n",
       "  'age': 25,\n",
       "  'gender': 'f',\n",
       "  'ages_of_children': [13],\n",
       "  'grades': {'skiing': 5, 'biking': 2}},\n",
       " {'_id': ObjectId('61c2ed6d324ee292764b7fba'),\n",
       "  'first_name': 'Peter',\n",
       "  'last_name': 'Pan',\n",
       "  'age': 26,\n",
       "  'gender': 'm',\n",
       "  'ages_of_children': [10, 12],\n",
       "  'grades': {'skiing': 1, 'biking': 5}},\n",
       " {'_id': ObjectId('61c2ed6d324ee292764b7fbb'),\n",
       "  'first_name': 'Marie',\n",
       "  'last_name': 'Curie',\n",
       "  'age': 25,\n",
       "  'gender': 'f',\n",
       "  'ages_of_children': [13],\n",
       "  'grades': {'skiing': 5, 'biking': 2}}]"
      ]
     },
     "execution_count": 38,
     "metadata": {},
     "output_type": "execute_result"
    }
   ],
   "source": [
    "list(coll.find({'age' : {\"$lt\" : 27}}))"
   ]
  },
  {
   "cell_type": "code",
   "execution_count": 39,
   "metadata": {},
   "outputs": [
    {
     "data": {
      "text/plain": [
       "[{'_id': ObjectId('61c2ec37324ee292764b7fb6'),\n",
       "  'first_name': 'Peter',\n",
       "  'last_name': 'Pan',\n",
       "  'age': 26,\n",
       "  'gender': 'm',\n",
       "  'ages_of_children': [10, 12],\n",
       "  'grades': {'skiing': 1, 'biking': 5}},\n",
       " {'_id': ObjectId('61c2ec37324ee292764b7fb7'),\n",
       "  'first_name': 'Marie',\n",
       "  'last_name': 'Curie',\n",
       "  'age': 25,\n",
       "  'gender': 'f',\n",
       "  'ages_of_children': [13],\n",
       "  'grades': {'skiing': 5, 'biking': 2}},\n",
       " {'_id': ObjectId('61c2ec37324ee292764b7fb8'),\n",
       "  'first_name': 'Julius',\n",
       "  'last_name': 'Cäsar',\n",
       "  'age': 29,\n",
       "  'gender': 'm',\n",
       "  'ages_of_children': [7, 7, 7],\n",
       "  'grades': {'skiing': 3, 'biking': 4}},\n",
       " {'_id': ObjectId('61c2ed6d324ee292764b7fba'),\n",
       "  'first_name': 'Peter',\n",
       "  'last_name': 'Pan',\n",
       "  'age': 26,\n",
       "  'gender': 'm',\n",
       "  'ages_of_children': [10, 12],\n",
       "  'grades': {'skiing': 1, 'biking': 5}},\n",
       " {'_id': ObjectId('61c2ed6d324ee292764b7fbb'),\n",
       "  'first_name': 'Marie',\n",
       "  'last_name': 'Curie',\n",
       "  'age': 25,\n",
       "  'gender': 'f',\n",
       "  'ages_of_children': [13],\n",
       "  'grades': {'skiing': 5, 'biking': 2}},\n",
       " {'_id': ObjectId('61c2ed6d324ee292764b7fbc'),\n",
       "  'first_name': 'Julius',\n",
       "  'last_name': 'Cäsar',\n",
       "  'age': 29,\n",
       "  'gender': 'm',\n",
       "  'ages_of_children': [7, 7, 7],\n",
       "  'grades': {'skiing': 3, 'biking': 4}}]"
      ]
     },
     "execution_count": 39,
     "metadata": {},
     "output_type": "execute_result"
    }
   ],
   "source": [
    "list(coll.find({'grades.skiing' : {\"$lt\" : 6}}))"
   ]
  },
  {
   "cell_type": "code",
   "execution_count": 40,
   "metadata": {},
   "outputs": [
    {
     "data": {
      "text/plain": [
       "[{'_id': ObjectId('61c2ec37324ee292764b7fb6'),\n",
       "  'first_name': 'Peter',\n",
       "  'last_name': 'Pan',\n",
       "  'age': 26,\n",
       "  'gender': 'm',\n",
       "  'ages_of_children': [10, 12],\n",
       "  'grades': {'skiing': 1, 'biking': 5}},\n",
       " {'_id': ObjectId('61c2ec37324ee292764b7fb8'),\n",
       "  'first_name': 'Julius',\n",
       "  'last_name': 'Cäsar',\n",
       "  'age': 29,\n",
       "  'gender': 'm',\n",
       "  'ages_of_children': [7, 7, 7],\n",
       "  'grades': {'skiing': 3, 'biking': 4}},\n",
       " {'_id': ObjectId('61c2ed6d324ee292764b7fba'),\n",
       "  'first_name': 'Peter',\n",
       "  'last_name': 'Pan',\n",
       "  'age': 26,\n",
       "  'gender': 'm',\n",
       "  'ages_of_children': [10, 12],\n",
       "  'grades': {'skiing': 1, 'biking': 5}},\n",
       " {'_id': ObjectId('61c2ed6d324ee292764b7fbc'),\n",
       "  'first_name': 'Julius',\n",
       "  'last_name': 'Cäsar',\n",
       "  'age': 29,\n",
       "  'gender': 'm',\n",
       "  'ages_of_children': [7, 7, 7],\n",
       "  'grades': {'skiing': 3, 'biking': 4}}]"
      ]
     },
     "execution_count": 40,
     "metadata": {},
     "output_type": "execute_result"
    }
   ],
   "source": [
    "list(coll.find({'grades.skiing' : {\"$lt\" : 6}, 'age' : {\"$gt\" : 25} }))"
   ]
  },
  {
   "cell_type": "markdown",
   "metadata": {},
   "source": [
    "#### Updating documents"
   ]
  },
  {
   "cell_type": "code",
   "execution_count": 43,
   "metadata": {},
   "outputs": [
    {
     "data": {
      "text/plain": [
       "<pymongo.results.UpdateResult at 0x7f316cd8a940>"
      ]
     },
     "execution_count": 43,
     "metadata": {},
     "output_type": "execute_result"
    }
   ],
   "source": [
    "coll.update_many({\"first_name\": \"Peter\"}, {'$set' : {'eye_color' : 'brown'}})"
   ]
  },
  {
   "cell_type": "code",
   "execution_count": null,
   "metadata": {
    "scrolled": true
   },
   "outputs": [],
   "source": [
    "list(coll.find({}))"
   ]
  },
  {
   "cell_type": "code",
   "execution_count": null,
   "metadata": {},
   "outputs": [],
   "source": [
    "import datetime as dt\n",
    "from dateutil.relativedelta import relativedelta\n",
    "now = dt.datetime.now()\n",
    "now"
   ]
  },
  {
   "cell_type": "code",
   "execution_count": null,
   "metadata": {},
   "outputs": [],
   "source": [
    "for doc in coll.find({}):\n",
    "    coll.update_one({'_id' : doc['_id']}, {'$set' : {'birthday' : now - relativedelta(years = doc['age'])}})   "
   ]
  },
  {
   "cell_type": "code",
   "execution_count": null,
   "metadata": {},
   "outputs": [],
   "source": [
    "df = pd.DataFrame(list(coll.find({})))"
   ]
  },
  {
   "cell_type": "markdown",
   "metadata": {},
   "source": [
    "#### Removing documents"
   ]
  },
  {
   "cell_type": "code",
   "execution_count": null,
   "metadata": {},
   "outputs": [],
   "source": [
    "df.shape"
   ]
  },
  {
   "cell_type": "code",
   "execution_count": null,
   "metadata": {},
   "outputs": [],
   "source": [
    "coll.delete_many({'age' : 129})"
   ]
  },
  {
   "cell_type": "code",
   "execution_count": null,
   "metadata": {},
   "outputs": [],
   "source": [
    "list(coll.find({}))"
   ]
  },
  {
   "cell_type": "code",
   "execution_count": null,
   "metadata": {},
   "outputs": [],
   "source": [
    "coll.update_many({'first_name' : 'Marie'},{\"$push\" : {'ages_of_children' : 2}})"
   ]
  },
  {
   "cell_type": "code",
   "execution_count": null,
   "metadata": {},
   "outputs": [],
   "source": [
    "list(coll.find({'first_name' : 'Marie'}))"
   ]
  },
  {
   "cell_type": "code",
   "execution_count": null,
   "metadata": {},
   "outputs": [],
   "source": [
    "coll.update_many({'first_name' : 'Marie'},{\"$push\" : {'ages_of_children' : { \"$each\": [ 11, 14 ] } }})"
   ]
  },
  {
   "cell_type": "code",
   "execution_count": null,
   "metadata": {},
   "outputs": [],
   "source": [
    "coll.find_one({'first_name' : 'Marie'})"
   ]
  },
  {
   "cell_type": "code",
   "execution_count": null,
   "metadata": {},
   "outputs": [],
   "source": [
    "coll.update_one({'first_name' : 'Marie'},{\"$push\" : {'ages_of_children' : 14}})"
   ]
  },
  {
   "cell_type": "code",
   "execution_count": null,
   "metadata": {},
   "outputs": [],
   "source": [
    "coll.find_one({'first_name' : 'Marie'})"
   ]
  },
  {
   "cell_type": "code",
   "execution_count": null,
   "metadata": {},
   "outputs": [],
   "source": [
    "coll.update_one({'first_name' : 'Marie'},{\"$pull\" : {'ages_of_children' : 14}})"
   ]
  },
  {
   "cell_type": "code",
   "execution_count": null,
   "metadata": {},
   "outputs": [],
   "source": [
    "coll.find_one({'first_name' : 'Marie'})"
   ]
  },
  {
   "cell_type": "code",
   "execution_count": null,
   "metadata": {},
   "outputs": [],
   "source": [
    "coll.update_one({'first_name' : 'Marie'},{\"$addToSet\" : {'ages_of_children' : 14}})"
   ]
  },
  {
   "cell_type": "code",
   "execution_count": null,
   "metadata": {},
   "outputs": [],
   "source": [
    "coll.find_one({'first_name' : 'Marie'})"
   ]
  },
  {
   "cell_type": "code",
   "execution_count": null,
   "metadata": {},
   "outputs": [],
   "source": [
    "coll.update_one({'first_name' : 'Marie'},{\"$addToSet\" : {'ages_of_children' : 14}})"
   ]
  },
  {
   "cell_type": "code",
   "execution_count": null,
   "metadata": {},
   "outputs": [],
   "source": [
    "coll.find_one({'first_name' : 'Marie'})"
   ]
  },
  {
   "cell_type": "markdown",
   "metadata": {},
   "source": [
    "#### Getting a file using gridfs"
   ]
  },
  {
   "cell_type": "code",
   "execution_count": null,
   "metadata": {},
   "outputs": [],
   "source": [
    "from gridfs import GridFS"
   ]
  },
  {
   "cell_type": "code",
   "execution_count": null,
   "metadata": {},
   "outputs": [],
   "source": [
    "db_dldemo = client['dldemo'] "
   ]
  },
  {
   "cell_type": "code",
   "execution_count": null,
   "metadata": {},
   "outputs": [],
   "source": [
    "db_dldemo.list_collection_names()"
   ]
  },
  {
   "cell_type": "code",
   "execution_count": null,
   "metadata": {},
   "outputs": [],
   "source": [
    "fs = GridFS(db_dldemo)"
   ]
  },
  {
   "cell_type": "code",
   "execution_count": null,
   "metadata": {},
   "outputs": [],
   "source": [
    "filenames = fs.list()"
   ]
  },
  {
   "cell_type": "code",
   "execution_count": null,
   "metadata": {},
   "outputs": [],
   "source": [
    "file_name = filenames[0]"
   ]
  },
  {
   "cell_type": "code",
   "execution_count": null,
   "metadata": {},
   "outputs": [],
   "source": [
    "from io import BytesIO\n"
   ]
  },
  {
   "cell_type": "code",
   "execution_count": null,
   "metadata": {},
   "outputs": [],
   "source": [
    "fh = fs.get_last_version(file_name)"
   ]
  },
  {
   "cell_type": "code",
   "execution_count": null,
   "metadata": {},
   "outputs": [],
   "source": [
    "body = BytesIO(fh.read())\n",
    "body.seek(0)"
   ]
  },
  {
   "cell_type": "code",
   "execution_count": null,
   "metadata": {},
   "outputs": [],
   "source": [
    "df = pd.read_excel(body, header=None)"
   ]
  },
  {
   "cell_type": "code",
   "execution_count": null,
   "metadata": {},
   "outputs": [],
   "source": [
    "df"
   ]
  },
  {
   "cell_type": "code",
   "execution_count": null,
   "metadata": {},
   "outputs": [],
   "source": []
  }
 ],
 "metadata": {
  "kernelspec": {
   "display_name": "Python 3 (ipykernel)",
   "language": "python",
   "name": "python3"
  },
  "language_info": {
   "codemirror_mode": {
    "name": "ipython",
    "version": 3
   },
   "file_extension": ".py",
   "mimetype": "text/x-python",
   "name": "python",
   "nbconvert_exporter": "python",
   "pygments_lexer": "ipython3",
   "version": "3.8.6"
  }
 },
 "nbformat": 4,
 "nbformat_minor": 2
}
