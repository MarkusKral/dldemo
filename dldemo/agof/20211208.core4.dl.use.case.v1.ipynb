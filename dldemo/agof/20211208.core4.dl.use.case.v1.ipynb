{
 "cells": [
  {
   "cell_type": "code",
   "execution_count": 2,
   "metadata": {
    "scrolled": true
   },
   "outputs": [],
   "source": [
    "url = \"https://www.agof.de/service-downloads/downloadcenter/download-daily-digital-facts/\""
   ]
  },
  {
   "cell_type": "code",
   "execution_count": 3,
   "metadata": {
    "scrolled": true
   },
   "outputs": [],
   "source": [
    "import requests"
   ]
  },
  {
   "cell_type": "code",
   "execution_count": 4,
   "metadata": {
    "scrolled": true
   },
   "outputs": [],
   "source": [
    "rv = requests.get(url)"
   ]
  },
  {
   "cell_type": "code",
   "execution_count": 5,
   "metadata": {
    "scrolled": true
   },
   "outputs": [],
   "source": [
    "body = rv.content.decode(\"utf-8\")"
   ]
  },
  {
   "cell_type": "code",
   "execution_count": 6,
   "metadata": {
    "scrolled": true
   },
   "outputs": [
    {
     "data": {
      "text/plain": [
       "str"
      ]
     },
     "execution_count": 6,
     "metadata": {},
     "output_type": "execute_result"
    }
   ],
   "source": [
    "type(body)"
   ]
  },
  {
   "cell_type": "code",
   "execution_count": 8,
   "metadata": {
    "scrolled": true
   },
   "outputs": [],
   "source": [
    "#body"
   ]
  },
  {
   "cell_type": "code",
   "execution_count": 14,
   "metadata": {
    "scrolled": true
   },
   "outputs": [],
   "source": [
    "from bs4 import BeautifulSoup"
   ]
  },
  {
   "cell_type": "code",
   "execution_count": 15,
   "metadata": {
    "scrolled": true
   },
   "outputs": [],
   "source": [
    "soup = BeautifulSoup(body, \"html.parser\")"
   ]
  },
  {
   "cell_type": "code",
   "execution_count": 20,
   "metadata": {
    "scrolled": true
   },
   "outputs": [],
   "source": [
    "tables_list = soup.find_all(\"tr\")"
   ]
  },
  {
   "cell_type": "code",
   "execution_count": 24,
   "metadata": {
    "scrolled": true
   },
   "outputs": [
    {
     "data": {
      "text/plain": [
       "<tr><td><a href=\"https://www.agof.de/?wpfb_dl=8558\" target=\"_blank\">ddf_Oktober_2021_Angebote_Ranking_Internet</a></td><td>pdf</td><td>279.6 KB</td></tr>"
      ]
     },
     "execution_count": 24,
     "metadata": {},
     "output_type": "execute_result"
    }
   ],
   "source": [
    "tables_list[3]"
   ]
  },
  {
   "cell_type": "code",
   "execution_count": 25,
   "metadata": {
    "scrolled": true
   },
   "outputs": [],
   "source": [
    "first_tag = tables_list[1]"
   ]
  },
  {
   "cell_type": "code",
   "execution_count": 26,
   "metadata": {
    "scrolled": true
   },
   "outputs": [
    {
     "data": {
      "text/plain": [
       "'ddf_Oktober_2021_Angebote_Ranking_Digitalxlsx49.0 KB'"
      ]
     },
     "execution_count": 26,
     "metadata": {},
     "output_type": "execute_result"
    }
   ],
   "source": [
    "first_tag.text"
   ]
  },
  {
   "cell_type": "code",
   "execution_count": 27,
   "metadata": {
    "scrolled": true
   },
   "outputs": [],
   "source": [
    "links = [item for item in tables_list if \"Angebote Ranking\" in item.text]"
   ]
  },
  {
   "cell_type": "code",
   "execution_count": 28,
   "metadata": {
    "scrolled": true
   },
   "outputs": [],
   "source": [
    "\n",
    "links_list = [item for item in links if \"xlsx\" in item.text]"
   ]
  },
  {
   "cell_type": "code",
   "execution_count": 32,
   "metadata": {
    "scrolled": true
   },
   "outputs": [
    {
     "data": {
      "text/plain": [
       "'<tr><td><a href=\"https://www.agof.de/?wpfb_dl=8254\" target=\"_blank\">Ddf März 2021 Angebote Ranking Digital</a></td><td>xlsx</td><td>50.5 KB</td></tr>'"
      ]
     },
     "execution_count": 32,
     "metadata": {},
     "output_type": "execute_result"
    }
   ],
   "source": [
    "str(links_list[0])"
   ]
  },
  {
   "cell_type": "code",
   "execution_count": 33,
   "metadata": {
    "scrolled": true
   },
   "outputs": [
    {
     "data": {
      "text/plain": [
       "['https://www.agof.de/?wpfb_dl=8254']"
      ]
     },
     "execution_count": 33,
     "metadata": {},
     "output_type": "execute_result"
    }
   ],
   "source": [
    "import re\n",
    "re.findall(\"href=[\\\"\\'](.+?)[\\\"\\']\", str(links_list[0]))"
   ]
  },
  {
   "cell_type": "code",
   "execution_count": 34,
   "metadata": {
    "scrolled": true
   },
   "outputs": [],
   "source": [
    "\n",
    "xls = []\n",
    "for i in links_list:\n",
    "    xls.append(re.findall(\"href=[\\\"\\'](.+?)[\\\"\\']\", str(i))[0])\n"
   ]
  },
  {
   "cell_type": "code",
   "execution_count": 35,
   "metadata": {
    "scrolled": true
   },
   "outputs": [
    {
     "data": {
      "text/plain": [
       "['https://www.agof.de/?wpfb_dl=8254',\n",
       " 'https://www.agof.de/?wpfb_dl=8249',\n",
       " 'https://www.agof.de/?wpfb_dl=8248',\n",
       " 'https://www.agof.de/?wpfb_dl=8222',\n",
       " 'https://www.agof.de/?wpfb_dl=8220',\n",
       " 'https://www.agof.de/?wpfb_dl=8231',\n",
       " 'https://www.agof.de/?wpfb_dl=8186',\n",
       " 'https://www.agof.de/?wpfb_dl=8191',\n",
       " 'https://www.agof.de/?wpfb_dl=8188',\n",
       " 'https://www.agof.de/?wpfb_dl=8150',\n",
       " 'https://www.agof.de/?wpfb_dl=8159',\n",
       " 'https://www.agof.de/?wpfb_dl=8164',\n",
       " 'https://www.agof.de/?wpfb_dl=8122',\n",
       " 'https://www.agof.de/?wpfb_dl=8131',\n",
       " 'https://www.agof.de/?wpfb_dl=8124',\n",
       " 'https://www.agof.de/?wpfb_dl=8088',\n",
       " 'https://www.agof.de/?wpfb_dl=8096',\n",
       " 'https://www.agof.de/?wpfb_dl=8093',\n",
       " 'https://www.agof.de/?wpfb_dl=8053',\n",
       " 'https://www.agof.de/?wpfb_dl=8054',\n",
       " 'https://www.agof.de/?wpfb_dl=8057',\n",
       " 'https://www.agof.de/?wpfb_dl=8021',\n",
       " 'https://www.agof.de/?wpfb_dl=8014',\n",
       " 'https://www.agof.de/?wpfb_dl=8020',\n",
       " 'https://www.agof.de/?wpfb_dl=7984',\n",
       " 'https://www.agof.de/?wpfb_dl=7978',\n",
       " 'https://www.agof.de/?wpfb_dl=7981',\n",
       " 'https://www.agof.de/?wpfb_dl=7938',\n",
       " 'https://www.agof.de/?wpfb_dl=7943',\n",
       " 'https://www.agof.de/?wpfb_dl=7951',\n",
       " 'https://www.agof.de/?wpfb_dl=7924',\n",
       " 'https://www.agof.de/?wpfb_dl=7923',\n",
       " 'https://www.agof.de/?wpfb_dl=7914',\n",
       " 'https://www.agof.de/?wpfb_dl=7871',\n",
       " 'https://www.agof.de/?wpfb_dl=7878',\n",
       " 'https://www.agof.de/?wpfb_dl=7901',\n",
       " 'https://www.agof.de/?wpfb_dl=7842',\n",
       " 'https://www.agof.de/?wpfb_dl=7840',\n",
       " 'https://www.agof.de/?wpfb_dl=7841',\n",
       " 'https://www.agof.de/?wpfb_dl=7764',\n",
       " 'https://www.agof.de/?wpfb_dl=7773',\n",
       " 'https://www.agof.de/?wpfb_dl=7772',\n",
       " 'https://www.agof.de/?wpfb_dl=7736',\n",
       " 'https://www.agof.de/?wpfb_dl=7741',\n",
       " 'https://www.agof.de/?wpfb_dl=7738',\n",
       " 'https://www.agof.de/?wpfb_dl=7711',\n",
       " 'https://www.agof.de/?wpfb_dl=7705',\n",
       " 'https://www.agof.de/?wpfb_dl=7708',\n",
       " 'https://www.agof.de/?wpfb_dl=7686',\n",
       " 'https://www.agof.de/?wpfb_dl=7689',\n",
       " 'https://www.agof.de/?wpfb_dl=7680',\n",
       " 'https://www.agof.de/?wpfb_dl=7636',\n",
       " 'https://www.agof.de/?wpfb_dl=7633',\n",
       " 'https://www.agof.de/?wpfb_dl=7644',\n",
       " 'https://www.agof.de/?wpfb_dl=7619',\n",
       " 'https://www.agof.de/?wpfb_dl=7614',\n",
       " 'https://www.agof.de/?wpfb_dl=7620',\n",
       " 'https://www.agof.de/?wpfb_dl=7584',\n",
       " 'https://www.agof.de/?wpfb_dl=7583',\n",
       " 'https://www.agof.de/?wpfb_dl=7582',\n",
       " 'https://www.agof.de/?wpfb_dl=7561',\n",
       " 'https://www.agof.de/?wpfb_dl=7560',\n",
       " 'https://www.agof.de/?wpfb_dl=7556',\n",
       " 'https://www.agof.de/?wpfb_dl=7519',\n",
       " 'https://www.agof.de/?wpfb_dl=7514',\n",
       " 'https://www.agof.de/?wpfb_dl=7517',\n",
       " 'https://www.agof.de/?wpfb_dl=7497',\n",
       " 'https://www.agof.de/?wpfb_dl=7487',\n",
       " 'https://www.agof.de/?wpfb_dl=7492',\n",
       " 'https://www.agof.de/?wpfb_dl=7453',\n",
       " 'https://www.agof.de/?wpfb_dl=7443',\n",
       " 'https://www.agof.de/?wpfb_dl=7444',\n",
       " 'https://www.agof.de/?wpfb_dl=7424',\n",
       " 'https://www.agof.de/?wpfb_dl=7419',\n",
       " 'https://www.agof.de/?wpfb_dl=7423',\n",
       " 'https://www.agof.de/?wpfb_dl=7389',\n",
       " 'https://www.agof.de/?wpfb_dl=7380',\n",
       " 'https://www.agof.de/?wpfb_dl=7391',\n",
       " 'https://www.agof.de/?wpfb_dl=7350',\n",
       " 'https://www.agof.de/?wpfb_dl=7353',\n",
       " 'https://www.agof.de/?wpfb_dl=7351',\n",
       " 'https://www.agof.de/?wpfb_dl=7295',\n",
       " 'https://www.agof.de/?wpfb_dl=7305',\n",
       " 'https://www.agof.de/?wpfb_dl=7297',\n",
       " 'https://www.agof.de/?wpfb_dl=7270',\n",
       " 'https://www.agof.de/?wpfb_dl=7272',\n",
       " 'https://www.agof.de/?wpfb_dl=7265',\n",
       " 'https://www.agof.de/?wpfb_dl=7239',\n",
       " 'https://www.agof.de/?wpfb_dl=7233',\n",
       " 'https://www.agof.de/?wpfb_dl=7232',\n",
       " 'https://www.agof.de/?wpfb_dl=7213',\n",
       " 'https://www.agof.de/?wpfb_dl=7207',\n",
       " 'https://www.agof.de/?wpfb_dl=7204',\n",
       " 'https://www.agof.de/?wpfb_dl=7169',\n",
       " 'https://www.agof.de/?wpfb_dl=7175',\n",
       " 'https://www.agof.de/?wpfb_dl=7177',\n",
       " 'https://www.agof.de/?wpfb_dl=7098',\n",
       " 'https://www.agof.de/?wpfb_dl=7095',\n",
       " 'https://www.agof.de/?wpfb_dl=7107',\n",
       " 'https://www.agof.de/?wpfb_dl=7060',\n",
       " 'https://www.agof.de/?wpfb_dl=7054',\n",
       " 'https://www.agof.de/?wpfb_dl=7063',\n",
       " 'https://www.agof.de/?wpfb_dl=7023',\n",
       " 'https://www.agof.de/?wpfb_dl=7021',\n",
       " 'https://www.agof.de/?wpfb_dl=7027',\n",
       " 'https://www.agof.de/?wpfb_dl=6987',\n",
       " 'https://www.agof.de/?wpfb_dl=6996',\n",
       " 'https://www.agof.de/?wpfb_dl=6983',\n",
       " 'https://www.agof.de/?wpfb_dl=6973',\n",
       " 'https://www.agof.de/?wpfb_dl=6974',\n",
       " 'https://www.agof.de/?wpfb_dl=6971',\n",
       " 'https://www.agof.de/?wpfb_dl=6936',\n",
       " 'https://www.agof.de/?wpfb_dl=6939',\n",
       " 'https://www.agof.de/?wpfb_dl=6933',\n",
       " 'https://www.agof.de/?wpfb_dl=6906',\n",
       " 'https://www.agof.de/?wpfb_dl=6914',\n",
       " 'https://www.agof.de/?wpfb_dl=6901',\n",
       " 'https://www.agof.de/?wpfb_dl=6858',\n",
       " 'https://www.agof.de/?wpfb_dl=6857',\n",
       " 'https://www.agof.de/?wpfb_dl=6856',\n",
       " 'https://www.agof.de/?wpfb_dl=6824',\n",
       " 'https://www.agof.de/?wpfb_dl=6822',\n",
       " 'https://www.agof.de/?wpfb_dl=6833',\n",
       " 'https://www.agof.de/?wpfb_dl=6800',\n",
       " 'https://www.agof.de/?wpfb_dl=6804',\n",
       " 'https://www.agof.de/?wpfb_dl=6799',\n",
       " 'https://www.agof.de/?wpfb_dl=6771',\n",
       " 'https://www.agof.de/?wpfb_dl=6765',\n",
       " 'https://www.agof.de/?wpfb_dl=6768',\n",
       " 'https://www.agof.de/?wpfb_dl=6749',\n",
       " 'https://www.agof.de/?wpfb_dl=6738',\n",
       " 'https://www.agof.de/?wpfb_dl=6745',\n",
       " 'https://www.agof.de/?wpfb_dl=6697',\n",
       " 'https://www.agof.de/?wpfb_dl=6706',\n",
       " 'https://www.agof.de/?wpfb_dl=6710']"
      ]
     },
     "execution_count": 35,
     "metadata": {},
     "output_type": "execute_result"
    }
   ],
   "source": [
    "xls"
   ]
  },
  {
   "cell_type": "code",
   "execution_count": 19,
   "metadata": {
    "scrolled": true
   },
   "outputs": [
    {
     "data": {
      "text/plain": [
       "'https://www.agof.de/?wpfb_dl=8254'"
      ]
     },
     "execution_count": 19,
     "metadata": {},
     "output_type": "execute_result"
    }
   ],
   "source": [
    "xls[0]"
   ]
  },
  {
   "cell_type": "code",
   "execution_count": 36,
   "metadata": {
    "scrolled": true
   },
   "outputs": [
    {
     "data": {
      "text/plain": [
       "135"
      ]
     },
     "execution_count": 36,
     "metadata": {},
     "output_type": "execute_result"
    }
   ],
   "source": [
    "len(xls)"
   ]
  },
  {
   "cell_type": "code",
   "execution_count": 38,
   "metadata": {
    "scrolled": true
   },
   "outputs": [],
   "source": [
    "# process the first item, then create a loop to process a couple more\n",
    "rv = requests.get(xls[0])"
   ]
  },
  {
   "cell_type": "code",
   "execution_count": 39,
   "metadata": {
    "scrolled": true
   },
   "outputs": [
    {
     "data": {
      "text/plain": [
       "50537"
      ]
     },
     "execution_count": 39,
     "metadata": {},
     "output_type": "execute_result"
    }
   ],
   "source": [
    "open(\"/tmp/test.xlsx\", \"wb\").write(rv.content)"
   ]
  },
  {
   "cell_type": "code",
   "execution_count": 41,
   "metadata": {
    "scrolled": true
   },
   "outputs": [],
   "source": [
    "import pandas as pd\n",
    "#df2 = pd.read_excel(\"/tmp/test.xlsx\", skiprows = 8) #- also possible but we loose meta data"
   ]
  },
  {
   "cell_type": "code",
   "execution_count": 42,
   "metadata": {
    "scrolled": true
   },
   "outputs": [],
   "source": [
    "# read data without skipping rows and find out the start\n",
    "df = pd.read_excel(\"/tmp/test.xlsx\", header=None)"
   ]
  },
  {
   "cell_type": "code",
   "execution_count": 43,
   "metadata": {
    "scrolled": true
   },
   "outputs": [
    {
     "data": {
      "text/plain": [
       "(422, 7)"
      ]
     },
     "execution_count": 43,
     "metadata": {},
     "output_type": "execute_result"
    }
   ],
   "source": [
    "df.shape"
   ]
  },
  {
   "cell_type": "code",
   "execution_count": 45,
   "metadata": {
    "scrolled": true
   },
   "outputs": [
    {
     "data": {
      "text/html": [
       "<div>\n",
       "<style scoped>\n",
       "    .dataframe tbody tr th:only-of-type {\n",
       "        vertical-align: middle;\n",
       "    }\n",
       "\n",
       "    .dataframe tbody tr th {\n",
       "        vertical-align: top;\n",
       "    }\n",
       "\n",
       "    .dataframe thead th {\n",
       "        text-align: right;\n",
       "    }\n",
       "</style>\n",
       "<table border=\"1\" class=\"dataframe\">\n",
       "  <thead>\n",
       "    <tr style=\"text-align: right;\">\n",
       "      <th></th>\n",
       "      <th>0</th>\n",
       "      <th>1</th>\n",
       "      <th>2</th>\n",
       "      <th>3</th>\n",
       "      <th>4</th>\n",
       "      <th>5</th>\n",
       "      <th>6</th>\n",
       "    </tr>\n",
       "  </thead>\n",
       "  <tbody>\n",
       "    <tr>\n",
       "      <th>0</th>\n",
       "      <td>Analyse</td>\n",
       "      <td>daily digital facts 08.04.2021 / Rangreihe</td>\n",
       "      <td>NaN</td>\n",
       "      <td>NaN</td>\n",
       "      <td>NaN</td>\n",
       "      <td>NaN</td>\n",
       "      <td>NaN</td>\n",
       "    </tr>\n",
       "    <tr>\n",
       "      <th>1</th>\n",
       "      <td>Grundgesamtheit</td>\n",
       "      <td>16 Jahre und älter</td>\n",
       "      <td>NaN</td>\n",
       "      <td>NaN</td>\n",
       "      <td>NaN</td>\n",
       "      <td>NaN</td>\n",
       "      <td>NaN</td>\n",
       "    </tr>\n",
       "    <tr>\n",
       "      <th>2</th>\n",
       "      <td>Zeitraum</td>\n",
       "      <td>Letzter Monat (März 2021)</td>\n",
       "      <td>NaN</td>\n",
       "      <td>NaN</td>\n",
       "      <td>NaN</td>\n",
       "      <td>NaN</td>\n",
       "      <td>NaN</td>\n",
       "    </tr>\n",
       "    <tr>\n",
       "      <th>3</th>\n",
       "      <td>Vorfilter</td>\n",
       "      <td>Nutzer mobiler und/oder stationärer Angebote (...</td>\n",
       "      <td>NaN</td>\n",
       "      <td>NaN</td>\n",
       "      <td>NaN</td>\n",
       "      <td>NaN</td>\n",
       "      <td>NaN</td>\n",
       "    </tr>\n",
       "    <tr>\n",
       "      <th>4</th>\n",
       "      <td>NaN</td>\n",
       "      <td>(279.781 ungew. Fälle, 280.507 gew. Fälle, 61,...</td>\n",
       "      <td>NaN</td>\n",
       "      <td>NaN</td>\n",
       "      <td>NaN</td>\n",
       "      <td>NaN</td>\n",
       "      <td>NaN</td>\n",
       "    </tr>\n",
       "    <tr>\n",
       "      <th>5</th>\n",
       "      <td>Zielgruppe</td>\n",
       "      <td>Gesamt</td>\n",
       "      <td>NaN</td>\n",
       "      <td>NaN</td>\n",
       "      <td>NaN</td>\n",
       "      <td>NaN</td>\n",
       "      <td>NaN</td>\n",
       "    </tr>\n",
       "    <tr>\n",
       "      <th>6</th>\n",
       "      <td>NaN</td>\n",
       "      <td>(279.781 ungew. Fälle, 280.507 gew. Fälle, 61,...</td>\n",
       "      <td>NaN</td>\n",
       "      <td>NaN</td>\n",
       "      <td>NaN</td>\n",
       "      <td>NaN</td>\n",
       "      <td>NaN</td>\n",
       "    </tr>\n",
       "    <tr>\n",
       "      <th>7</th>\n",
       "      <td>NaN</td>\n",
       "      <td>NaN</td>\n",
       "      <td>NaN</td>\n",
       "      <td>NaN</td>\n",
       "      <td>NaN</td>\n",
       "      <td>NaN</td>\n",
       "      <td>NaN</td>\n",
       "    </tr>\n",
       "    <tr>\n",
       "      <th>8</th>\n",
       "      <td>NaN</td>\n",
       "      <td>Medientyp</td>\n",
       "      <td>Ungew. Fälle\\nauf Basis\\nGesamt 16+</td>\n",
       "      <td>Fälle (ungew.)\\nauf Basis\\nZG/Vorfilter</td>\n",
       "      <td>Unique User\\n%</td>\n",
       "      <td>Unique User\\nMio</td>\n",
       "      <td>Kontakte\\nMio</td>\n",
       "    </tr>\n",
       "    <tr>\n",
       "      <th>9</th>\n",
       "      <td>Basis</td>\n",
       "      <td>NaN</td>\n",
       "      <td>0</td>\n",
       "      <td>279781</td>\n",
       "      <td>100</td>\n",
       "      <td>61.17</td>\n",
       "      <td>NaN</td>\n",
       "    </tr>\n",
       "    <tr>\n",
       "      <th>10</th>\n",
       "      <td>ebay Kleinanzeigen</td>\n",
       "      <td>Digitales Gesamtangebot</td>\n",
       "      <td>0</td>\n",
       "      <td>204530</td>\n",
       "      <td>65.6</td>\n",
       "      <td>40.14</td>\n",
       "      <td>13836.26</td>\n",
       "    </tr>\n",
       "    <tr>\n",
       "      <th>11</th>\n",
       "      <td>t-online</td>\n",
       "      <td>Digitales Gesamtangebot</td>\n",
       "      <td>0</td>\n",
       "      <td>166282</td>\n",
       "      <td>51.2</td>\n",
       "      <td>31.34</td>\n",
       "      <td>1911.29</td>\n",
       "    </tr>\n",
       "    <tr>\n",
       "      <th>12</th>\n",
       "      <td>FOCUS Online</td>\n",
       "      <td>Digitales Gesamtangebot</td>\n",
       "      <td>0</td>\n",
       "      <td>142662</td>\n",
       "      <td>44.4</td>\n",
       "      <td>27.17</td>\n",
       "      <td>526.58</td>\n",
       "    </tr>\n",
       "    <tr>\n",
       "      <th>13</th>\n",
       "      <td>DER SPIEGEL SPM</td>\n",
       "      <td>Digitales Gesamtangebot</td>\n",
       "      <td>0</td>\n",
       "      <td>143586</td>\n",
       "      <td>43.9</td>\n",
       "      <td>26.85</td>\n",
       "      <td>747.81</td>\n",
       "    </tr>\n",
       "    <tr>\n",
       "      <th>14</th>\n",
       "      <td>N-TV IPD</td>\n",
       "      <td>Digitales Gesamtangebot</td>\n",
       "      <td>0</td>\n",
       "      <td>143649</td>\n",
       "      <td>43.6</td>\n",
       "      <td>26.66</td>\n",
       "      <td>1070.84</td>\n",
       "    </tr>\n",
       "    <tr>\n",
       "      <th>15</th>\n",
       "      <td>WELT.de</td>\n",
       "      <td>Digitales Gesamtangebot</td>\n",
       "      <td>0</td>\n",
       "      <td>135225</td>\n",
       "      <td>41.7</td>\n",
       "      <td>25.53</td>\n",
       "      <td>325.28</td>\n",
       "    </tr>\n",
       "    <tr>\n",
       "      <th>16</th>\n",
       "      <td>BILD</td>\n",
       "      <td>Digitales Gesamtangebot</td>\n",
       "      <td>0</td>\n",
       "      <td>134461</td>\n",
       "      <td>40</td>\n",
       "      <td>24.5</td>\n",
       "      <td>1487.66</td>\n",
       "    </tr>\n",
       "    <tr>\n",
       "      <th>17</th>\n",
       "      <td>CHIP</td>\n",
       "      <td>Digitales Gesamtangebot</td>\n",
       "      <td>0</td>\n",
       "      <td>123253</td>\n",
       "      <td>37.9</td>\n",
       "      <td>23.16</td>\n",
       "      <td>94.96</td>\n",
       "    </tr>\n",
       "    <tr>\n",
       "      <th>18</th>\n",
       "      <td>WEB.DE</td>\n",
       "      <td>Digitales Gesamtangebot</td>\n",
       "      <td>0</td>\n",
       "      <td>115462</td>\n",
       "      <td>34.6</td>\n",
       "      <td>21.16</td>\n",
       "      <td>3642.81</td>\n",
       "    </tr>\n",
       "    <tr>\n",
       "      <th>19</th>\n",
       "      <td>RTL IPD</td>\n",
       "      <td>Digitales Gesamtangebot</td>\n",
       "      <td>0</td>\n",
       "      <td>114704</td>\n",
       "      <td>33.8</td>\n",
       "      <td>20.7</td>\n",
       "      <td>172.22</td>\n",
       "    </tr>\n",
       "  </tbody>\n",
       "</table>\n",
       "</div>"
      ],
      "text/plain": [
       "                     0                                                  1  \\\n",
       "0              Analyse         daily digital facts 08.04.2021 / Rangreihe   \n",
       "1      Grundgesamtheit                                 16 Jahre und älter   \n",
       "2             Zeitraum                         Letzter Monat (März 2021)    \n",
       "3            Vorfilter  Nutzer mobiler und/oder stationärer Angebote (...   \n",
       "4                  NaN  (279.781 ungew. Fälle, 280.507 gew. Fälle, 61,...   \n",
       "5           Zielgruppe                                             Gesamt   \n",
       "6                  NaN  (279.781 ungew. Fälle, 280.507 gew. Fälle, 61,...   \n",
       "7                  NaN                                                NaN   \n",
       "8                  NaN                                          Medientyp   \n",
       "9                Basis                                                NaN   \n",
       "10  ebay Kleinanzeigen                            Digitales Gesamtangebot   \n",
       "11            t-online                            Digitales Gesamtangebot   \n",
       "12        FOCUS Online                            Digitales Gesamtangebot   \n",
       "13     DER SPIEGEL SPM                            Digitales Gesamtangebot   \n",
       "14            N-TV IPD                            Digitales Gesamtangebot   \n",
       "15             WELT.de                            Digitales Gesamtangebot   \n",
       "16                BILD                            Digitales Gesamtangebot   \n",
       "17                CHIP                            Digitales Gesamtangebot   \n",
       "18              WEB.DE                            Digitales Gesamtangebot   \n",
       "19             RTL IPD                            Digitales Gesamtangebot   \n",
       "\n",
       "                                      2  \\\n",
       "0                                   NaN   \n",
       "1                                   NaN   \n",
       "2                                   NaN   \n",
       "3                                   NaN   \n",
       "4                                   NaN   \n",
       "5                                   NaN   \n",
       "6                                   NaN   \n",
       "7                                   NaN   \n",
       "8   Ungew. Fälle\\nauf Basis\\nGesamt 16+   \n",
       "9                                     0   \n",
       "10                                    0   \n",
       "11                                    0   \n",
       "12                                    0   \n",
       "13                                    0   \n",
       "14                                    0   \n",
       "15                                    0   \n",
       "16                                    0   \n",
       "17                                    0   \n",
       "18                                    0   \n",
       "19                                    0   \n",
       "\n",
       "                                          3               4                 5  \\\n",
       "0                                       NaN             NaN               NaN   \n",
       "1                                       NaN             NaN               NaN   \n",
       "2                                       NaN             NaN               NaN   \n",
       "3                                       NaN             NaN               NaN   \n",
       "4                                       NaN             NaN               NaN   \n",
       "5                                       NaN             NaN               NaN   \n",
       "6                                       NaN             NaN               NaN   \n",
       "7                                       NaN             NaN               NaN   \n",
       "8   Fälle (ungew.)\\nauf Basis\\nZG/Vorfilter  Unique User\\n%  Unique User\\nMio   \n",
       "9                                    279781             100             61.17   \n",
       "10                                   204530            65.6             40.14   \n",
       "11                                   166282            51.2             31.34   \n",
       "12                                   142662            44.4             27.17   \n",
       "13                                   143586            43.9             26.85   \n",
       "14                                   143649            43.6             26.66   \n",
       "15                                   135225            41.7             25.53   \n",
       "16                                   134461              40              24.5   \n",
       "17                                   123253            37.9             23.16   \n",
       "18                                   115462            34.6             21.16   \n",
       "19                                   114704            33.8              20.7   \n",
       "\n",
       "                6  \n",
       "0             NaN  \n",
       "1             NaN  \n",
       "2             NaN  \n",
       "3             NaN  \n",
       "4             NaN  \n",
       "5             NaN  \n",
       "6             NaN  \n",
       "7             NaN  \n",
       "8   Kontakte\\nMio  \n",
       "9             NaN  \n",
       "10       13836.26  \n",
       "11        1911.29  \n",
       "12         526.58  \n",
       "13         747.81  \n",
       "14        1070.84  \n",
       "15         325.28  \n",
       "16        1487.66  \n",
       "17          94.96  \n",
       "18        3642.81  \n",
       "19         172.22  "
      ]
     },
     "execution_count": 45,
     "metadata": {},
     "output_type": "execute_result"
    }
   ],
   "source": [
    "df.head(20)"
   ]
  },
  {
   "cell_type": "code",
   "execution_count": 46,
   "metadata": {
    "scrolled": true
   },
   "outputs": [],
   "source": [
    "assert df.iloc[0, 0] == \"Analyse\"\n",
    "analyse = df.iloc[0, 1]\n",
    "assert df.iloc[1, 0] == \"Grundgesamtheit\"\n",
    "grundgesamtheit = df.iloc[1, 1]\n",
    "assert df.iloc[2, 0] == \"Zeitraum\"\n",
    "zeitraum = df.iloc[2, 1]\n",
    "assert df.iloc[3, 0] == \"Vorfilter\"\n",
    "vorfilter = df.iloc[3, 1]\n",
    "vorfilter_fallzahl = df.iloc[4, 1]\n",
    "assert df.iloc[5, 0] == \"Zielgruppe\"\n",
    "zielgruppe = df.iloc[5, 1]\n",
    "zielgruppe_fallzahl = df.iloc[6, 1]"
   ]
  },
  {
   "cell_type": "code",
   "execution_count": 47,
   "metadata": {
    "scrolled": true
   },
   "outputs": [],
   "source": [
    "ln = 7\n",
    "while df.iloc[ln, 0] != \"Basis\":\n",
    "    ln += 1\n",
    "    if ln > 1000:\n",
    "        raise  RuntimeError(\"failed to identify start of data\")"
   ]
  },
  {
   "cell_type": "code",
   "execution_count": 48,
   "metadata": {
    "scrolled": true
   },
   "outputs": [
    {
     "data": {
      "text/plain": [
       "9"
      ]
     },
     "execution_count": 48,
     "metadata": {},
     "output_type": "execute_result"
    }
   ],
   "source": [
    "ln"
   ]
  },
  {
   "cell_type": "code",
   "execution_count": 49,
   "metadata": {
    "scrolled": true
   },
   "outputs": [],
   "source": [
    "dframe = df.iloc[ln:].copy()"
   ]
  },
  {
   "cell_type": "code",
   "execution_count": 50,
   "metadata": {
    "scrolled": true
   },
   "outputs": [
    {
     "data": {
      "text/html": [
       "<div>\n",
       "<style scoped>\n",
       "    .dataframe tbody tr th:only-of-type {\n",
       "        vertical-align: middle;\n",
       "    }\n",
       "\n",
       "    .dataframe tbody tr th {\n",
       "        vertical-align: top;\n",
       "    }\n",
       "\n",
       "    .dataframe thead th {\n",
       "        text-align: right;\n",
       "    }\n",
       "</style>\n",
       "<table border=\"1\" class=\"dataframe\">\n",
       "  <thead>\n",
       "    <tr style=\"text-align: right;\">\n",
       "      <th></th>\n",
       "      <th>0</th>\n",
       "      <th>1</th>\n",
       "      <th>2</th>\n",
       "      <th>3</th>\n",
       "      <th>4</th>\n",
       "      <th>5</th>\n",
       "      <th>6</th>\n",
       "    </tr>\n",
       "  </thead>\n",
       "  <tbody>\n",
       "    <tr>\n",
       "      <th>9</th>\n",
       "      <td>Basis</td>\n",
       "      <td>NaN</td>\n",
       "      <td>0</td>\n",
       "      <td>279781</td>\n",
       "      <td>100</td>\n",
       "      <td>61.17</td>\n",
       "      <td>NaN</td>\n",
       "    </tr>\n",
       "    <tr>\n",
       "      <th>10</th>\n",
       "      <td>ebay Kleinanzeigen</td>\n",
       "      <td>Digitales Gesamtangebot</td>\n",
       "      <td>0</td>\n",
       "      <td>204530</td>\n",
       "      <td>65.6</td>\n",
       "      <td>40.14</td>\n",
       "      <td>13836.26</td>\n",
       "    </tr>\n",
       "    <tr>\n",
       "      <th>11</th>\n",
       "      <td>t-online</td>\n",
       "      <td>Digitales Gesamtangebot</td>\n",
       "      <td>0</td>\n",
       "      <td>166282</td>\n",
       "      <td>51.2</td>\n",
       "      <td>31.34</td>\n",
       "      <td>1911.29</td>\n",
       "    </tr>\n",
       "    <tr>\n",
       "      <th>12</th>\n",
       "      <td>FOCUS Online</td>\n",
       "      <td>Digitales Gesamtangebot</td>\n",
       "      <td>0</td>\n",
       "      <td>142662</td>\n",
       "      <td>44.4</td>\n",
       "      <td>27.17</td>\n",
       "      <td>526.58</td>\n",
       "    </tr>\n",
       "    <tr>\n",
       "      <th>13</th>\n",
       "      <td>DER SPIEGEL SPM</td>\n",
       "      <td>Digitales Gesamtangebot</td>\n",
       "      <td>0</td>\n",
       "      <td>143586</td>\n",
       "      <td>43.9</td>\n",
       "      <td>26.85</td>\n",
       "      <td>747.81</td>\n",
       "    </tr>\n",
       "  </tbody>\n",
       "</table>\n",
       "</div>"
      ],
      "text/plain": [
       "                     0                        1  2       3     4      5  \\\n",
       "9                Basis                      NaN  0  279781   100  61.17   \n",
       "10  ebay Kleinanzeigen  Digitales Gesamtangebot  0  204530  65.6  40.14   \n",
       "11            t-online  Digitales Gesamtangebot  0  166282  51.2  31.34   \n",
       "12        FOCUS Online  Digitales Gesamtangebot  0  142662  44.4  27.17   \n",
       "13     DER SPIEGEL SPM  Digitales Gesamtangebot  0  143586  43.9  26.85   \n",
       "\n",
       "           6  \n",
       "9        NaN  \n",
       "10  13836.26  \n",
       "11   1911.29  \n",
       "12    526.58  \n",
       "13    747.81  "
      ]
     },
     "execution_count": 50,
     "metadata": {},
     "output_type": "execute_result"
    }
   ],
   "source": [
    "dframe.head()"
   ]
  },
  {
   "cell_type": "code",
   "execution_count": 51,
   "metadata": {
    "scrolled": true
   },
   "outputs": [],
   "source": [
    "dframe = df.iloc[ln:].copy()\n",
    "cols = list(df.iloc[ln-1])\n",
    "cols[0] = \"Titel\"\n",
    "dframe.columns = [\"\" if pd.isnull(c)\n",
    "             else c.replace(\"\\n\", \" \").replace(\".\", \"\") for c in cols]\n",
    "if \"\" in dframe.columns:\n",
    "    dframe.drop([\"\"], axis=1, inplace=True)\n",
    "dframe[\"Analyse\"] = analyse\n",
    "dframe[\"Grundgesamtheit\"] = grundgesamtheit\n",
    "dframe[\"Zeitraum\"] = zeitraum\n",
    "dframe[\"Vorfilter\"] = vorfilter\n",
    "dframe[\"Zielgruppe\"] = zielgruppe"
   ]
  },
  {
   "cell_type": "code",
   "execution_count": 52,
   "metadata": {
    "scrolled": true
   },
   "outputs": [
    {
     "data": {
      "text/html": [
       "<div>\n",
       "<style scoped>\n",
       "    .dataframe tbody tr th:only-of-type {\n",
       "        vertical-align: middle;\n",
       "    }\n",
       "\n",
       "    .dataframe tbody tr th {\n",
       "        vertical-align: top;\n",
       "    }\n",
       "\n",
       "    .dataframe thead th {\n",
       "        text-align: right;\n",
       "    }\n",
       "</style>\n",
       "<table border=\"1\" class=\"dataframe\">\n",
       "  <thead>\n",
       "    <tr style=\"text-align: right;\">\n",
       "      <th></th>\n",
       "      <th>Titel</th>\n",
       "      <th>Medientyp</th>\n",
       "      <th>Ungew Fälle auf Basis Gesamt 16+</th>\n",
       "      <th>Fälle (ungew) auf Basis ZG/Vorfilter</th>\n",
       "      <th>Unique User %</th>\n",
       "      <th>Unique User Mio</th>\n",
       "      <th>Kontakte Mio</th>\n",
       "      <th>Analyse</th>\n",
       "      <th>Grundgesamtheit</th>\n",
       "      <th>Zeitraum</th>\n",
       "      <th>Vorfilter</th>\n",
       "      <th>Zielgruppe</th>\n",
       "    </tr>\n",
       "  </thead>\n",
       "  <tbody>\n",
       "    <tr>\n",
       "      <th>9</th>\n",
       "      <td>Basis</td>\n",
       "      <td>NaN</td>\n",
       "      <td>0</td>\n",
       "      <td>279781</td>\n",
       "      <td>100</td>\n",
       "      <td>61.17</td>\n",
       "      <td>NaN</td>\n",
       "      <td>daily digital facts 08.04.2021 / Rangreihe</td>\n",
       "      <td>16 Jahre und älter</td>\n",
       "      <td>Letzter Monat (März 2021)</td>\n",
       "      <td>Nutzer mobiler und/oder stationärer Angebote (...</td>\n",
       "      <td>Gesamt</td>\n",
       "    </tr>\n",
       "    <tr>\n",
       "      <th>10</th>\n",
       "      <td>ebay Kleinanzeigen</td>\n",
       "      <td>Digitales Gesamtangebot</td>\n",
       "      <td>0</td>\n",
       "      <td>204530</td>\n",
       "      <td>65.6</td>\n",
       "      <td>40.14</td>\n",
       "      <td>13836.26</td>\n",
       "      <td>daily digital facts 08.04.2021 / Rangreihe</td>\n",
       "      <td>16 Jahre und älter</td>\n",
       "      <td>Letzter Monat (März 2021)</td>\n",
       "      <td>Nutzer mobiler und/oder stationärer Angebote (...</td>\n",
       "      <td>Gesamt</td>\n",
       "    </tr>\n",
       "    <tr>\n",
       "      <th>11</th>\n",
       "      <td>t-online</td>\n",
       "      <td>Digitales Gesamtangebot</td>\n",
       "      <td>0</td>\n",
       "      <td>166282</td>\n",
       "      <td>51.2</td>\n",
       "      <td>31.34</td>\n",
       "      <td>1911.29</td>\n",
       "      <td>daily digital facts 08.04.2021 / Rangreihe</td>\n",
       "      <td>16 Jahre und älter</td>\n",
       "      <td>Letzter Monat (März 2021)</td>\n",
       "      <td>Nutzer mobiler und/oder stationärer Angebote (...</td>\n",
       "      <td>Gesamt</td>\n",
       "    </tr>\n",
       "    <tr>\n",
       "      <th>12</th>\n",
       "      <td>FOCUS Online</td>\n",
       "      <td>Digitales Gesamtangebot</td>\n",
       "      <td>0</td>\n",
       "      <td>142662</td>\n",
       "      <td>44.4</td>\n",
       "      <td>27.17</td>\n",
       "      <td>526.58</td>\n",
       "      <td>daily digital facts 08.04.2021 / Rangreihe</td>\n",
       "      <td>16 Jahre und älter</td>\n",
       "      <td>Letzter Monat (März 2021)</td>\n",
       "      <td>Nutzer mobiler und/oder stationärer Angebote (...</td>\n",
       "      <td>Gesamt</td>\n",
       "    </tr>\n",
       "    <tr>\n",
       "      <th>13</th>\n",
       "      <td>DER SPIEGEL SPM</td>\n",
       "      <td>Digitales Gesamtangebot</td>\n",
       "      <td>0</td>\n",
       "      <td>143586</td>\n",
       "      <td>43.9</td>\n",
       "      <td>26.85</td>\n",
       "      <td>747.81</td>\n",
       "      <td>daily digital facts 08.04.2021 / Rangreihe</td>\n",
       "      <td>16 Jahre und älter</td>\n",
       "      <td>Letzter Monat (März 2021)</td>\n",
       "      <td>Nutzer mobiler und/oder stationärer Angebote (...</td>\n",
       "      <td>Gesamt</td>\n",
       "    </tr>\n",
       "  </tbody>\n",
       "</table>\n",
       "</div>"
      ],
      "text/plain": [
       "                 Titel                Medientyp  \\\n",
       "9                Basis                      NaN   \n",
       "10  ebay Kleinanzeigen  Digitales Gesamtangebot   \n",
       "11            t-online  Digitales Gesamtangebot   \n",
       "12        FOCUS Online  Digitales Gesamtangebot   \n",
       "13     DER SPIEGEL SPM  Digitales Gesamtangebot   \n",
       "\n",
       "   Ungew Fälle auf Basis Gesamt 16+ Fälle (ungew) auf Basis ZG/Vorfilter  \\\n",
       "9                                 0                               279781   \n",
       "10                                0                               204530   \n",
       "11                                0                               166282   \n",
       "12                                0                               142662   \n",
       "13                                0                               143586   \n",
       "\n",
       "   Unique User % Unique User Mio Kontakte Mio  \\\n",
       "9            100           61.17          NaN   \n",
       "10          65.6           40.14     13836.26   \n",
       "11          51.2           31.34      1911.29   \n",
       "12          44.4           27.17       526.58   \n",
       "13          43.9           26.85       747.81   \n",
       "\n",
       "                                       Analyse     Grundgesamtheit  \\\n",
       "9   daily digital facts 08.04.2021 / Rangreihe  16 Jahre und älter   \n",
       "10  daily digital facts 08.04.2021 / Rangreihe  16 Jahre und älter   \n",
       "11  daily digital facts 08.04.2021 / Rangreihe  16 Jahre und älter   \n",
       "12  daily digital facts 08.04.2021 / Rangreihe  16 Jahre und älter   \n",
       "13  daily digital facts 08.04.2021 / Rangreihe  16 Jahre und älter   \n",
       "\n",
       "                      Zeitraum  \\\n",
       "9   Letzter Monat (März 2021)    \n",
       "10  Letzter Monat (März 2021)    \n",
       "11  Letzter Monat (März 2021)    \n",
       "12  Letzter Monat (März 2021)    \n",
       "13  Letzter Monat (März 2021)    \n",
       "\n",
       "                                            Vorfilter Zielgruppe  \n",
       "9   Nutzer mobiler und/oder stationärer Angebote (...     Gesamt  \n",
       "10  Nutzer mobiler und/oder stationärer Angebote (...     Gesamt  \n",
       "11  Nutzer mobiler und/oder stationärer Angebote (...     Gesamt  \n",
       "12  Nutzer mobiler und/oder stationärer Angebote (...     Gesamt  \n",
       "13  Nutzer mobiler und/oder stationärer Angebote (...     Gesamt  "
      ]
     },
     "execution_count": 52,
     "metadata": {},
     "output_type": "execute_result"
    }
   ],
   "source": [
    "dframe.head()"
   ]
  },
  {
   "cell_type": "code",
   "execution_count": 53,
   "metadata": {
    "scrolled": true
   },
   "outputs": [
    {
     "data": {
      "text/plain": [
       "Letzter Monat (März 2021)     413\n",
       "Name: Zeitraum, dtype: int64"
      ]
     },
     "execution_count": 53,
     "metadata": {},
     "output_type": "execute_result"
    }
   ],
   "source": [
    "dframe.Zeitraum.value_counts()"
   ]
  },
  {
   "cell_type": "code",
   "execution_count": 55,
   "metadata": {
    "scrolled": true
   },
   "outputs": [],
   "source": [
    "def process(df):\n",
    "    assert df.iloc[0, 0] == \"Analyse\"\n",
    "    analyse = df.iloc[0, 1]\n",
    "    assert df.iloc[1, 0] == \"Grundgesamtheit\"\n",
    "    grundgesamtheit = df.iloc[1, 1]\n",
    "    assert df.iloc[2, 0] == \"Zeitraum\"\n",
    "    zeitraum = df.iloc[2, 1]\n",
    "    assert df.iloc[3, 0] == \"Vorfilter\"\n",
    "    vorfilter = df.iloc[3, 1]\n",
    "    vorfilter_fallzahl = df.iloc[4, 1]\n",
    "    assert df.iloc[5, 0] == \"Zielgruppe\"\n",
    "    zielgruppe = df.iloc[5, 1]\n",
    "    zielgruppe_fallzahl = df.iloc[6, 1]\n",
    "    ln = 7\n",
    "    while df.iloc[ln, 0] != \"Basis\":\n",
    "        ln += 1\n",
    "        if ln > 1000:\n",
    "            raise  RuntimeError(\"failed to identify start of data\")\n",
    "    d = df.iloc[ln:].copy()\n",
    "    cols = list(df.iloc[ln-1])\n",
    "    cols[0] = \"Titel\"\n",
    "    d.columns = [\"\" if pd.isnull(c)\n",
    "                 else c.replace(\"\\n\", \" \").replace(\".\", \"\") for c in cols]\n",
    "    if \"\" in d.columns:\n",
    "        d.drop([\"\"], axis=1, inplace=True)\n",
    "    d[\"Analyse\"] = analyse\n",
    "    d[\"Grundgesamtheit\"] = grundgesamtheit\n",
    "    d[\"Zeitraum\"] = zeitraum\n",
    "    d[\"Vorfilter\"] = vorfilter\n",
    "    d[\"Zielgruppe\"] = zielgruppe\n",
    "    return(d)\n",
    "    "
   ]
  },
  {
   "cell_type": "code",
   "execution_count": 57,
   "metadata": {
    "scrolled": true
   },
   "outputs": [],
   "source": [
    "fin_df = list()\n",
    "fin_df.append(dframe)\n",
    "for i in range(1,30):\n",
    "    rv = requests.get(xls[i])\n",
    "    open(\"/tmp/test\"+str(i)+\".xlsx\", \"wb\").write(rv.content)\n",
    "    df = pd.read_excel(\"/tmp/test\"+str(i)+\".xlsx\", header=None)\n",
    "    df_processed = process(df)\n",
    "    fin_df.append(df_processed)\n",
    "    \n",
    "fin_df = pd.concat(fin_df)"
   ]
  },
  {
   "cell_type": "code",
   "execution_count": 58,
   "metadata": {
    "scrolled": true
   },
   "outputs": [
    {
     "data": {
      "text/plain": [
       "(11258, 12)"
      ]
     },
     "execution_count": 58,
     "metadata": {},
     "output_type": "execute_result"
    }
   ],
   "source": [
    "fin_df.shape"
   ]
  },
  {
   "cell_type": "code",
   "execution_count": 59,
   "metadata": {
    "scrolled": true
   },
   "outputs": [
    {
     "data": {
      "text/plain": [
       "Letzter Monat (Juni 2020)          1171\n",
       "Letzter Monat (Juli 2020)          1162\n",
       "Letzter Monat (August 2020)        1160\n",
       "Letzter Monat (September 2020)     1155\n",
       "Letzter Monat (Dezember 2020)      1131\n",
       "Letzter Monat (November 2020)      1130\n",
       "Letzter Monat (Oktober 2020)       1125\n",
       "Letzter Monat (Januar 2021)        1078\n",
       "Letzter Monat (März 2021)          1076\n",
       "Letzter Monat (Februar 2021)       1070\n",
       "Name: Zeitraum, dtype: int64"
      ]
     },
     "execution_count": 59,
     "metadata": {},
     "output_type": "execute_result"
    }
   ],
   "source": [
    "fin_df.Zeitraum.value_counts()"
   ]
  },
  {
   "cell_type": "code",
   "execution_count": 60,
   "metadata": {
    "scrolled": true
   },
   "outputs": [],
   "source": [
    "import datetime\n",
    "MONAT = {\n",
    "    \"Januar\": \"01\",\n",
    "    \"Februar\": \"02\",\n",
    "    \"März\": \"03\",\n",
    "    \"April\": \"04\",\n",
    "    \"Mai\": \"05\",\n",
    "    \"Juni\": \"06\",\n",
    "    \"Juli\": \"07\",\n",
    "    \"August\": \"08\",\n",
    "    \"September\": \"09\",\n",
    "    \"Oktober\": \"10\",\n",
    "    \"November\": \"11\",\n",
    "    \"Dezember\": \"12\"\n",
    "}\n",
    "monat = fin_df.Zeitraum.apply(lambda s: s.replace(\"Letzter Monat (\", \"\").replace(\")\", \"\").split())"
   ]
  },
  {
   "cell_type": "code",
   "execution_count": 61,
   "metadata": {
    "scrolled": true
   },
   "outputs": [
    {
     "data": {
      "text/plain": [
       "pandas.core.series.Series"
      ]
     },
     "execution_count": 61,
     "metadata": {},
     "output_type": "execute_result"
    }
   ],
   "source": [
    "type(monat)"
   ]
  },
  {
   "cell_type": "code",
   "execution_count": 62,
   "metadata": {
    "scrolled": true
   },
   "outputs": [
    {
     "data": {
      "text/plain": [
       "9     [März, 2021]\n",
       "10    [März, 2021]\n",
       "11    [März, 2021]\n",
       "12    [März, 2021]\n",
       "13    [März, 2021]\n",
       "Name: Zeitraum, dtype: object"
      ]
     },
     "execution_count": 62,
     "metadata": {},
     "output_type": "execute_result"
    }
   ],
   "source": [
    "monat.head()"
   ]
  },
  {
   "cell_type": "code",
   "execution_count": 63,
   "metadata": {
    "scrolled": true
   },
   "outputs": [],
   "source": [
    "fin_df[\"Monat\"] = [datetime.datetime.strptime(\"01.\" + MONAT[m[0]] + \".\" + m[1], \"%d.%m.%Y\") for m in monat]"
   ]
  },
  {
   "cell_type": "code",
   "execution_count": 64,
   "metadata": {
    "scrolled": true
   },
   "outputs": [],
   "source": [
    "fin_df[\"val\"] = fin_df[\"Kontakte Mio\"].apply(pd.to_numeric, errors='coerce')\n",
    "fin_df['Date'] = fin_df.Monat.apply(lambda x: x.date().isoformat())"
   ]
  },
  {
   "cell_type": "code",
   "execution_count": 66,
   "metadata": {
    "scrolled": true
   },
   "outputs": [],
   "source": [
    "%matplotlib notebook\n",
    "import matplotlib.pyplot as plt"
   ]
  },
  {
   "cell_type": "code",
   "execution_count": 67,
   "metadata": {
    "scrolled": true
   },
   "outputs": [
    {
     "data": {
      "text/plain": [
       "<IPython.core.display.Javascript object>"
      ]
     },
     "metadata": {},
     "output_type": "display_data"
    },
    {
     "data": {
      "text/html": [
       "<img src=\"data:image/png;base64,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\" width=\"640\">"
      ],
      "text/plain": [
       "<IPython.core.display.HTML object>"
      ]
     },
     "metadata": {},
     "output_type": "execute_result"
    }
   ],
   "source": [
    "import numpy as np\n",
    "fin_df = fin_df.replace(np.nan,0)\n",
    "g = fin_df.groupby([\"Date\"]).val.sum()\n",
    "g.plot.bar()\n",
    "plt.ylabel(\"Contacts\")\n",
    "plt.tight_layout()"
   ]
  },
  {
   "cell_type": "code",
   "execution_count": 68,
   "metadata": {
    "scrolled": true
   },
   "outputs": [
    {
     "data": {
      "text/plain": [
       "Index(['Titel', 'Medientyp', 'Ungew Fälle auf Basis Gesamt 16+',\n",
       "       'Fälle (ungew) auf Basis ZG/Vorfilter', 'Unique User %',\n",
       "       'Unique User Mio', 'Kontakte Mio', 'Analyse', 'Grundgesamtheit',\n",
       "       'Zeitraum', 'Vorfilter', 'Zielgruppe', 'Monat', 'val', 'Date'],\n",
       "      dtype='object')"
      ]
     },
     "execution_count": 68,
     "metadata": {},
     "output_type": "execute_result"
    }
   ],
   "source": [
    "fin_df.columns"
   ]
  },
  {
   "cell_type": "code",
   "execution_count": 69,
   "metadata": {
    "scrolled": true
   },
   "outputs": [
    {
     "data": {
      "text/plain": [
       "array([0, 'Digitales Gesamtangebot', 'Website Angebot',\n",
       "       'Mobiles Gesamtangebot'], dtype=object)"
      ]
     },
     "execution_count": 69,
     "metadata": {},
     "output_type": "execute_result"
    }
   ],
   "source": [
    "fin_df.Medientyp.unique()"
   ]
  },
  {
   "cell_type": "code",
   "execution_count": 70,
   "metadata": {
    "scrolled": true
   },
   "outputs": [
    {
     "data": {
      "text/plain": [
       "<IPython.core.display.Javascript object>"
      ]
     },
     "metadata": {},
     "output_type": "display_data"
    },
    {
     "data": {
      "text/html": [
       "<img src=\"data:image/png;base64,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\" width=\"640\">"
      ],
      "text/plain": [
       "<IPython.core.display.HTML object>"
      ]
     },
     "metadata": {},
     "output_type": "execute_result"
    }
   ],
   "source": [
    "%matplotlib notebook\n",
    "df_new = fin_df[fin_df.Medientyp != 0]\n",
    "g1 = df_new.groupby([\"Medientyp\"]).val.sum()\n",
    "g1.plot.bar()\n",
    "plt.ylabel(\"Contacts\")\n",
    "plt.xticks(rotation='horizontal')\n",
    "plt.tight_layout()"
   ]
  },
  {
   "cell_type": "code",
   "execution_count": 71,
   "metadata": {
    "scrolled": true
   },
   "outputs": [
    {
     "data": {
      "text/plain": [
       "['Digitales Gesamtangebot', 'Mobiles Gesamtangebot', 'Website Angebot']"
      ]
     },
     "execution_count": 71,
     "metadata": {},
     "output_type": "execute_result"
    }
   ],
   "source": [
    "list(g1.index)"
   ]
  },
  {
   "cell_type": "code",
   "execution_count": 72,
   "metadata": {
    "scrolled": false
   },
   "outputs": [
    {
     "data": {
      "text/plain": [
       "<IPython.core.display.Javascript object>"
      ]
     },
     "metadata": {},
     "output_type": "display_data"
    },
    {
     "data": {
      "text/html": [
       "<img src=\"data:image/png;base64,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\" width=\"700\">"
      ],
      "text/plain": [
       "<IPython.core.display.HTML object>"
      ]
     },
     "metadata": {},
     "output_type": "execute_result"
    }
   ],
   "source": [
    "%matplotlib notebook\n",
    "\n",
    "df_new = fin_df[fin_df.Medientyp != 0]\n",
    "# Monthly contacts for each media group\n",
    "g1 = df_new.groupby([\"Date\",\"Medientyp\"]).val.sum().unstack()\n",
    "# contact of different media group per month\n",
    "# g1 = df_new.groupby([\"Date\",\"Medientyp\"]).val.sum().unstack(0)\n",
    "plt.rcParams[\"figure.figsize\"] = [7,7]\n",
    "g1.plot.bar(rot=45)\n",
    "\n",
    "plt.ylabel(\"Contacts\")\n",
    "plt.legend(fontsize='small')\n",
    "plt.tight_layout()"
   ]
  },
  {
   "cell_type": "code",
   "execution_count": null,
   "metadata": {
    "scrolled": true
   },
   "outputs": [],
   "source": []
  },
  {
   "cell_type": "code",
   "execution_count": null,
   "metadata": {
    "scrolled": true
   },
   "outputs": [],
   "source": []
  }
 ],
 "metadata": {
  "kernelspec": {
   "display_name": "Python 3 (ipykernel)",
   "language": "python",
   "name": "python3"
  },
  "language_info": {
   "codemirror_mode": {
    "name": "ipython",
    "version": 3
   },
   "file_extension": ".py",
   "mimetype": "text/x-python",
   "name": "python",
   "nbconvert_exporter": "python",
   "pygments_lexer": "ipython3",
   "version": "3.8.6"
  }
 },
 "nbformat": 4,
 "nbformat_minor": 2
}
